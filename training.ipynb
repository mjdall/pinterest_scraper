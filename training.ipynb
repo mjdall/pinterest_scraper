{
  "nbformat": 4,
  "nbformat_minor": 0,
  "metadata": {
    "colab": {
      "name": "training.ipynb",
      "provenance": [],
      "collapsed_sections": [],
      "mount_file_id": "1br34xJAqM97TXA5P1DncH41v6H7Yu9SA",
      "authorship_tag": "ABX9TyN2cq2ekZVPy+TeJzxm5Y6/",
      "include_colab_link": true
    },
    "kernelspec": {
      "display_name": "Python 3",
      "name": "python3"
    },
    "language_info": {
      "name": "python"
    }
  },
  "cells": [
    {
      "cell_type": "markdown",
      "metadata": {
        "id": "view-in-github",
        "colab_type": "text"
      },
      "source": [
        "<a href=\"https://colab.research.google.com/github/mjdall/pinterest_scraper/blob/master/training.ipynb\" target=\"_parent\"><img src=\"https://colab.research.google.com/assets/colab-badge.svg\" alt=\"Open In Colab\"/></a>"
      ]
    },
    {
      "cell_type": "code",
      "metadata": {
        "colab": {
          "base_uri": "https://localhost:8080/",
          "height": 71
        },
        "id": "8QghOTQMoMSF",
        "outputId": "4fa08bf0-4a9e-4fe9-bc0a-79a3d57573f8"
      },
      "source": [
        "\"\"\"\n",
        "efficient net paper - https://ai.googleblog.com/2019/05/efficientnet-improving-accuracy-and.html\n",
        "efficient net fine tuning - https://keras.io/examples/vision/image_classification_efficientnet_fine_tuning/\n",
        "efficient net implementation - https://github.com/qubvel/efficientnet\n",
        "transfer learning example - https://www.tensorflow.org/tutorials/images/transfer_learning\n",
        "classification head - https://machinelearningmastery.com/multi-class-classification-tutorial-keras-deep-learning-library/\n",
        "image embeddings - https://rom1504.medium.com/image-embeddings-ed1b194d113e\n",
        "  https://github.com/rom1504/image_embeddings/blob/master/notebooks/using_the_lib.ipynb\n",
        "  https://github.com/rom1504/image_embeddings/blob/master/notebooks/from_scratch.ipynb\n",
        "\n",
        "\"\"\""
      ],
      "execution_count": 1,
      "outputs": [
        {
          "output_type": "execute_result",
          "data": {
            "application/vnd.google.colaboratory.intrinsic+json": {
              "type": "string"
            },
            "text/plain": [
              "'\\nefficient net paper - https://ai.googleblog.com/2019/05/efficientnet-improving-accuracy-and.html\\nefficient net fine tuning - https://keras.io/examples/vision/image_classification_efficientnet_fine_tuning/\\nefficient net implementation - https://github.com/qubvel/efficientnet\\ntransfer learning example - https://www.tensorflow.org/tutorials/images/transfer_learning\\nclassification head - https://machinelearningmastery.com/multi-class-classification-tutorial-keras-deep-learning-library/\\nimage embeddings - https://rom1504.medium.com/image-embeddings-ed1b194d113e\\n  https://github.com/rom1504/image_embeddings/blob/master/notebooks/using_the_lib.ipynb\\n  https://github.com/rom1504/image_embeddings/blob/master/notebooks/from_scratch.ipynb\\n\\n'"
            ]
          },
          "metadata": {
            "tags": []
          },
          "execution_count": 1
        }
      ]
    },
    {
      "cell_type": "code",
      "metadata": {
        "colab": {
          "base_uri": "https://localhost:8080/"
        },
        "id": "9SXbAwQWEfHq",
        "outputId": "8c1bfd56-f146-4768-a636-8d9791f19c02"
      },
      "source": [
        "!pip install umap-learn"
      ],
      "execution_count": 76,
      "outputs": [
        {
          "output_type": "stream",
          "text": [
            "Collecting umap-learn\n",
            "\u001b[?25l  Downloading https://files.pythonhosted.org/packages/75/69/85e7f950bb75792ad5d666d86c5f3e62eedbb942848e7e3126513af9999c/umap-learn-0.5.1.tar.gz (80kB)\n",
            "\u001b[K     |████████████████████████████████| 81kB 6.7MB/s \n",
            "\u001b[?25hRequirement already satisfied: numpy>=1.17 in /usr/local/lib/python3.7/dist-packages (from umap-learn) (1.19.5)\n",
            "Requirement already satisfied: scikit-learn>=0.22 in /usr/local/lib/python3.7/dist-packages (from umap-learn) (0.22.2.post1)\n",
            "Requirement already satisfied: scipy>=1.0 in /usr/local/lib/python3.7/dist-packages (from umap-learn) (1.4.1)\n",
            "Requirement already satisfied: numba>=0.49 in /usr/local/lib/python3.7/dist-packages (from umap-learn) (0.51.2)\n",
            "Collecting pynndescent>=0.5\n",
            "\u001b[?25l  Downloading https://files.pythonhosted.org/packages/af/65/8189298dd3a05bbad716ee8e249764ff8800e365d8dc652ad2192ca01b4a/pynndescent-0.5.2.tar.gz (1.1MB)\n",
            "\u001b[K     |████████████████████████████████| 1.2MB 19.1MB/s \n",
            "\u001b[?25hRequirement already satisfied: joblib>=0.11 in /usr/local/lib/python3.7/dist-packages (from scikit-learn>=0.22->umap-learn) (1.0.1)\n",
            "Requirement already satisfied: setuptools in /usr/local/lib/python3.7/dist-packages (from numba>=0.49->umap-learn) (57.0.0)\n",
            "Requirement already satisfied: llvmlite<0.35,>=0.34.0.dev0 in /usr/local/lib/python3.7/dist-packages (from numba>=0.49->umap-learn) (0.34.0)\n",
            "Building wheels for collected packages: umap-learn, pynndescent\n",
            "  Building wheel for umap-learn (setup.py) ... \u001b[?25l\u001b[?25hdone\n",
            "  Created wheel for umap-learn: filename=umap_learn-0.5.1-cp37-none-any.whl size=76569 sha256=fc8486a5ab0cfc4213f6dffc74074ba0b87e4f3ee4eec68ee37236ec2dea4cf1\n",
            "  Stored in directory: /root/.cache/pip/wheels/ad/df/d5/a3691296ff779f25cd1cf415a3af954b987fb53111e3392cf4\n",
            "  Building wheel for pynndescent (setup.py) ... \u001b[?25l\u001b[?25hdone\n",
            "  Created wheel for pynndescent: filename=pynndescent-0.5.2-cp37-none-any.whl size=51362 sha256=b68ac511c50a085cf9d5934432c639fc1b8fda0cfc1f0379fffaf3541116db7e\n",
            "  Stored in directory: /root/.cache/pip/wheels/ba/52/4e/4c28d04d144a28f89e2575fb63628df6e6d49b56c5ddd0c74e\n",
            "Successfully built umap-learn pynndescent\n",
            "Installing collected packages: pynndescent, umap-learn\n",
            "Successfully installed pynndescent-0.5.2 umap-learn-0.5.1\n"
          ],
          "name": "stdout"
        }
      ]
    },
    {
      "cell_type": "code",
      "metadata": {
        "id": "qHorrqPFwwi_"
      },
      "source": [
        "%load_ext autoreload\n",
        "%autoreload 2"
      ],
      "execution_count": 2,
      "outputs": []
    },
    {
      "cell_type": "code",
      "metadata": {
        "id": "7IMcE6HYwyGq"
      },
      "source": [
        "import os\n",
        "\n",
        "os.chdir(\"/content/drive/MyDrive/pinterest_scraper/\")"
      ],
      "execution_count": 3,
      "outputs": []
    },
    {
      "cell_type": "code",
      "metadata": {
        "colab": {
          "base_uri": "https://localhost:8080/",
          "height": 202
        },
        "id": "URUY7C3BxKFW",
        "outputId": "7886413d-6aa8-46d7-ebde-3b93ee4eca3d"
      },
      "source": [
        "import pandas as pd\n",
        "\n",
        "image_locs = pd.read_csv(\"data/image_reference.csv\")\n",
        "image_locs.sample(5)"
      ],
      "execution_count": 4,
      "outputs": [
        {
          "output_type": "execute_result",
          "data": {
            "text/html": [
              "<div>\n",
              "<style scoped>\n",
              "    .dataframe tbody tr th:only-of-type {\n",
              "        vertical-align: middle;\n",
              "    }\n",
              "\n",
              "    .dataframe tbody tr th {\n",
              "        vertical-align: top;\n",
              "    }\n",
              "\n",
              "    .dataframe thead th {\n",
              "        text-align: right;\n",
              "    }\n",
              "</style>\n",
              "<table border=\"1\" class=\"dataframe\">\n",
              "  <thead>\n",
              "    <tr style=\"text-align: right;\">\n",
              "      <th></th>\n",
              "      <th>Unnamed: 0</th>\n",
              "      <th>label</th>\n",
              "      <th>file_location</th>\n",
              "      <th>group_id</th>\n",
              "    </tr>\n",
              "  </thead>\n",
              "  <tbody>\n",
              "    <tr>\n",
              "      <th>5265</th>\n",
              "      <td>5265</td>\n",
              "      <td>White aesthetic</td>\n",
              "      <td>data/white_aesthetic/726b70dfeb4d40fcef0fadf7b...</td>\n",
              "      <td>66</td>\n",
              "    </tr>\n",
              "    <tr>\n",
              "      <th>3600</th>\n",
              "      <td>3600</td>\n",
              "      <td>Modern farmhouse kitchens</td>\n",
              "      <td>data/modern_farmhouse_kitchens/f543a3c36c62db2...</td>\n",
              "      <td>393</td>\n",
              "    </tr>\n",
              "    <tr>\n",
              "      <th>4263</th>\n",
              "      <td>4263</td>\n",
              "      <td>Starbucks drinks</td>\n",
              "      <td>data/starbucks_drinks/11d7a4ad1d69bd52c47f3dc1...</td>\n",
              "      <td>56</td>\n",
              "    </tr>\n",
              "    <tr>\n",
              "      <th>3436</th>\n",
              "      <td>3436</td>\n",
              "      <td>Modern farmhouse kitchens</td>\n",
              "      <td>data/modern_farmhouse_kitchens/516bdf24885a959...</td>\n",
              "      <td>229</td>\n",
              "    </tr>\n",
              "    <tr>\n",
              "      <th>976</th>\n",
              "      <td>976</td>\n",
              "      <td>Easy drawings</td>\n",
              "      <td>data/easy_drawings/ad5c9e82a5640b4b86111d761be...</td>\n",
              "      <td>269</td>\n",
              "    </tr>\n",
              "  </tbody>\n",
              "</table>\n",
              "</div>"
            ],
            "text/plain": [
              "      Unnamed: 0  ... group_id\n",
              "5265        5265  ...       66\n",
              "3600        3600  ...      393\n",
              "4263        4263  ...       56\n",
              "3436        3436  ...      229\n",
              "976          976  ...      269\n",
              "\n",
              "[5 rows x 4 columns]"
            ]
          },
          "metadata": {
            "tags": []
          },
          "execution_count": 4
        }
      ]
    },
    {
      "cell_type": "code",
      "metadata": {
        "id": "3LoIyPr2zIxx"
      },
      "source": [
        "def get_group(group_id, training_ids, testing_ids):\n",
        "  if group_id in training_ids:\n",
        "    return(\"training\")\n",
        "  elif group_id in testing_ids:\n",
        "    return(\"testing\")\n",
        "  else:\n",
        "    return(\"validation\")"
      ],
      "execution_count": 5,
      "outputs": []
    },
    {
      "cell_type": "code",
      "metadata": {
        "colab": {
          "base_uri": "https://localhost:8080/",
          "height": 414
        },
        "id": "3KwGXCzUxVQG",
        "outputId": "3ceaf29d-9b13-4f6f-ca49-8d0783657930"
      },
      "source": [
        "import math\n",
        "import numpy as np\n",
        "\n",
        "TRAINING_SIZE = .7\n",
        "\n",
        "available_labels = image_locs.label.unique().tolist()\n",
        "\n",
        "for label in available_labels:\n",
        "  label_subset = image_locs[image_locs.label == label]\n",
        "  group_ids = label_subset.group_id.reset_index(drop=True)\n",
        "\n",
        "  # get train/test/validation ids\n",
        "  training_ids = group_ids.sample(frac=TRAINING_SIZE)\n",
        "  remaining_ids = group_ids[~group_ids.isin(training_ids)]\n",
        "  testing_ids = remaining_ids.sample(frac=.5)\n",
        "\n",
        "  # make a lambda to apply\n",
        "  alloc_lmbda = lambda gid: get_group(gid, training_ids, testing_ids)\n",
        "\n",
        "  # write the split allocation to the df\n",
        "  image_locs.loc[label_subset.index, \"split\"] = label_subset.group_id.apply(alloc_lmbda)\n",
        "\n",
        "image_locs"
      ],
      "execution_count": 6,
      "outputs": [
        {
          "output_type": "execute_result",
          "data": {
            "text/html": [
              "<div>\n",
              "<style scoped>\n",
              "    .dataframe tbody tr th:only-of-type {\n",
              "        vertical-align: middle;\n",
              "    }\n",
              "\n",
              "    .dataframe tbody tr th {\n",
              "        vertical-align: top;\n",
              "    }\n",
              "\n",
              "    .dataframe thead th {\n",
              "        text-align: right;\n",
              "    }\n",
              "</style>\n",
              "<table border=\"1\" class=\"dataframe\">\n",
              "  <thead>\n",
              "    <tr style=\"text-align: right;\">\n",
              "      <th></th>\n",
              "      <th>Unnamed: 0</th>\n",
              "      <th>label</th>\n",
              "      <th>file_location</th>\n",
              "      <th>group_id</th>\n",
              "      <th>split</th>\n",
              "    </tr>\n",
              "  </thead>\n",
              "  <tbody>\n",
              "    <tr>\n",
              "      <th>0</th>\n",
              "      <td>0</td>\n",
              "      <td>90s fashion men</td>\n",
              "      <td>data/90s_fashion_men/cfaf965d69f685d8e69956ba7...</td>\n",
              "      <td>0</td>\n",
              "      <td>training</td>\n",
              "    </tr>\n",
              "    <tr>\n",
              "      <th>1</th>\n",
              "      <td>1</td>\n",
              "      <td>90s fashion men</td>\n",
              "      <td>data/90s_fashion_men/fa6f7f62186191520d17ec3df...</td>\n",
              "      <td>1</td>\n",
              "      <td>testing</td>\n",
              "    </tr>\n",
              "    <tr>\n",
              "      <th>2</th>\n",
              "      <td>2</td>\n",
              "      <td>90s fashion men</td>\n",
              "      <td>data/90s_fashion_men/d9cb8bce7608cf99e01f24c98...</td>\n",
              "      <td>2</td>\n",
              "      <td>training</td>\n",
              "    </tr>\n",
              "    <tr>\n",
              "      <th>3</th>\n",
              "      <td>3</td>\n",
              "      <td>90s fashion men</td>\n",
              "      <td>data/90s_fashion_men/680414f948622b0203c1b0056...</td>\n",
              "      <td>3</td>\n",
              "      <td>validation</td>\n",
              "    </tr>\n",
              "    <tr>\n",
              "      <th>4</th>\n",
              "      <td>4</td>\n",
              "      <td>90s fashion men</td>\n",
              "      <td>data/90s_fashion_men/f0cba34dd73764ef7b9962527...</td>\n",
              "      <td>4</td>\n",
              "      <td>training</td>\n",
              "    </tr>\n",
              "    <tr>\n",
              "      <th>...</th>\n",
              "      <td>...</td>\n",
              "      <td>...</td>\n",
              "      <td>...</td>\n",
              "      <td>...</td>\n",
              "      <td>...</td>\n",
              "    </tr>\n",
              "    <tr>\n",
              "      <th>5694</th>\n",
              "      <td>5694</td>\n",
              "      <td>White aesthetic</td>\n",
              "      <td>data/white_aesthetic/448946d180a5f9d9df8cbcf76...</td>\n",
              "      <td>495</td>\n",
              "      <td>validation</td>\n",
              "    </tr>\n",
              "    <tr>\n",
              "      <th>5695</th>\n",
              "      <td>5695</td>\n",
              "      <td>White aesthetic</td>\n",
              "      <td>data/white_aesthetic/ea64d4023642884c808f6c7e7...</td>\n",
              "      <td>496</td>\n",
              "      <td>validation</td>\n",
              "    </tr>\n",
              "    <tr>\n",
              "      <th>5696</th>\n",
              "      <td>5696</td>\n",
              "      <td>White aesthetic</td>\n",
              "      <td>data/white_aesthetic/79b0856002598d613564b80eb...</td>\n",
              "      <td>497</td>\n",
              "      <td>training</td>\n",
              "    </tr>\n",
              "    <tr>\n",
              "      <th>5697</th>\n",
              "      <td>5697</td>\n",
              "      <td>White aesthetic</td>\n",
              "      <td>data/white_aesthetic/7f2ec49fdd6c5928ddad23a87...</td>\n",
              "      <td>498</td>\n",
              "      <td>testing</td>\n",
              "    </tr>\n",
              "    <tr>\n",
              "      <th>5698</th>\n",
              "      <td>5698</td>\n",
              "      <td>White aesthetic</td>\n",
              "      <td>data/white_aesthetic/6a38593a68ffa179827b87348...</td>\n",
              "      <td>499</td>\n",
              "      <td>testing</td>\n",
              "    </tr>\n",
              "  </tbody>\n",
              "</table>\n",
              "<p>5699 rows × 5 columns</p>\n",
              "</div>"
            ],
            "text/plain": [
              "      Unnamed: 0            label  ... group_id       split\n",
              "0              0  90s fashion men  ...        0    training\n",
              "1              1  90s fashion men  ...        1     testing\n",
              "2              2  90s fashion men  ...        2    training\n",
              "3              3  90s fashion men  ...        3  validation\n",
              "4              4  90s fashion men  ...        4    training\n",
              "...          ...              ...  ...      ...         ...\n",
              "5694        5694  White aesthetic  ...      495  validation\n",
              "5695        5695  White aesthetic  ...      496  validation\n",
              "5696        5696  White aesthetic  ...      497    training\n",
              "5697        5697  White aesthetic  ...      498     testing\n",
              "5698        5698  White aesthetic  ...      499     testing\n",
              "\n",
              "[5699 rows x 5 columns]"
            ]
          },
          "metadata": {
            "tags": []
          },
          "execution_count": 6
        }
      ]
    },
    {
      "cell_type": "code",
      "metadata": {
        "colab": {
          "base_uri": "https://localhost:8080/"
        },
        "id": "Wxj8CR1H0KKC",
        "outputId": "3f48845a-ee86-42f6-9c60-dceab5fe358f"
      },
      "source": [
        "image_locs.groupby(\"label\").split.value_counts()"
      ],
      "execution_count": 7,
      "outputs": [
        {
          "output_type": "execute_result",
          "data": {
            "text/plain": [
              "label                      split     \n",
              "90s fashion men            training      145\n",
              "                           testing        31\n",
              "                           validation     31\n",
              "Bullet journal             training      350\n",
              "                           testing        75\n",
              "                           validation     75\n",
              "Easy drawings              training      350\n",
              "                           testing        75\n",
              "                           validation     75\n",
              "Food porn                  training      350\n",
              "                           testing        75\n",
              "                           validation     75\n",
              "Forearm tattoos            training      350\n",
              "                           testing        75\n",
              "                           validation     75\n",
              "Interior design            training      350\n",
              "                           testing        75\n",
              "                           validation     75\n",
              "Mens clothing styles       training      350\n",
              "                           testing        75\n",
              "                           validation     75\n",
              "Modern farmhouse kitchens  training      350\n",
              "                           testing        75\n",
              "                           validation     75\n",
              "Simple doodles             training      350\n",
              "                           testing        75\n",
              "                           validation     75\n",
              "Starbucks drinks           training      344\n",
              "                           testing        74\n",
              "                           validation     74\n",
              "Tattoo sketches            training      350\n",
              "                           testing        75\n",
              "                           validation     75\n",
              "White aesthetic            training      350\n",
              "                           testing        75\n",
              "                           validation     75\n",
              "Name: split, dtype: int64"
            ]
          },
          "metadata": {
            "tags": []
          },
          "execution_count": 7
        }
      ]
    },
    {
      "cell_type": "code",
      "metadata": {
        "id": "IWFnvlGIft6T"
      },
      "source": [
        "import pathlib\n",
        "import shutil\n",
        "import re\n",
        "\n",
        "def get_save_directory_name(label):\n",
        "  return(re.sub(r\"\\s+\", \"_\" , label.lower()))\n",
        "\n",
        "get_file_directory = lambda file_location: str(pathlib.Path(file_location).parent) + \"/\"\n",
        "\n",
        "def partition_data(image_locations):\n",
        "  # get the label directory name\n",
        "  image_locations[\"label_dir\"] = image_locations.label.apply(\n",
        "      get_save_directory_name)\n",
        "  image_locations[\"filename\"] = image_locations.file_location.apply(\n",
        "      os.path.basename)\n",
        "  label_dirs = image_locations.label_dir.unique()\n",
        "\n",
        "  # remove current allocation of images and re-create the data directories\n",
        "  data_splits = image_locations.split.unique().tolist()\n",
        "  for split in data_splits:\n",
        "    split_dir = f\"data/{split}\"\n",
        "    if os.path.exists(split_dir):\n",
        "      shutil.rmtree(split_dir)\n",
        "    for label_dir in label_dirs:\n",
        "      os.makedirs(f\"{split_dir}/{label_dir}\", exist_ok=True)\n",
        "\n",
        "\n",
        "  # get the new path of the image\n",
        "  image_locations[\"new_location\"] = (\"data/\"\n",
        "    + image_locations.split\n",
        "    + \"/\"\n",
        "    + image_locations.label_dir\n",
        "    + \"/\"\n",
        "    + image_locations.filename)\n",
        "\n",
        "  # copy the image into the new directory\n",
        "  for _, image_row in image_locations.iterrows():\n",
        "    # todo: add progress bar here\n",
        "    shutil.copy2(image_row.file_location, image_row.new_location)\n",
        "\n",
        "# partition_data(image_locs)\n",
        "# image_locs.to_csv(\"data/image_partitions.csv\")"
      ],
      "execution_count": 8,
      "outputs": []
    },
    {
      "cell_type": "code",
      "metadata": {
        "id": "kID4tb7JninS"
      },
      "source": [
        "IMG_SIZE = 224\n",
        "SIZE = (IMG_SIZE, IMG_SIZE)\n",
        "BATCH_SIZE = 64\n",
        "DATASET_NAME = \"pinterest\"\n",
        "NUM_CLASSES = image_locs.label.nunique()"
      ],
      "execution_count": 9,
      "outputs": []
    },
    {
      "cell_type": "code",
      "metadata": {
        "colab": {
          "base_uri": "https://localhost:8080/"
        },
        "id": "AHmMUcA394Pe",
        "outputId": "386e001e-dec3-4e4c-a110-f0831eca270d"
      },
      "source": [
        "from tensorflow.keras.preprocessing import image_dataset_from_directory\n",
        "\n",
        "# load in the datasets\n",
        "train_ds = image_dataset_from_directory(\"data/training\", label_mode=\"categorical\")\n",
        "test_ds = image_dataset_from_directory(\"data/testing\", label_mode=\"categorical\")\n",
        "validation_ds = image_dataset_from_directory(\"data/validation\", label_mode=\"categorical\")\n",
        "\n",
        "train_ds"
      ],
      "execution_count": 10,
      "outputs": [
        {
          "output_type": "stream",
          "text": [
            "Found 3989 files belonging to 12 classes.\n",
            "Found 855 files belonging to 12 classes.\n",
            "Found 855 files belonging to 12 classes.\n"
          ],
          "name": "stdout"
        },
        {
          "output_type": "execute_result",
          "data": {
            "text/plain": [
              "<BatchDataset shapes: ((None, 256, 256, 3), (None, 12)), types: (tf.float32, tf.float32)>"
            ]
          },
          "metadata": {
            "tags": []
          },
          "execution_count": 10
        }
      ]
    },
    {
      "cell_type": "code",
      "metadata": {
        "id": "b9PlUUZITMiY"
      },
      "source": [
        "import tensorflow as tf\n",
        "resize_lambda = lambda image, label: (tf.image.resize(image, SIZE), label)\n",
        "\n",
        "def preprocess_dataset(dataset, batch_size=BATCH_SIZE):\n",
        "  dataset = dataset.map(resize_lambda)\n",
        "  # dataset = dataset.batch(batch_size=batch_size, drop_remainder=True)\n",
        "  dataset = dataset.prefetch(tf.data.experimental.AUTOTUNE)\n",
        "  return(dataset)\n",
        "\n",
        "train_ds = preprocess_dataset(train_ds)\n",
        "test_ds = preprocess_dataset(test_ds)\n",
        "validation_ds = preprocess_dataset(validation_ds)"
      ],
      "execution_count": 11,
      "outputs": []
    },
    {
      "cell_type": "code",
      "metadata": {
        "id": "_TC0LqhygPBH"
      },
      "source": [
        "from tensorflow.keras.layers.experimental import preprocessing\n",
        "from tensorflow.keras.models import Sequential\n",
        "from tensorflow.keras import layers\n",
        "\n",
        "img_augmentation = Sequential(\n",
        "    [\n",
        "        preprocessing.RandomRotation(factor=0.15),\n",
        "        preprocessing.RandomTranslation(height_factor=0.1, width_factor=0.1),\n",
        "        preprocessing.RandomFlip(),\n",
        "        preprocessing.RandomContrast(factor=0.1),\n",
        "    ],\n",
        "    name=\"img_augmentation\",\n",
        ")"
      ],
      "execution_count": 12,
      "outputs": []
    },
    {
      "cell_type": "code",
      "metadata": {
        "id": "Cx2oFlYcfHYB"
      },
      "source": [
        "# import matplotlib.pyplot as plt\n",
        "\n",
        "# for image, _ in train_ds.take(1):\n",
        "#   plt.figure(figsize=(10, 10))\n",
        "\n",
        "#   first_image = image[0]\n",
        "#   for i in range(9):\n",
        "#     ax = plt.subplot(3, 3, i + 1)\n",
        "\n",
        "#     augmented_image = img_augmentation(first_image)\n",
        "#     plt.imshow(augmented_image[0] / 255)\n",
        "#     plt.axis('off')"
      ],
      "execution_count": 13,
      "outputs": []
    },
    {
      "cell_type": "code",
      "metadata": {
        "colab": {
          "base_uri": "https://localhost:8080/"
        },
        "id": "r-atT1hSZjg2",
        "outputId": "1c853865-47f1-4fbd-afe8-8142a151fbc4"
      },
      "source": [
        "from tensorflow.keras.applications import EfficientNetB0\n",
        "\n",
        "IMG_SHAPE = SIZE + (3,)\n",
        "\n",
        "base_model = tf.keras.applications.EfficientNetB0(\n",
        "    input_shape=IMG_SHAPE,\n",
        "    include_top=False,\n",
        "    weights=\"imagenet\",\n",
        "    input_shape=SIZE)\n",
        "base_model.trainable = False\n",
        "\n",
        "image_batch, label_batch = next(iter(train_ds))\n",
        "feature_batch = base_model(image_batch)\n",
        "\n",
        "print(feature_batch.shape)"
      ],
      "execution_count": 14,
      "outputs": [
        {
          "output_type": "stream",
          "text": [
            "Downloading data from https://storage.googleapis.com/keras-applications/efficientnetb0_notop.h5\n",
            "16711680/16705208 [==============================] - 0s 0us/step\n",
            "(32, 7, 7, 1280)\n"
          ],
          "name": "stdout"
        }
      ]
    },
    {
      "cell_type": "code",
      "metadata": {
        "colab": {
          "base_uri": "https://localhost:8080/"
        },
        "id": "D4gmZTB-buoV",
        "outputId": "5bddb3cc-5cf1-4e2a-c55c-e011534786c5"
      },
      "source": [
        "global_average_layer = tf.keras.layers.GlobalAveragePooling2D()\n",
        "feature_batch_average = global_average_layer(feature_batch)\n",
        "\n",
        "print(feature_batch_average.shape)"
      ],
      "execution_count": 15,
      "outputs": [
        {
          "output_type": "stream",
          "text": [
            "(32, 1280)\n"
          ],
          "name": "stdout"
        }
      ]
    },
    {
      "cell_type": "code",
      "metadata": {
        "colab": {
          "base_uri": "https://localhost:8080/"
        },
        "id": "Pys_b5bhb5sd",
        "outputId": "2649a724-d20e-4d27-9dd3-ae33da543030"
      },
      "source": [
        "prediction_layer = tf.keras.layers.Dense(NUM_CLASSES, activation=\"softmax\")\n",
        "prediction_batch = prediction_layer(feature_batch_average)\n",
        "\n",
        "print(prediction_batch.shape)"
      ],
      "execution_count": 16,
      "outputs": [
        {
          "output_type": "stream",
          "text": [
            "(32, 12)\n"
          ],
          "name": "stdout"
        }
      ]
    },
    {
      "cell_type": "code",
      "metadata": {
        "id": "8Wu9v_29cvAB"
      },
      "source": [
        "preprocess_input = tf.keras.applications.efficientnet.preprocess_input"
      ],
      "execution_count": 17,
      "outputs": []
    },
    {
      "cell_type": "code",
      "metadata": {
        "id": "_wa5phkwb-53"
      },
      "source": [
        "inputs = tf.keras.Input(shape=IMG_SHAPE)\n",
        "x = img_augmentation(inputs)\n",
        "x = preprocess_input(x)\n",
        "x = base_model(x, training=False)\n",
        "x = global_average_layer(x)\n",
        "x = tf.keras.layers.Dropout(0.2)(x)\n",
        "outputs = prediction_layer(x)\n",
        "model = tf.keras.Model(inputs, outputs)"
      ],
      "execution_count": 18,
      "outputs": []
    },
    {
      "cell_type": "code",
      "metadata": {
        "colab": {
          "base_uri": "https://localhost:8080/"
        },
        "id": "VQO8lyzoc3q1",
        "outputId": "30e2fc33-cd21-403d-d46d-91e005930ddd"
      },
      "source": [
        "base_learning_rate = 0.0001\n",
        "model.compile(optimizer=tf.keras.optimizers.Adam(lr=base_learning_rate),\n",
        "              loss=tf.keras.losses.CategoricalCrossentropy(from_logits=True),\n",
        "              metrics=[\"accuracy\"])\n",
        "\n",
        "len(model.trainable_variables)"
      ],
      "execution_count": 19,
      "outputs": [
        {
          "output_type": "stream",
          "text": [
            "/usr/local/lib/python3.7/dist-packages/tensorflow/python/keras/optimizer_v2/optimizer_v2.py:375: UserWarning: The `lr` argument is deprecated, use `learning_rate` instead.\n",
            "  \"The `lr` argument is deprecated, use `learning_rate` instead.\")\n"
          ],
          "name": "stderr"
        },
        {
          "output_type": "execute_result",
          "data": {
            "text/plain": [
              "2"
            ]
          },
          "metadata": {
            "tags": []
          },
          "execution_count": 19
        }
      ]
    },
    {
      "cell_type": "code",
      "metadata": {
        "colab": {
          "base_uri": "https://localhost:8080/"
        },
        "id": "47-5L1Jcc-BX",
        "outputId": "5054d085-b133-4ccf-c3af-fc2f32c899c8"
      },
      "source": [
        "initial_epochs = 10\n",
        "\n",
        "loss0, accuracy0 = model.evaluate(validation_ds)\n",
        "print(\"initial loss: {:.2f}\".format(loss0))\n",
        "print(\"initial accuracy: {:.2f}\".format(accuracy0))"
      ],
      "execution_count": 20,
      "outputs": [
        {
          "output_type": "stream",
          "text": [
            "/usr/local/lib/python3.7/dist-packages/tensorflow/python/keras/backend.py:4870: UserWarning: \"`categorical_crossentropy` received `from_logits=True`, but the `output` argument was produced by a sigmoid or softmax activation and thus does not represent logits. Was this intended?\"\n",
            "  '\"`categorical_crossentropy` received `from_logits=True`, but '\n"
          ],
          "name": "stderr"
        },
        {
          "output_type": "stream",
          "text": [
            "27/27 [==============================] - 224s 6s/step - loss: 2.6219 - accuracy: 0.0795\n",
            "initial loss: 2.62\n",
            "initial accuracy: 0.08\n"
          ],
          "name": "stdout"
        }
      ]
    },
    {
      "cell_type": "code",
      "metadata": {
        "colab": {
          "base_uri": "https://localhost:8080/"
        },
        "id": "4U37R1jedF-g",
        "outputId": "050e9942-7f76-4935-c86d-c28b15e7fd25"
      },
      "source": [
        "history = model.fit(\n",
        "    train_ds,\n",
        "    epochs=initial_epochs,\n",
        "    validation_data=validation_ds)"
      ],
      "execution_count": 21,
      "outputs": [
        {
          "output_type": "stream",
          "text": [
            "Epoch 1/10\n"
          ],
          "name": "stdout"
        },
        {
          "output_type": "stream",
          "text": [
            "/usr/local/lib/python3.7/dist-packages/tensorflow/python/keras/backend.py:4870: UserWarning: \"`categorical_crossentropy` received `from_logits=True`, but the `output` argument was produced by a sigmoid or softmax activation and thus does not represent logits. Was this intended?\"\n",
            "  '\"`categorical_crossentropy` received `from_logits=True`, but '\n"
          ],
          "name": "stderr"
        },
        {
          "output_type": "stream",
          "text": [
            "125/125 [==============================] - 1000s 8s/step - loss: 2.2880 - accuracy: 0.2276 - val_loss: 1.9550 - val_accuracy: 0.4035\n",
            "Epoch 2/10\n",
            "125/125 [==============================] - 247s 2s/step - loss: 1.7717 - accuracy: 0.4628 - val_loss: 1.5433 - val_accuracy: 0.6023\n",
            "Epoch 3/10\n",
            "125/125 [==============================] - 244s 2s/step - loss: 1.4570 - accuracy: 0.5836 - val_loss: 1.2877 - val_accuracy: 0.6632\n",
            "Epoch 4/10\n",
            "125/125 [==============================] - 247s 2s/step - loss: 1.2479 - accuracy: 0.6478 - val_loss: 1.1262 - val_accuracy: 0.7053\n",
            "Epoch 5/10\n",
            "125/125 [==============================] - 249s 2s/step - loss: 1.1055 - accuracy: 0.6756 - val_loss: 1.0178 - val_accuracy: 0.7263\n",
            "Epoch 6/10\n",
            "125/125 [==============================] - 250s 2s/step - loss: 1.0183 - accuracy: 0.7002 - val_loss: 0.9422 - val_accuracy: 0.7450\n",
            "Epoch 7/10\n",
            "125/125 [==============================] - 250s 2s/step - loss: 0.9474 - accuracy: 0.7222 - val_loss: 0.8859 - val_accuracy: 0.7497\n",
            "Epoch 8/10\n",
            "125/125 [==============================] - 249s 2s/step - loss: 0.8941 - accuracy: 0.7288 - val_loss: 0.8445 - val_accuracy: 0.7544\n",
            "Epoch 9/10\n",
            "125/125 [==============================] - 245s 2s/step - loss: 0.8487 - accuracy: 0.7418 - val_loss: 0.8110 - val_accuracy: 0.7544\n",
            "Epoch 10/10\n",
            "125/125 [==============================] - 244s 2s/step - loss: 0.8240 - accuracy: 0.7383 - val_loss: 0.7845 - val_accuracy: 0.7614\n"
          ],
          "name": "stdout"
        }
      ]
    },
    {
      "cell_type": "code",
      "metadata": {
        "colab": {
          "base_uri": "https://localhost:8080/",
          "height": 526
        },
        "id": "k1e7xPdb8zOb",
        "outputId": "d7ed6d48-5b71-47a0-8c1c-b2bc7b67a728"
      },
      "source": [
        "from plotnine import ggplot, aes, geom_line, geom_point, ggtitle, scale_x_continuous\n",
        "\n",
        "history_df = pd.DataFrame(history.history)\n",
        "history_df[\"epoch\"] = range(1, len(history_df.accuracy) + 1)\n",
        "history_melt = history_df.melt(value_vars=[\"accuracy\", \"val_accuracy\", \"loss\", \"val_loss\"], id_vars = \"epoch\")\n",
        "\n",
        "accuracy_stats = history_melt[history_melt.variable.isin([\"accuracy\", \"val_accuracy\"])]\n",
        "loss_stats = history_melt[history_melt.variable.isin([\"loss\", \"val_loss\"])]\n",
        "\n",
        "(\n",
        "  ggplot(accuracy_stats, aes(x = \"epoch\", y = \"value\", colour = \"variable\")) +\n",
        "  geom_line() +\n",
        "  geom_point() +\n",
        "  scale_x_continuous(breaks = range(12)) +\n",
        "  ggtitle(\"training and validation accuracy\")\n",
        ")\n"
      ],
      "execution_count": 43,
      "outputs": [
        {
          "output_type": "stream",
          "text": [
            "/usr/local/lib/python3.7/dist-packages/plotnine/utils.py:1246: FutureWarning: is_categorical is deprecated and will be removed in a future version.  Use is_categorical_dtype instead\n",
            "  if pdtypes.is_categorical(arr):\n"
          ],
          "name": "stderr"
        },
        {
          "output_type": "display_data",
          "data": {
            "image/png": "[encoded data removed]",
            "text/plain": [
              "<Figure size 640x480 with 1 Axes>"
            ]
          },
          "metadata": {
            "tags": []
          }
        },
        {
          "output_type": "execute_result",
          "data": {
            "text/plain": [
              "<ggplot: (8745337770517)>"
            ]
          },
          "metadata": {
            "tags": []
          },
          "execution_count": 43
        }
      ]
    },
    {
      "cell_type": "code",
      "metadata": {
        "colab": {
          "base_uri": "https://localhost:8080/",
          "height": 526
        },
        "id": "oM26QxL__ZY9",
        "outputId": "4dbb5f31-7668-4c27-cee2-0535fd2d8247"
      },
      "source": [
        "(\n",
        "  ggplot(loss_stats, aes(x = \"epoch\", y = \"value\", colour = \"variable\")) +\n",
        "  geom_line() +\n",
        "  geom_point() +\n",
        "  scale_x_continuous(breaks = range(12)) +\n",
        "  ggtitle(\"training and validation loss\")\n",
        ")"
      ],
      "execution_count": 44,
      "outputs": [
        {
          "output_type": "stream",
          "text": [
            "/usr/local/lib/python3.7/dist-packages/plotnine/utils.py:1246: FutureWarning: is_categorical is deprecated and will be removed in a future version.  Use is_categorical_dtype instead\n",
            "  if pdtypes.is_categorical(arr):\n"
          ],
          "name": "stderr"
        },
        {
          "output_type": "display_data",
          "data": {
            "image/png": "[encoded data removed]",
            "text/plain": [
              "<Figure size 640x480 with 1 Axes>"
            ]
          },
          "metadata": {
            "tags": []
          }
        },
        {
          "output_type": "execute_result",
          "data": {
            "text/plain": [
              "<ggplot: (8745337593405)>"
            ]
          },
          "metadata": {
            "tags": []
          },
          "execution_count": 44
        }
      ]
    },
    {
      "cell_type": "code",
      "metadata": {
        "colab": {
          "base_uri": "https://localhost:8080/",
          "height": 500
        },
        "id": "8mBq7JJo_f2J",
        "outputId": "631a0560-660a-4341-a628-3926b1a3b879"
      },
      "source": [
        "(\n",
        "  ggplot(history_melt, aes(x = \"epoch\", y = \"value\", colour = \"variable\")) +\n",
        "  geom_point() +\n",
        "  scale_x_continuous(breaks = range(12)) +\n",
        "  geom_line()\n",
        ")"
      ],
      "execution_count": 45,
      "outputs": [
        {
          "output_type": "stream",
          "text": [
            "/usr/local/lib/python3.7/dist-packages/plotnine/utils.py:1246: FutureWarning: is_categorical is deprecated and will be removed in a future version.  Use is_categorical_dtype instead\n",
            "  if pdtypes.is_categorical(arr):\n"
          ],
          "name": "stderr"
        },
        {
          "output_type": "display_data",
          "data": {
            "image/png": "[encoded data removed]",
            "text/plain": [
              "<Figure size 640x480 with 1 Axes>"
            ]
          },
          "metadata": {
            "tags": []
          }
        },
        {
          "output_type": "execute_result",
          "data": {
            "text/plain": [
              "<ggplot: (8745337631181)>"
            ]
          },
          "metadata": {
            "tags": []
          },
          "execution_count": 45
        }
      ]
    },
    {
      "cell_type": "code",
      "metadata": {
        "colab": {
          "base_uri": "https://localhost:8080/"
        },
        "id": "8B0I5dEVr5P0",
        "outputId": "b86beb4d-0e4a-4d6b-f8fb-ccfb4f0ae649"
      },
      "source": [
        "model.summary()"
      ],
      "execution_count": 54,
      "outputs": [
        {
          "output_type": "stream",
          "text": [
            "Model: \"model\"\n",
            "_________________________________________________________________\n",
            "Layer (type)                 Output Shape              Param #   \n",
            "=================================================================\n",
            "input_2 (InputLayer)         [(None, 224, 224, 3)]     0         \n",
            "_________________________________________________________________\n",
            "img_augmentation (Sequential (None, 224, 224, 3)       0         \n",
            "_________________________________________________________________\n",
            "efficientnetb0 (Functional)  (None, 7, 7, 1280)        4049571   \n",
            "_________________________________________________________________\n",
            "global_average_pooling2d (Gl (None, 1280)              0         \n",
            "_________________________________________________________________\n",
            "dropout (Dropout)            (None, 1280)              0         \n",
            "_________________________________________________________________\n",
            "dense (Dense)                (None, 12)                15372     \n",
            "=================================================================\n",
            "Total params: 4,064,943\n",
            "Trainable params: 15,372\n",
            "Non-trainable params: 4,049,571\n",
            "_________________________________________________________________\n"
          ],
          "name": "stdout"
        }
      ]
    },
    {
      "cell_type": "code",
      "metadata": {
        "colab": {
          "base_uri": "https://localhost:8080/"
        },
        "id": "3Zn48By0BmJy",
        "outputId": "406c1545-5997-4f0d-852d-7a127e5aa39b"
      },
      "source": [
        "from keras.models import Model\n",
        "\n",
        "emb_model = Sequential(model.layers[:-2])\n",
        "\n",
        "emb_model.summary()"
      ],
      "execution_count": 64,
      "outputs": [
        {
          "output_type": "stream",
          "text": [
            "Model: \"sequential\"\n",
            "_________________________________________________________________\n",
            "Layer (type)                 Output Shape              Param #   \n",
            "=================================================================\n",
            "img_augmentation (Sequential (None, 224, 224, 3)       0         \n",
            "_________________________________________________________________\n",
            "efficientnetb0 (Functional)  (None, 7, 7, 1280)        4049571   \n",
            "_________________________________________________________________\n",
            "global_average_pooling2d (Gl (None, 1280)              0         \n",
            "=================================================================\n",
            "Total params: 4,049,571\n",
            "Trainable params: 0\n",
            "Non-trainable params: 4,049,571\n",
            "_________________________________________________________________\n"
          ],
          "name": "stdout"
        }
      ]
    },
    {
      "cell_type": "code",
      "metadata": {
        "id": "Z_Q7JjMWCGsL"
      },
      "source": [
        "def images_to_embeddings(model, dataset):\n",
        "  return model.predict(dataset.map(lambda image_raw, image_name: image_raw), verbose=1)"
      ],
      "execution_count": 71,
      "outputs": []
    },
    {
      "cell_type": "code",
      "metadata": {
        "colab": {
          "base_uri": "https://localhost:8080/"
        },
        "id": "jcrGDRnTGHXl",
        "outputId": "f167c0e1-374e-46c1-c05e-5e4bfcba97b7"
      },
      "source": [
        "dataset_labels = np.concatenate([y for x, y in test_ds], axis=0)\n",
        "dataset_labels = [int(tf.argmax(i)) for i in dataset_labels]\n",
        "\n",
        "dataset_labels[:10]"
      ],
      "execution_count": 115,
      "outputs": [
        {
          "output_type": "execute_result",
          "data": {
            "text/plain": [
              "[4, 3, 3, 8, 9, 9, 11, 6, 4, 6]"
            ]
          },
          "metadata": {
            "tags": []
          },
          "execution_count": 115
        }
      ]
    },
    {
      "cell_type": "code",
      "metadata": {
        "colab": {
          "base_uri": "https://localhost:8080/"
        },
        "id": "VkcTg8M5DG1T",
        "outputId": "ff08ef5c-0235-4245-b189-0d2a8fa4098b"
      },
      "source": [
        "test_embeddings = images_to_embeddings(model, test_ds)\n",
        "\n",
        "test_embeddings[0]"
      ],
      "execution_count": 73,
      "outputs": [
        {
          "output_type": "stream",
          "text": [
            "27/27 [==============================] - 142s 4s/step\n"
          ],
          "name": "stdout"
        },
        {
          "output_type": "execute_result",
          "data": {
            "text/plain": [
              "array([1.4013872e-03, 4.0695994e-04, 2.2434066e-03, 9.9723262e-04,\n",
              "       9.7838247e-01, 3.9057966e-04, 1.8814389e-03, 2.7812412e-04,\n",
              "       1.8815277e-03, 3.5482240e-03, 7.4726250e-03, 1.1161470e-03],\n",
              "      dtype=float32)"
            ]
          },
          "metadata": {
            "tags": []
          },
          "execution_count": 73
        }
      ]
    },
    {
      "cell_type": "code",
      "metadata": {
        "colab": {
          "base_uri": "https://localhost:8080/",
          "height": 450
        },
        "id": "Q4kpY8DZEXhU",
        "outputId": "5a520e12-7a98-43a5-99aa-e57ff13848a0"
      },
      "source": [
        "import umap\n",
        "\n",
        "\n",
        "umap_model = umap.UMAP(n_components=3)\n",
        "%time umap_embeddings = umap_model.fit_transform(test_embeddings)\n",
        "\n",
        "umap_components = pd.DataFrame({\n",
        "    \"component_1\": umap_embeddings[:, 0],\n",
        "    \"component_2\": umap_embeddings[:, 1],\n",
        "    \"component_3\": umap_embeddings[:, 2],\n",
        "    \"class\": [str(l) for l in dataset_labels],\n",
        "})\n",
        "\n",
        "umap_components"
      ],
      "execution_count": 113,
      "outputs": [
        {
          "output_type": "stream",
          "text": [
            "CPU times: user 6.83 s, sys: 202 ms, total: 7.03 s\n",
            "Wall time: 5.45 s\n"
          ],
          "name": "stdout"
        },
        {
          "output_type": "execute_result",
          "data": {
            "text/html": [
              "<div>\n",
              "<style scoped>\n",
              "    .dataframe tbody tr th:only-of-type {\n",
              "        vertical-align: middle;\n",
              "    }\n",
              "\n",
              "    .dataframe tbody tr th {\n",
              "        vertical-align: top;\n",
              "    }\n",
              "\n",
              "    .dataframe thead th {\n",
              "        text-align: right;\n",
              "    }\n",
              "</style>\n",
              "<table border=\"1\" class=\"dataframe\">\n",
              "  <thead>\n",
              "    <tr style=\"text-align: right;\">\n",
              "      <th></th>\n",
              "      <th>component_1</th>\n",
              "      <th>component_2</th>\n",
              "      <th>component_3</th>\n",
              "      <th>class</th>\n",
              "    </tr>\n",
              "  </thead>\n",
              "  <tbody>\n",
              "    <tr>\n",
              "      <th>0</th>\n",
              "      <td>0.978882</td>\n",
              "      <td>16.117451</td>\n",
              "      <td>-3.513770</td>\n",
              "      <td>6</td>\n",
              "    </tr>\n",
              "    <tr>\n",
              "      <th>1</th>\n",
              "      <td>2.448044</td>\n",
              "      <td>-2.012674</td>\n",
              "      <td>-1.254613</td>\n",
              "      <td>2</td>\n",
              "    </tr>\n",
              "    <tr>\n",
              "      <th>2</th>\n",
              "      <td>0.554208</td>\n",
              "      <td>3.140643</td>\n",
              "      <td>4.519051</td>\n",
              "      <td>5</td>\n",
              "    </tr>\n",
              "    <tr>\n",
              "      <th>3</th>\n",
              "      <td>2.705973</td>\n",
              "      <td>-1.762467</td>\n",
              "      <td>0.030571</td>\n",
              "      <td>9</td>\n",
              "    </tr>\n",
              "    <tr>\n",
              "      <th>4</th>\n",
              "      <td>3.342237</td>\n",
              "      <td>11.540531</td>\n",
              "      <td>10.720984</td>\n",
              "      <td>5</td>\n",
              "    </tr>\n",
              "    <tr>\n",
              "      <th>...</th>\n",
              "      <td>...</td>\n",
              "      <td>...</td>\n",
              "      <td>...</td>\n",
              "      <td>...</td>\n",
              "    </tr>\n",
              "    <tr>\n",
              "      <th>850</th>\n",
              "      <td>4.650169</td>\n",
              "      <td>3.278583</td>\n",
              "      <td>3.502975</td>\n",
              "      <td>5</td>\n",
              "    </tr>\n",
              "    <tr>\n",
              "      <th>851</th>\n",
              "      <td>1.981029</td>\n",
              "      <td>-1.910188</td>\n",
              "      <td>-0.730080</td>\n",
              "      <td>5</td>\n",
              "    </tr>\n",
              "    <tr>\n",
              "      <th>852</th>\n",
              "      <td>16.131882</td>\n",
              "      <td>-1.006397</td>\n",
              "      <td>2.906937</td>\n",
              "      <td>9</td>\n",
              "    </tr>\n",
              "    <tr>\n",
              "      <th>853</th>\n",
              "      <td>0.619533</td>\n",
              "      <td>15.377545</td>\n",
              "      <td>-2.700961</td>\n",
              "      <td>4</td>\n",
              "    </tr>\n",
              "    <tr>\n",
              "      <th>854</th>\n",
              "      <td>3.804826</td>\n",
              "      <td>3.127354</td>\n",
              "      <td>3.584550</td>\n",
              "      <td>8</td>\n",
              "    </tr>\n",
              "  </tbody>\n",
              "</table>\n",
              "<p>855 rows × 4 columns</p>\n",
              "</div>"
            ],
            "text/plain": [
              "     component_1  component_2  component_3 class\n",
              "0       0.978882    16.117451    -3.513770     6\n",
              "1       2.448044    -2.012674    -1.254613     2\n",
              "2       0.554208     3.140643     4.519051     5\n",
              "3       2.705973    -1.762467     0.030571     9\n",
              "4       3.342237    11.540531    10.720984     5\n",
              "..           ...          ...          ...   ...\n",
              "850     4.650169     3.278583     3.502975     5\n",
              "851     1.981029    -1.910188    -0.730080     5\n",
              "852    16.131882    -1.006397     2.906937     9\n",
              "853     0.619533    15.377545    -2.700961     4\n",
              "854     3.804826     3.127354     3.584550     8\n",
              "\n",
              "[855 rows x 4 columns]"
            ]
          },
          "metadata": {
            "tags": []
          },
          "execution_count": 113
        }
      ]
    },
    {
      "cell_type": "markdown",
      "metadata": {
        "id": "iMYQB0y0IbUW"
      },
      "source": [
        "### Notes\n",
        "\n",
        "* Embeddings are wrong, need to fix (or labels are, need to debug)"
      ]
    },
    {
      "cell_type": "code",
      "metadata": {
        "colab": {
          "base_uri": "https://localhost:8080/",
          "height": 542
        },
        "id": "aV-W0FPDFPpy",
        "outputId": "8aad1a2b-9253-44f9-c456-b325ddc2946f"
      },
      "source": [
        "import plotly.express as px\n",
        "\n",
        "fig = px.scatter_3d(umap_components, x=\"component_1\", y=\"component_2\", z=\"component_3\", color=\"class\")\n",
        "\n",
        "fig.update_layout(margin=dict(l=0, r=0, b=0, t=0))"
      ],
      "execution_count": 114,
      "outputs": [
        {
          "output_type": "display_data",
          "data": {
            "text/html": [
              "<html>\n",
              "<head><meta charset=\"utf-8\" /></head>\n",
              "<body>\n",
              "    <div>\n",
              "            <script src=\"https://cdnjs.cloudflare.com/ajax/libs/mathjax/2.7.5/MathJax.js?config=TeX-AMS-MML_SVG\"></script><script type=\"text/javascript\">if (window.MathJax) {MathJax.Hub.Config({SVG: {font: \"STIX-Web\"}});}</script>\n",
              "                <script type=\"text/javascript\">window.PlotlyConfig = {MathJaxConfig: 'local'};</script>\n",
              "        <script src=\"https://cdn.plot.ly/plotly-latest.min.js\"></script>    \n",
              "            <div id=\"b49a96f6-0f13-41ff-a016-a2e4e4523637\" class=\"plotly-graph-div\" style=\"height:525px; width:100%;\"></div>\n",
              "            <script type=\"text/javascript\">\n",
              "                \n",
              "                    window.PLOTLYENV=window.PLOTLYENV || {};\n",
              "                    \n",
              "                if (document.getElementById(\"b49a96f6-0f13-41ff-a016-a2e4e4523637\")) {\n",
              "                    Plotly.newPlot(\n",
              "                        'b49a96f6-0f13-41ff-a016-a2e4e4523637',\n",
              "                        [{\"hoverlabel\": {\"namelength\": 0}, \"hovertemplate\": \"class=6<br>component_1=%{x}<br>component_2=%{y}<br>component_3=%{z}\", \"legendgroup\": \"class=6\", \"marker\": {\"color\": \"#636efa\", \"symbol\": \"circle\"}, \"mode\": \"markers\", \"name\": \"class=6\", \"scene\": \"scene\", \"showlegend\": true, \"type\": \"scatter3d\", \"x\": [0.978882372379303, 2.3607120513916016, -1.2648524045944214, -0.590077817440033, 0.6745066046714783, 4.9901323318481445, -2.435898780822754, 0.009784901514649391, -0.14643609523773193, 0.38516971468925476, 2.385409355163574, 4.780555248260498, 3.1093735694885254, 3.997432231903076, 3.1207032203674316, -3.229041814804077, 0.9023098945617676, -1.038422703742981, -2.581345796585083, 2.2371513843536377, 2.388643264770508, -0.1368287354707718, 2.2042410373687744, 0.03155940771102905, 3.0591676235198975, 1.6357316970825195, -3.7362470626831055, -1.5141692161560059, -1.979081153869629, -3.10359525680542, -1.1550391912460327, -3.2174928188323975, 4.651743412017822, 1.7965580224990845, 15.926826477050781, 3.234175682067871, 0.5996736288070679, 15.205857276916504, 0.22796396911144257, 13.495370864868164, 1.8921622037887573, 2.162914991378784, 2.564208507537842, -3.740537643432617, 1.1577022075653076, 2.9675450325012207, 1.4579111337661743, 4.085916042327881, 2.6812121868133545, 0.3119693696498871, 2.1930510997772217, -1.4983336925506592, -0.7787373065948486, -1.960519552230835, 4.002844333648682, -2.023073434829712, -2.0618348121643066, 0.6616628170013428, 1.6515058279037476, 5.7956132888793945, -0.4954427480697632, -4.054666042327881, 1.779739499092102, -0.4556770622730255, 0.08344730734825134, 2.955089807510376, -2.9978232383728027, 0.7244855165481567, 5.6488471031188965, 0.26067668199539185, 1.3771570920944214, 4.759400367736816, 15.359344482421875, 1.4458435773849487, 0.6580551266670227], \"y\": [16.117450714111328, -1.9587825536727905, 11.081960678100586, 11.801915168762207, 15.596529960632324, 3.361915111541748, -3.1668405532836914, -1.815779209136963, -1.8247709274291992, -1.7664368152618408, -1.7719721794128418, 3.279198169708252, 3.0033113956451416, 3.202510118484497, 11.416032791137695, 11.439127922058105, 10.947602272033691, 11.144155502319336, 11.577193260192871, 11.240367889404297, -1.9983006715774536, -1.8808319568634033, -1.6801276206970215, 12.675386428833008, -1.8556760549545288, -1.5481399297714233, 11.260047912597656, 11.076346397399902, -2.926790237426758, 11.314223289489746, -2.5327541828155518, 11.4518461227417, 3.300697088241577, -1.6155803203582764, -1.2666451930999756, 3.117358922958374, 14.484846115112305, -1.9146957397460938, 11.287607192993164, -1.9061490297317505, -1.7263480424880981, 11.064864158630371, 3.023268699645996, 10.891570091247559, 11.046435356140137, 3.0667757987976074, -1.7853752374649048, 3.2080318927764893, 3.0157549381256104, 3.152628183364868, -1.9772576093673706, 11.4296875, 11.710620880126953, -2.97871470451355, 3.199309825897217, 10.762775421142578, 10.708681106567383, 14.858697891235352, -1.4488654136657715, 3.434812307357788, 11.519909858703613, 11.157389640808105, -1.598636269569397, 3.39894437789917, -1.7653312683105469, -2.1218860149383545, 11.511034965515137, -1.748892068862915, 3.4296505451202393, 12.962383270263672, 3.0062546730041504, 3.2485666275024414, -1.8696582317352295, -1.2094789743423462, 15.372036933898926], \"z\": [-3.51377010345459, -0.8669624328613281, 7.2388081550598145, 6.829184532165527, -2.9574532508850098, 3.5844268798828125, 10.860078811645508, 8.537873268127441, 8.639689445495605, 7.994170665740967, -0.06489204615354538, 3.484931230545044, 3.6706976890563965, 3.5907206535339355, 10.505585670471191, 3.835665225982666, 8.958054542541504, 7.438853740692139, 5.28017520904541, 9.649392127990723, -1.1881765127182007, 8.685148239135742, 0.2668604552745819, 6.752400875091553, 0.4200489819049835, 6.516941070556641, 6.551732063293457, 6.900300979614258, 10.539323806762695, 3.723593235015869, 9.713656425476074, 3.661285638809204, 3.582981586456299, -3.175818681716919, 2.716017246246338, 3.824049949645996, -1.5965782403945923, 2.2095558643341064, 8.200639724731445, 2.2799243927001953, -2.8691935539245605, 9.757881164550781, 3.974308490753174, 2.739272117614746, 9.075185775756836, 3.8709607124328613, 6.8377766609191895, 3.5696957111358643, 3.986590623855591, 4.449225425720215, -1.7321527004241943, 6.501265525817871, 6.737614154815674, 10.518495559692383, 3.593379259109497, 7.279819488525391, 7.32746696472168, -2.1175973415374756, -3.4627115726470947, 3.7084805965423584, 7.327478885650635, 6.873141288757324, -3.0761795043945312, 4.496765613555908, 8.442780494689941, 6.1385087966918945, 4.740209102630615, 7.564345836639404, 3.6651089191436768, 6.68065881729126, 4.334257125854492, 3.6167216300964355, 2.296004056930542, 6.423079490661621, -2.7109155654907227]}, {\"hoverlabel\": {\"namelength\": 0}, \"hovertemplate\": \"class=2<br>component_1=%{x}<br>component_2=%{y}<br>component_3=%{z}\", \"legendgroup\": \"class=2\", \"marker\": {\"color\": \"#EF553B\", \"symbol\": \"circle\"}, \"mode\": \"markers\", \"name\": \"class=2\", \"scene\": \"scene\", \"showlegend\": true, \"type\": \"scatter3d\", \"x\": [2.4480435848236084, 2.7735555171966553, 13.773051261901855, -3.676126480102539, 2.98171329498291, -2.9470672607421875, 2.148240804672241, 1.345523476600647, 3.3843483924865723, 2.9428985118865967, 0.3145389258861542, 2.9769093990325928, -1.1818956136703491, 0.994342029094696, 0.6158059239387512, 0.057085417211055756, 0.8435709476470947, -3.0971267223358154, -0.048649780452251434, 13.475360870361328, -1.5579168796539307, -3.5069332122802734, 2.918731927871704, -2.945958137512207, 2.947852373123169, 1.7311683893203735, -0.6171529293060303, -0.423418790102005, 5.5543012619018555, -2.7623791694641113, -0.8729782104492188, 0.4000430405139923, -0.12428457289934158, 2.4485366344451904, 2.1922528743743896, 0.9991797208786011, 1.7499176263809204, -1.6636738777160645, 0.7937545776367188, 16.159847259521484, -1.5171568393707275, -1.2292366027832031, -3.489492654800415, -4.124635219573975, 0.7455427646636963, 0.5168415904045105, -0.8326214551925659, 1.9645875692367554, 13.488178253173828, 3.4124948978424072, -3.20011043548584, 0.9653393626213074, 1.8291945457458496, 1.467734932899475, 1.2028224468231201, 0.6597568392753601, -3.304518222808838, 2.1150145530700684, -1.221814751625061, -2.952951431274414, -0.46311154961586, 3.2888193130493164, -0.9336934089660645, -0.5042503476142883, -3.59026837348938, -3.034564971923828, 5.883315086364746, 2.0644335746765137, -0.7280535697937012, -0.6699413657188416, -0.8625344038009644, 2.9927480220794678, 0.9051138758659363, 3.3069663047790527, 0.2804993987083435], \"y\": [-2.01267409324646, 3.06230092048645, -2.079113006591797, 10.945721626281738, -2.2164156436920166, 11.002752304077148, 11.096063613891602, 2.8367369174957275, 11.61464786529541, -1.7806861400604248, 13.017473220825195, -1.8447513580322266, 11.86003303527832, 3.0910866260528564, -1.6965067386627197, -1.7465823888778687, 10.889196395874023, -3.534996271133423, -1.8156038522720337, -1.9365664720535278, -2.7658157348632812, 11.315275192260742, -1.8954569101333618, 11.502432823181152, -1.9030879735946655, -1.5285874605178833, 11.587411880493164, 3.396066904067993, 3.4262778759002686, 11.47933292388916, 3.6477816104888916, 3.123669147491455, 3.355226755142212, 11.225046157836914, -1.9750949144363403, 14.597402572631836, -1.550159215927124, 11.549115180969238, 13.993441581726074, -0.9770079851150513, 11.535080909729004, 11.010031700134277, 11.115370750427246, 11.237384796142578, 14.94383716583252, 14.333788871765137, -2.356109380722046, -1.8085993528366089, -1.9189969301223755, 3.0541574954986572, 11.470311164855957, 14.293286323547363, 2.806473731994629, -1.7898619174957275, -1.3413097858428955, 15.268607139587402, 11.435079574584961, -2.2329983711242676, 11.392671585083008, 11.217141151428223, 12.124913215637207, 3.10945725440979, 11.42682933807373, 12.185613632202148, 11.034173965454102, 11.473895072937012, 3.4860763549804688, -2.183976173400879, 3.5411007404327393, -2.218350410461426, 3.639622211456299, -1.938071370124817, 14.496818542480469, 11.534334182739258, 12.979705810546875], \"z\": [-1.254612684249878, 3.9449455738067627, 2.147562265396118, 2.809112548828125, 6.255135536193848, 6.364177703857422, 9.767452239990234, 4.267858028411865, 10.763504028320312, 0.5098843574523926, 6.705322742462158, 0.22853322327136993, 6.247282981872559, 4.440009593963623, 7.663365364074707, 8.480938911437988, 8.95628547668457, 11.31143569946289, 8.58602237701416, 2.245183229446411, 10.1280517578125, 6.371928691864014, -0.14142628014087677, 4.892754554748535, -0.13079436123371124, -3.332279682159424, 7.1216254234313965, 4.478860855102539, 3.6212871074676514, 5.093692302703857, 4.170332908630371, 4.418245315551758, 4.789815902709961, 9.921523094177246, -1.5895291566848755, -1.961121678352356, -3.288005828857422, 6.174032688140869, -1.2196989059448242, 2.932741403579712, 6.310725212097168, 6.8110551834106445, 3.130626678466797, 6.92567253112793, -2.278778076171875, -1.4060759544372559, 9.397817611694336, -2.803340435028076, 2.2608861923217773, 3.647568702697754, 3.923328161239624, -1.6175485849380493, 4.378147125244141, 6.8609514236450195, 6.784887790679932, -2.59183931350708, 3.746490240097046, 6.601969242095947, 6.742188930511475, 3.7648417949676514, 6.648784637451172, 3.8153235912323, 7.029084205627441, 6.608719348907471, 2.902409553527832, 4.241424560546875, 3.7720632553100586, 6.574545860290527, 4.292880058288574, 9.21986198425293, 4.180424690246582, -0.11807417124509811, -1.946142315864563, 10.686805725097656, 6.685493469238281]}, {\"hoverlabel\": {\"namelength\": 0}, \"hovertemplate\": \"class=5<br>component_1=%{x}<br>component_2=%{y}<br>component_3=%{z}\", \"legendgroup\": \"class=5\", \"marker\": {\"color\": \"#00cc96\", \"symbol\": \"circle\"}, \"mode\": \"markers\", \"name\": \"class=5\", \"scene\": \"scene\", \"showlegend\": true, \"type\": \"scatter3d\", \"x\": [0.5542082786560059, 3.3422369956970215, 0.4451887905597687, 15.302433967590332, -1.052744746208191, -3.228001356124878, -0.17351651191711426, 0.5894936919212341, -1.6464989185333252, -3.716534376144409, 1.9294451475143433, 1.2342334985733032, 0.6678208112716675, -1.1234930753707886, 1.6857211589813232, 15.262497901916504, -3.123473882675171, -2.882326602935791, 2.2031450271606445, -2.054229259490967, -3.554386854171753, -3.6345739364624023, 0.7950169444084167, 3.699814796447754, 2.381077766418457, -3.991989850997925, 1.1031650304794312, 1.0267441272735596, 2.1473965644836426, -0.3087296187877655, 3.128891944885254, 0.9141330718994141, 0.6463231444358826, 0.9370520710945129, -0.23973223567008972, -0.8963779211044312, 2.0434329509735107, 2.518993854522705, -1.4617383480072021, 0.9729956984519958, 14.97179889678955, 0.9847780466079712, 1.292409896850586, 4.6564836502075195, -0.29440411925315857, 2.0919439792633057, 1.4236863851547241, 4.695254802703857, 2.59291934967041, -3.675553798675537, 0.7674360275268555, 3.034536838531494, 0.856840968132019, -0.48171547055244446, 2.676605224609375, 1.8076132535934448, -1.8808690309524536, 2.8728959560394287, 3.140130043029785, 1.7018367052078247, 0.10674767196178436, 2.100745439529419, 0.9592177867889404, 3.0100255012512207, -0.8963921666145325, 0.04301904886960983, 2.4166250228881836, 0.5412520170211792, 2.1301419734954834, 1.3274904489517212, 2.0278501510620117, 0.6148532032966614, -0.44300445914268494, 4.6501688957214355, 1.9810293912887573], \"y\": [3.1406431198120117, 11.540531158447266, 11.150472640991211, -1.8896675109863281, 10.87578010559082, 11.416000366210938, 3.380805492401123, 14.921259880065918, -2.8100202083587646, 10.913016319274902, -1.9036743640899658, -1.2751760482788086, -1.6611520051956177, 11.262545585632324, -1.483116865158081, -1.915383219718933, 11.500988006591797, 11.450501441955566, -2.0887815952301025, 10.716606140136719, 11.325267791748047, 10.988218307495117, 14.585782051086426, 3.172395706176758, 11.3125581741333, 11.16670036315918, -1.7334973812103271, 14.346668243408203, -1.660746455192566, 3.4020090103149414, -2.004089117050171, 16.040176391601562, 14.617717742919922, 11.039956092834473, 11.391186714172363, -2.397264242172241, -1.8923923969268799, -1.820038080215454, -2.72810697555542, 16.1136417388916, -2.0106189250946045, 14.338181495666504, -1.1489392518997192, 3.2295145988464355, 3.310922384262085, 3.0512149333953857, -1.5173137187957764, 3.2585926055908203, -1.9425084590911865, 11.251909255981445, 14.851820945739746, -1.8439682722091675, 14.084482192993164, 11.80832290649414, 3.0626587867736816, 11.085869789123535, 11.628202438354492, -1.8995407819747925, 11.492752075195312, -1.5003583431243896, 3.246159553527832, -1.9372495412826538, 14.263716697692871, -2.1754801273345947, 3.668487548828125, 3.236997365951538, -1.8418360948562622, 13.737003326416016, -1.9489336013793945, -1.346685767173767, 11.051728248596191, 14.200854301452637, 11.320419311523438, 3.2785825729370117, -1.9101876020431519], \"z\": [4.519050598144531, 10.720983505249023, 8.434383392333984, 2.2528223991394043, 6.688054084777832, 5.71830940246582, 4.778901100158691, -2.154738187789917, 10.218152046203613, 2.742903709411621, -0.7591047286987305, 6.706029891967773, 7.594585418701172, 6.979397296905518, -3.4115958213806152, 2.2399916648864746, 4.242426872253418, 4.269853591918945, 6.4252800941467285, 7.310716152191162, 6.372427940368652, 2.8607659339904785, -1.8952358961105347, 3.6807544231414795, 9.724824905395508, 6.794772148132324, 7.1565165519714355, -1.8366843461990356, 0.256702721118927, 4.675078392028809, 0.06471634656190872, -3.432157278060913, -1.8165881633758545, 8.90986442565918, 7.730102062225342, 9.462654113769531, -2.562514305114746, -0.08416964113712311, 10.028664588928223, -3.50998592376709, 2.2047879695892334, -1.7859468460083008, 6.531757831573486, 3.6104743480682373, 4.485252380371094, 4.1104230880737305, 6.6728291511535645, 3.538419008255005, -0.6286137700080872, 6.532467842102051, -2.17279052734375, 0.3818310797214508, -1.3459833860397339, 7.00682258605957, 3.9350266456604004, 9.43356990814209, 5.8144965171813965, -0.2606630325317383, 10.519440650939941, -3.336184501647949, 4.673874855041504, -2.4572277069091797, -1.5881625413894653, 6.189142227172852, 4.148507118225098, 4.627122402191162, -0.2193046361207962, -0.8036374449729919, -1.7392115592956543, 6.661228179931641, 9.660836219787598, -1.3140017986297607, 7.615590572357178, 3.5029752254486084, -0.7300796508789062]}, {\"hoverlabel\": {\"namelength\": 0}, \"hovertemplate\": \"class=9<br>component_1=%{x}<br>component_2=%{y}<br>component_3=%{z}\", \"legendgroup\": \"class=9\", \"marker\": {\"color\": \"#ab63fa\", \"symbol\": \"circle\"}, \"mode\": \"markers\", \"name\": \"class=9\", \"scene\": \"scene\", \"showlegend\": true, \"type\": \"scatter3d\", \"x\": [2.705972671508789, 0.21482571959495544, 0.9498093128204346, 0.2543178200721741, 2.5367517471313477, -3.02296781539917, 1.1466182470321655, 2.173111915588379, 13.775711059570312, 15.337944984436035, -0.39842626452445984, 2.2758138179779053, -1.9888863563537598, 2.807061195373535, -1.4534196853637695, 14.603644371032715, 13.499998092651367, -0.002040175022557378, 2.8678767681121826, 16.191791534423828, 15.193273544311523, -2.7787976264953613, 2.8209846019744873, 1.3920410871505737, 14.273078918457031, -1.228258490562439, 0.48217472434043884, -0.020590433850884438, 1.0221689939498901, 1.8841972351074219, -0.8495177626609802, -0.896365761756897, 15.956689834594727, 13.529911041259766, 14.080221176147461, 1.9265698194503784, -2.9296300411224365, -4.1173882484436035, 0.6544947624206543, -3.6570136547088623, 0.3152885138988495, -0.4256705641746521, 0.2517527639865875, -2.7971835136413574, 3.7331883907318115, 2.0069053173065186, 2.0512354373931885, 0.7447223663330078, -0.7264254689216614, 2.0187265872955322, 14.278970718383789, -1.810805082321167, 0.942762017250061, 1.9973094463348389, 0.5124282836914062, -1.9880390167236328, 0.7055493593215942, -3.84431529045105, -0.5578562021255493, 0.10995253175497055, 0.8845661282539368, 0.3541092574596405, 2.9337668418884277, -3.4465396404266357, -2.5048704147338867, -3.188910722732544, 0.04059045389294624, 3.0522940158843994, 0.25613933801651, -4.032910346984863, 0.6564891338348389, 0.5243895053863525, 2.7086048126220703, 16.131881713867188], \"y\": [-1.7624667882919312, 12.908649444580078, -1.7848396301269531, 12.9537353515625, 11.289603233337402, 11.49693489074707, -0.804895281791687, -1.6304585933685303, -2.031374216079712, -1.864229679107666, 11.31888484954834, 11.094863891601562, -2.9743998050689697, -2.1086063385009766, -2.7134833335876465, -2.13504695892334, -1.9485009908676147, 3.2183830738067627, -2.1246602535247803, -0.9412335753440857, -1.9175492525100708, 11.090076446533203, -2.132078170776367, -1.217868685722351, -2.2013511657714844, 11.416667938232422, 11.221534729003906, -1.8056612014770508, 10.967422485351562, -1.7348600625991821, 3.6282644271850586, -2.3913450241088867, -1.234561562538147, -1.927251935005188, -2.195692300796509, -1.7831048965454102, -3.42055606842041, 11.208746910095215, 15.394266128540039, 10.969193458557129, 13.018346786499023, 11.460923194885254, 12.951523780822754, 11.33489990234375, 3.172348737716675, -1.867643117904663, -1.9030988216400146, 15.029256820678711, -2.2626614570617676, -1.899625301361084, -2.2371666431427, 10.92549991607666, 16.075056076049805, -1.8568938970565796, 14.637763023376465, 11.632061958312988, 13.918143272399902, 11.19484806060791, 11.919410705566406, 3.316915273666382, 15.993037223815918, 11.220623016357422, -2.217325448989868, 11.165587425231934, 11.58834457397461, 11.378278732299805, 12.696367263793945, -1.950838565826416, 11.26827335357666, 11.139315605163574, 14.72350025177002, -1.7575523853302002, -2.1316263675689697, -1.0063973665237427], \"z\": [0.030570918694138527, 6.676988124847412, 7.346296310424805, 6.670785427093506, 9.93360710144043, 4.971894264221191, 6.4065070152282715, 0.32993483543395996, 2.1138534545898438, 2.276533842086792, 7.6809587478637695, 9.970352172851562, 10.541740417480469, 6.294045448303223, 10.021653175354004, 2.113973617553711, 2.2378768920898438, 4.4896626472473145, 6.205765724182129, 2.968224048614502, 2.2084836959838867, 6.687383651733398, 6.235334396362305, 6.481647491455078, 2.0473694801330566, 6.637032508850098, 8.406233787536621, 8.571742057800293, 9.043414115905762, -2.6726157665252686, 4.193131446838379, 9.462790489196777, 2.7431602478027344, 2.257469892501831, 2.076859474182129, -2.5932161808013916, 11.19446849822998, 6.924951553344727, -2.7329092025756836, 2.810659885406494, 6.7069783210754395, 7.484035968780518, 6.681089878082275, 4.147204399108887, 3.654694080352783, -2.0724363327026367, -2.6771812438964844, -2.370978593826294, 9.289571762084961, -1.6315792798995972, 2.009097099304199, 7.285685062408447, -3.468648910522461, -2.5735766887664795, -1.7256134748458862, 5.684351921081543, -1.130639910697937, 6.648234844207764, 6.776174068450928, 4.762141227722168, -3.382830858230591, 8.322966575622559, 6.250491619110107, 3.2278804779052734, 5.1118669509887695, 3.6949007511138916, 6.712070941925049, -0.0016054135048761964, 8.227252960205078, 6.872375011444092, -1.9317772388458252, 7.797107219696045, 6.269427299499512, 2.90693736076355]}, {\"hoverlabel\": {\"namelength\": 0}, \"hovertemplate\": \"class=3<br>component_1=%{x}<br>component_2=%{y}<br>component_3=%{z}\", \"legendgroup\": \"class=3\", \"marker\": {\"color\": \"#FFA15A\", \"symbol\": \"circle\"}, \"mode\": \"markers\", \"name\": \"class=3\", \"scene\": \"scene\", \"showlegend\": true, \"type\": \"scatter3d\", \"x\": [15.704899787902832, 2.0966413021087646, 5.522811412811279, 2.0706329345703125, 2.6741225719451904, -2.053001642227173, 2.264716148376465, 1.341841459274292, 1.0353882312774658, 2.8664348125457764, 2.498095750808716, -2.7376482486724854, 1.5047698020935059, 3.3503594398498535, 15.451715469360352, -2.6925806999206543, 4.597665309906006, 1.7778174877166748, -0.09569817781448364, -3.1775686740875244, 0.37141677737236023, 2.8022165298461914, 13.853619575500488, -1.0766552686691284, 3.406548261642456, 0.9933781623840332, 0.933538556098938, 5.843231678009033, 3.9521987438201904, -2.4154624938964844, 2.239851951599121, 1.0428920984268188, 13.623823165893555, 1.0262316465377808, -0.624534547328949, 4.5031232833862305, -2.2987399101257324, 2.194654703140259, -3.732666254043579, 0.7570763826370239, -2.674504041671753, -0.795002818107605, 2.5609519481658936, 0.7318605780601501, 1.447424292564392, 15.923982620239258, 1.3567386865615845, 2.072377920150757, 2.065434455871582, 0.6464716792106628, -2.908916473388672, 13.781435012817383, 1.897658109664917, 0.6916016936302185, 2.4502525329589844, -1.8087213039398193, 14.212121963500977, 16.127483367919922, 2.642691135406494, 2.32908034324646, 1.9782334566116333, 1.8455296754837036, -4.124246597290039, 0.6334497332572937, 1.8912395238876343, -1.2857818603515625, -0.010423878207802773, -2.761681318283081, 1.4018398523330688, -0.09340397268533707, -0.5434457659721375, 5.013195514678955, 0.7300705909729004, 3.168797492980957, 15.401627540588379], \"y\": [-1.5199317932128906, -1.936327576637268, 3.4308793544769287, 2.873579263687134, 3.0319344997406006, 11.710309982299805, -2.072662353515625, -1.1563947200775146, 16.177104949951172, -1.8285011053085327, -2.017590045928955, 11.458168983459473, -1.318257212638855, 11.619542121887207, -1.780681848526001, 11.457076072692871, 3.2376315593719482, 11.067511558532715, -1.8575046062469482, 11.409394264221191, 3.143763542175293, -1.802973747253418, -2.0798075199127197, 11.451776504516602, 3.066009998321533, 14.3860502243042, 10.934893608093262, 3.468479633331299, 3.2027506828308105, -3.1458206176757812, -1.9724916219711304, 16.185087203979492, -1.979805588722229, 2.9279534816741943, -2.0725531578063965, 3.219294786453247, -3.087188959121704, -1.9977662563323975, 11.214644432067871, 15.016829490661621, -3.264645576477051, -2.336965799331665, 11.33377742767334, 14.628931999206543, -1.7353805303573608, -1.2699006795883179, -1.5520774126052856, -2.1596245765686035, 10.999835014343262, 3.1267166137695312, 11.461762428283691, -2.053690195083618, 3.009320020675659, 15.53674030303955, -1.9964261054992676, 10.95475959777832, -2.17551851272583, -1.0135157108306885, 11.34493637084961, -2.0333309173583984, -1.8285866975784302, -2.113227367401123, 11.296701431274414, 14.885698318481445, -2.14153790473938, 11.059293746948242, 3.3171911239624023, 11.435077667236328, -1.2814661264419556, -1.8708841800689697, -2.1666555404663086, 3.373809337615967, 3.1737887859344482, 11.455111503601074, -1.7915611267089844], \"z\": [2.5269978046417236, -1.5589933395385742, 3.6397838592529297, 4.282040119171143, 3.8720836639404297, 5.517458438873291, 6.377361297607422, 6.477014541625977, -3.573352336883545, -0.14183947443962097, -1.1993474960327148, 4.609250068664551, 6.5023512840271, 10.729461669921875, 2.3538553714752197, 4.678841590881348, 3.5156748294830322, 9.449676513671875, 8.645268440246582, 5.761690139770508, 4.443579196929932, 0.011756296269595623, 2.1592390537261963, 6.873803615570068, 3.655388593673706, -1.8328914642333984, 9.006545066833496, 3.7513585090637207, 3.618105888366699, 10.8383150100708, -1.3662168979644775, -3.581597328186035, 2.2161037921905518, 4.566686153411865, 9.086433410644531, 3.600336790084839, 10.755043983459473, -2.1190366744995117, 6.602616786956787, -2.359661817550659, 11.005037307739258, 9.365949630737305, 9.904730796813965, -1.8647253513336182, 6.8319478034973145, 2.7145633697509766, 6.7642645835876465, 6.55179500579834, 9.702476501464844, 4.538078784942627, 4.372493267059326, 2.189465284347534, 4.257911682128906, -2.8740673065185547, -1.1951682567596436, 7.231365203857422, 2.0924081802368164, 2.903625011444092, 9.99360179901123, 6.313624382019043, -2.7022178173065186, 6.708622455596924, 6.936862945556641, -2.1464223861694336, 6.687245845794678, 7.343360424041748, 4.827625274658203, 4.349401473999023, 6.531156063079834, 8.655210494995117, 9.11509895324707, 3.607224225997925, 4.563596725463867, 10.551133155822754, 2.2982707023620605]}, {\"hoverlabel\": {\"namelength\": 0}, \"hovertemplate\": \"class=8<br>component_1=%{x}<br>component_2=%{y}<br>component_3=%{z}\", \"legendgroup\": \"class=8\", \"marker\": {\"color\": \"#19d3f3\", \"symbol\": \"circle\"}, \"mode\": \"markers\", \"name\": \"class=8\", \"scene\": \"scene\", \"showlegend\": true, \"type\": \"scatter3d\", \"x\": [-0.6804537177085876, -3.0330049991607666, 1.0411826372146606, 0.3500179648399353, 0.053977806121110916, 15.179041862487793, -1.3670563697814941, 13.330406188964844, 2.2588629722595215, 0.5232797265052795, -0.5297029614448547, 0.5548747777938843, 1.8775138854980469, -1.619486689567566, 5.342398643493652, 0.6756604313850403, 13.46977710723877, 5.404968738555908, -2.1227867603302, -1.5913454294204712, 0.8777210116386414, -3.7659292221069336, 0.6077653169631958, 0.15095050632953644, -1.6724660396575928, 15.17044734954834, 0.5662429332733154, -1.0120220184326172, 2.1572253704071045, 3.3631174564361572, -3.6380081176757812, 1.3191694021224976, 1.4181609153747559, -0.33266371488571167, 4.173131465911865, 2.5541234016418457, -3.0221681594848633, 4.355031490325928, 2.3836798667907715, 5.424312591552734, 0.29289257526397705, -3.0812926292419434, 3.3214621543884277, -2.95876407623291, -2.8673198223114014, 0.6000998020172119, -0.960881769657135, 0.5599283576011658, -2.1565589904785156, 2.917067050933838, 13.486416816711426, 0.6476758122444153, -2.1945748329162598, 2.1485254764556885, -0.7735397219657898, -1.4183313846588135, 0.045834969729185104, 1.9748836755752563, -0.07459498941898346, 0.55753493309021, -2.902989387512207, -3.025184392929077, -1.5005544424057007, 1.8612298965454102, -1.3724539279937744, 2.6187002658843994, -0.39213281869888306, 2.7726168632507324, 5.5696702003479, 2.7911767959594727, 0.9035084247589111, 2.372002601623535, 0.6136454939842224, 14.376618385314941, 3.804825782775879], \"y\": [11.934069633483887, 11.232693672180176, 16.181598663330078, 11.199861526489258, 12.715519905090332, -1.903069019317627, 11.75374984741211, -1.824588656425476, 11.112414360046387, 11.133064270019531, 11.927075386047363, 14.739624977111816, -1.8316339254379272, 10.907515525817871, 3.388653516769409, 15.677372932434082, -1.9172461032867432, 3.3666694164276123, 11.649503707885742, 11.428211212158203, 13.975639343261719, 11.186845779418945, 14.05544662475586, 3.466386079788208, 11.38135051727295, -1.9301724433898926, -1.7369942665100098, 11.66049575805664, -1.9430545568466187, 11.647960662841797, 10.983864784240723, 10.959175109863281, -1.6622917652130127, 3.348479986190796, 3.2033355236053467, -2.171292304992676, -3.4595327377319336, 3.253690242767334, -2.16167950630188, 3.340115785598755, 12.995484352111816, -3.511326313018799, 11.5961332321167, 11.17609977722168, 11.47265911102295, 14.819351196289062, -2.3908495903015137, 13.673247337341309, 10.785270690917969, -1.9024657011032104, -1.886051893234253, 13.670116424560547, 11.623212814331055, 3.052687644958496, -2.2216274738311768, -2.6946768760681152, -1.7568446397781372, -1.9128187894821167, 3.311488389968872, 3.1452088356018066, 11.137919425964355, -3.47080135345459, -2.7538766860961914, -1.6716538667678833, 10.968409538269043, -2.0124480724334717, 3.3729891777038574, -2.156114101409912, 3.426877021789551, -2.085202932357788, 10.815511703491211, 11.255342483520508, 13.73220443725586, -2.185894727706909, 3.1273539066314697], \"z\": [6.645588397979736, 3.7306363582611084, -3.5773580074310303, 8.343683242797852, 6.707763195037842, 2.2416419982910156, 6.160860061645508, 2.337885618209839, 9.88469123840332, 8.522695541381836, 6.776013374328613, -1.8401235342025757, -0.6700560450553894, 7.086497783660889, 3.6046457290649414, -3.048413038253784, 2.2648322582244873, 3.5886921882629395, 5.546502113342285, 6.415392875671387, -1.3068934679031372, 6.632030963897705, -1.1390422582626343, 4.910475730895996, 6.436703205108643, 2.2069783210754395, 7.742832183837891, 6.557240962982178, -1.543661117553711, 10.742186546325684, 2.847241163253784, 9.267400741577148, 6.782205104827881, 4.516813278198242, 3.549126386642456, 6.343787670135498, 11.235782623291016, 3.549790859222412, 6.395493984222412, 3.6995351314544678, 6.6901960372924805, 11.288973808288574, 10.700727462768555, 6.648461818695068, 5.3929762840271, -2.034844398498535, 9.509416580200195, -0.7397540211677551, 7.2531843185424805, -0.13491587340831757, 2.299900531768799, -0.7653490900993347, 5.5033721923828125, 4.120723724365234, 9.27686595916748, 9.985679626464844, 8.487491607666016, -0.8267173171043396, 4.694246292114258, 4.2979326248168945, 6.55672025680542, 11.247427940368652, 10.068897247314453, -2.9589412212371826, 6.837454319000244, -1.0047900676727295, 4.482175350189209, 6.285421371459961, 3.6400420665740967, 6.2745866775512695, 8.968400001525879, 9.685921669006348, -0.8188034296035767, 2.0450282096862793, 3.584550142288208]}, {\"hoverlabel\": {\"namelength\": 0}, \"hovertemplate\": \"class=4<br>component_1=%{x}<br>component_2=%{y}<br>component_3=%{z}\", \"legendgroup\": \"class=4\", \"marker\": {\"color\": \"#FF6692\", \"symbol\": \"circle\"}, \"mode\": \"markers\", \"name\": \"class=4\", \"scene\": \"scene\", \"showlegend\": true, \"type\": \"scatter3d\", \"x\": [13.967225074768066, 0.6821796894073486, 0.6440667510032654, -3.2091476917266846, -4.0400872230529785, 2.198242664337158, 2.2389683723449707, -0.10405489802360535, -2.9589977264404297, 2.0087273120880127, -3.5420525074005127, 14.452013969421387, -1.904454231262207, -3.7335782051086426, 1.5289114713668823, -4.035999774932861, -1.0268679857254028, 1.4407910108566284, 1.9636123180389404, 0.6344852447509766, 3.0358500480651855, 0.6292796730995178, 2.968640089035034, -2.2893218994140625, -0.835750162601471, 3.029825210571289, 4.108975887298584, 2.097203254699707, -1.6815298795700073, 1.884427547454834, -1.8163152933120728, 2.364438533782959, 1.4416251182556152, 3.0937986373901367, -3.0129075050354004, -0.9827858209609985, 0.9243502020835876, 2.487576961517334, -3.239710569381714, -3.7481698989868164, 2.9716947078704834, 0.9894663691520691, -1.0348271131515503, -3.1778488159179688, -3.5861093997955322, 1.5683891773223877, 1.173064112663269, 3.014542579650879, 0.5375813245773315, 2.8805911540985107, -3.0400493144989014, -2.0555615425109863, 0.4506855607032776, 4.628270149230957, 5.923457145690918, -1.8311829566955566, 3.3208179473876953, -1.456302285194397, 0.6620620489120483, -3.661651611328125, 0.6564151644706726, 0.3476434350013733, 0.7325207591056824, -2.5656635761260986, 3.245793342590332, 0.6843966245651245, -2.533334732055664, 14.59745979309082, -0.0704251229763031, 1.9913430213928223, -1.6744318008422852, 2.986987829208374, 3.329556703567505, 2.47839617729187, 0.6195333003997803], \"y\": [-2.161250114440918, 15.09743595123291, 3.0658092498779297, 11.542917251586914, 11.054389953613281, -2.0110573768615723, -1.9705209732055664, 12.48543930053711, 11.225610733032227, 11.08084774017334, 11.059250831604004, -2.1547391414642334, 10.870704650878906, 10.89816665649414, 11.080598831176758, 11.113909721374512, 10.923957824707031, -1.7765281200408936, -2.10056471824646, 14.184926986694336, -1.8199865818023682, 13.751012802124023, 3.0715994834899902, -3.070896863937378, 3.6160366535186768, -1.9547057151794434, 3.2667396068573, -2.1423656940460205, -2.765171527862549, 11.061687469482422, -2.887641429901123, -2.0110414028167725, -1.7463265657424927, -1.933106780052185, -3.452773094177246, 10.783774375915527, 14.287464141845703, 11.32087230682373, 11.47804069519043, 11.242852210998535, -1.7743191719055176, 14.39829158782959, 10.825874328613281, 11.309069633483887, 11.222274780273438, -1.5743906497955322, 3.029946804046631, -1.8146361112594604, 14.398571014404297, -1.7527748346328735, 11.507539749145508, -2.9396748542785645, 3.149531126022339, 3.289402723312378, 3.483163833618164, -2.8452677726745605, 3.1343979835510254, 11.496294975280762, 15.537256240844727, 10.983154296875, 3.129465103149414, 11.233312606811523, 13.94857406616211, 11.50242805480957, 11.442898750305176, 15.348816871643066, -3.1967272758483887, -2.1165425777435303, 3.342451572418213, -1.8409769535064697, -2.862628936767578, 11.41895580291748, 11.567870140075684, -1.6426950693130493, 15.377545356750488], \"z\": [2.1024928092956543, -2.4135749340057373, 4.631926536560059, 3.668384075164795, 6.853221893310547, 6.369889736175537, -1.7440346479415894, 6.768218517303467, 3.780451536178589, 9.65284538269043, 3.013981580734253, 2.1506330966949463, 7.242753028869629, 2.714818239212036, 9.263472557067871, 6.828441619873047, 6.675231456756592, 6.853355884552002, 6.603419780731201, -1.3083773851394653, 0.42684921622276306, -0.8512735962867737, 3.916644811630249, 10.755392074584961, 4.20461368560791, -0.07901274412870407, 3.6445446014404297, 6.510243892669678, 10.241427421569824, 9.555431365966797, 10.384844779968262, -1.2441641092300415, 6.828461647033691, 0.16726063191890717, 11.23165512084961, 6.658367156982422, -1.678286075592041, 9.841955184936523, 3.772324323654175, 6.564795970916748, 0.3857533633708954, -1.873992681503296, 6.724445819854736, 3.6589322090148926, 6.519288063049316, 6.576587200164795, 4.398028373718262, 0.46809884905815125, -1.4839870929718018, 0.47601255774497986, 4.374808311462402, 10.629569053649902, 4.436662673950195, 3.4389333724975586, 3.791431188583374, 10.39338493347168, 3.8076555728912354, 6.410633087158203, -2.9168202877044678, 2.6497480869293213, 4.34063196182251, 8.315662384033203, -1.1362918615341187, 4.855044841766357, 10.62771987915039, -2.6848506927490234, 10.914094924926758, 2.1758601665496826, 4.804361820220947, -2.677760362625122, 10.22907543182373, 10.37454891204834, 10.709039688110352, 0.5225247144699097, -2.700960874557495]}, {\"hoverlabel\": {\"namelength\": 0}, \"hovertemplate\": \"class=0<br>component_1=%{x}<br>component_2=%{y}<br>component_3=%{z}\", \"legendgroup\": \"class=0\", \"marker\": {\"color\": \"#B6E880\", \"symbol\": \"circle\"}, \"mode\": \"markers\", \"name\": \"class=0\", \"scene\": \"scene\", \"showlegend\": true, \"type\": \"scatter3d\", \"x\": [-0.28033530712127686, -1.131242275238037, 3.418644428253174, 14.253422737121582, 2.879483699798584, -2.9659531116485596, 0.6223807334899902, 3.0635485649108887, -0.6195265054702759, 0.7123728394508362, -3.9455270767211914, 15.445838928222656, 1.4285982847213745, -2.4005532264709473, -2.9302730560302734, -1.3897162675857544, 5.878997325897217, -3.577847719192505, 2.764285087585449, 2.1131608486175537, 0.531091034412384, 1.115164875984192, 1.0416526794433594, 1.0277684926986694, 3.4746053218841553, 5.545469284057617, 5.051992893218994, -3.583388566970825, -1.0913207530975342, 0.9327822327613831, -1.1122430562973022], \"y\": [3.3249239921569824, -2.5130867958068848, 3.105588436126709, -2.181899070739746, -1.8364968299865723, 11.48953914642334, 15.577096939086914, -1.8414441347122192, -2.065985679626465, 13.874582290649414, 11.196991920471191, -1.7967100143432617, -1.249903678894043, -3.1459102630615234, 11.098971366882324, 11.171012878417969, 3.46226167678833, 11.265484809875488, -2.1247546672821045, -1.9552720785140991, -1.7265056371688843, -0.8189770579338074, 14.640974998474121, 16.17148780822754, 3.1133809089660645, 3.4338009357452393, 3.3607945442199707, 11.286776542663574, 11.552595138549805, 16.06182861328125, -2.5117604732513428], \"z\": [4.5340704917907715, 9.690637588500977, 3.7175955772399902, 2.0800676345825195, 0.169950932264328, 5.3142547607421875, -2.9557366371154785, 0.4709083139896393, 9.087053298950195, -1.032065510749817, 6.745058536529541, 2.3555707931518555, 6.473842620849609, 10.832724571228027, 6.464926719665527, 6.775791645050049, 3.771411418914795, 6.463204383850098, 6.253747940063477, -2.470402240753174, 7.769199371337891, 6.4520955085754395, -2.0184566974639893, -3.5682430267333984, 3.7023770809173584, 3.6662752628326416, 3.5780882835388184, 6.402439594268799, 6.596787929534912, -3.4550094604492188, 9.672507286071777]}, {\"hoverlabel\": {\"namelength\": 0}, \"hovertemplate\": \"class=11<br>component_1=%{x}<br>component_2=%{y}<br>component_3=%{z}\", \"legendgroup\": \"class=11\", \"marker\": {\"color\": \"#FF97FF\", \"symbol\": \"circle\"}, \"mode\": \"markers\", \"name\": \"class=11\", \"scene\": \"scene\", \"showlegend\": true, \"type\": \"scatter3d\", \"x\": [13.891446113586426, -0.5500434637069702, -1.6753767728805542, 1.6709805727005005, 15.934556007385254, 1.2074825763702393, 14.41836166381836, -3.0418105125427246, 1.2668315172195435, 0.7600218057632446, 3.7404682636260986, 1.66032874584198, 1.1672289371490479, 2.108154296875, -1.3911644220352173, 3.8669257164001465, 15.119186401367188, 0.5695514678955078, 1.6555535793304443, 2.0762081146240234, 1.9813823699951172, -3.755739212036133, -3.4124338626861572, 3.0340664386749268, -1.3648686408996582, 13.800329208374023, 4.839884281158447, 0.6715416312217712, 0.9665520191192627, 2.287809133529663, 1.1467429399490356, 5.905488014221191, 0.6485038995742798, 2.854618549346924, -3.0739753246307373, 2.576261520385742, 13.982401847839355, 1.5940189361572266, 15.926886558532715, 1.8780304193496704, 16.119935989379883, 4.773726463317871, 4.839155197143555, 16.007177352905273, 1.647748589515686, 1.2971417903900146, 4.372478485107422, -1.6213828325271606, -1.0966025590896606, 0.5972850918769836, 0.7372617125511169, -2.816946268081665, 4.729093074798584, 14.247159957885742, 4.37954044342041, 1.826818585395813, 0.8135783672332764, 2.4064722061157227, 15.028594970703125, 2.1634528636932373, -1.9561097621917725, -2.9798662662506104, -1.5847017765045166, 0.5233166217803955, 1.329027771949768, 1.984609842300415, 2.6730966567993164, -1.9196419715881348, 3.342837333679199, 2.126769781112671, -0.5713818073272705, 1.9604393243789673, -1.7701455354690552, 2.0363171100616455, 0.7937909960746765], \"y\": [-2.1541144847869873, 12.008654594421387, 11.760924339294434, -1.4687913656234741, -1.2654049396514893, -0.8696438670158386, -2.1931540966033936, 11.466251373291016, -1.5442063808441162, -1.769307255744934, 3.1939003467559814, -1.4575128555297852, -1.2511141300201416, -1.6909650564193726, 11.617359161376953, 3.158909559249878, -1.9583792686462402, 14.660722732543945, -1.4544346332550049, -2.2253549098968506, -1.805100679397583, 10.87593936920166, 11.238626480102539, 3.0818824768066406, 11.134875297546387, -2.103762626647949, 3.3049609661102295, 15.654613494873047, 10.88913631439209, -2.0188376903533936, -0.7825547456741333, 3.4594202041625977, 15.541236877441406, -2.1301681995391846, -3.504091739654541, -1.7421317100524902, -2.1634891033172607, -1.39017653465271, -1.2605646848678589, -1.7330266237258911, -1.0334545373916626, 3.2734971046447754, 3.3041374683380127, -1.1716276407241821, -1.4448366165161133, -0.7626978158950806, 3.2361862659454346, 11.70129108428955, 11.005069732666016, 3.1606061458587646, -1.7593369483947754, 11.533856391906738, 3.213817596435547, -2.2200169563293457, 3.2967848777770996, 10.979283332824707, -1.765640139579773, -1.814844012260437, -1.983891248703003, -1.6525126695632935, -2.955172538757324, -3.4222607612609863, -2.820895195007324, 11.164544105529785, 11.102351188659668, -1.9287670850753784, 3.050443649291992, -2.9250648021698, 11.555963516235352, -1.9832152128219604, 11.975752830505371, 11.115560531616211, -2.8712198734283447, 11.161078453063965, 10.937032699584961], \"z\": [2.0930278301239014, 6.690386772155762, 5.917486667633057, -3.446381092071533, 2.7245335578918457, 6.3310866355896, 2.019521951675415, 5.466095447540283, 6.834035873413086, 7.53045654296875, 3.6904242038726807, -3.4488413333892822, 6.765517234802246, 0.26128941774368286, 6.302467346191406, 3.598400592803955, 2.2069578170776367, -1.7720329761505127, -3.4693310260772705, 6.622016906738281, 6.391330242156982, 2.690739631652832, 6.510697364807129, 3.8854103088378906, 7.085286617279053, 2.1322622299194336, 3.5608952045440674, -3.0245442390441895, 9.040241241455078, -1.7434988021850586, 6.401763439178467, 3.795644998550415, -2.9307074546813965, 6.220978260040283, 11.280891418457031, 0.15580615401268005, 2.098101854324341, -3.3521835803985596, 2.7167534828186035, -2.5754380226135254, 2.88564133644104, 3.539654493331909, 3.5287630558013916, 2.7924563884735107, -3.480055332183838, 6.056958198547363, 3.582148790359497, 5.969319820404053, 6.733739852905273, 4.429178714752197, 7.553072929382324, 5.202832221984863, 3.61871337890625, 2.023984909057617, 3.6041839122772217, 9.627346992492676, 7.475337028503418, -0.13738153874874115, 2.154632806777954, 0.2916339337825775, 10.514824867248535, 11.196874618530273, 10.15104866027832, 8.510334014892578, 9.094106674194336, -0.8369006514549255, 3.928636312484741, 10.481812477111816, 10.72262191772461, 6.4126505851745605, 6.699651718139648, 9.526448249816895, 10.340341567993164, 9.56814193725586, 8.903141021728516]}, {\"hoverlabel\": {\"namelength\": 0}, \"hovertemplate\": \"class=1<br>component_1=%{x}<br>component_2=%{y}<br>component_3=%{z}\", \"legendgroup\": \"class=1\", \"marker\": {\"color\": \"#FECB52\", \"symbol\": \"circle\"}, \"mode\": \"markers\", \"name\": \"class=1\", \"scene\": \"scene\", \"showlegend\": true, \"type\": \"scatter3d\", \"x\": [0.9904200434684753, -3.214570999145508, -3.9452943801879883, 0.5585572123527527, 0.5866658687591553, 1.60027277469635, 2.6801376342773438, 14.482335090637207, 0.8318887948989868, -1.1244655847549438, -2.727471351623535, 0.25680088996887207, -1.136723518371582, 1.8182319402694702, 0.8868181109428406, 2.01876163482666, 3.330118179321289, -0.4140982925891876, 1.187158465385437, -1.483367681503296, -2.8217968940734863, -1.839695930480957, -0.8169282078742981, -0.031711261719465256, -0.8667231202125549, 3.148683547973633, -3.7508952617645264, -1.171829342842102, 1.0308470726013184, -0.10128249228000641, 1.287688136100769, 4.899932861328125, 0.7183436751365662, -3.1366443634033203, 2.4162914752960205, -1.4420572519302368, 0.9941799640655518, 0.29094409942626953, 15.418978691101074, 0.048114728182554245, 2.7442941665649414, 4.507855415344238, -3.1949214935302734, 0.045874278992414474, -3.6803619861602783, 1.8945858478546143, 0.9318920969963074, -1.984967589378357, -3.6961467266082764, 2.356065034866333, 1.7362024784088135, 2.8487627506256104, 5.518447399139404, 16.115381240844727, -2.2537171840667725, 15.996015548706055, -3.5720410346984863, 2.3918802738189697, -1.604216456413269, 0.5314602851867676, 14.600451469421387, -3.9378981590270996, -3.610846757888794, 0.992790162563324, -3.191122055053711, 2.85292911529541, 5.405456066131592, 14.244348526000977, 0.26481926441192627, -4.0247392654418945, -0.816394031047821, 1.0019922256469727, 3.2460389137268066, 2.0184202194213867, 1.9435604810714722], \"y\": [11.057726860046387, 11.442283630371094, 11.091121673583984, 13.8379487991333, -1.7210922241210938, 2.9868383407592773, -1.9920042753219604, -2.1578750610351562, 14.077012062072754, 11.467466354370117, 11.458157539367676, 11.267682075500488, 11.782088279724121, -1.6254748106002808, 14.517409324645996, -1.8835119009017944, 11.532912254333496, 11.514135360717773, -1.095503568649292, 11.02546501159668, -3.338778257369995, -2.9208037853240967, -2.3348474502563477, -1.8199375867843628, 12.005358695983887, 11.47342586517334, 10.88286304473877, -2.5423991680145264, 14.444887161254883, 3.322380304336548, 3.009838104248047, 3.3042595386505127, 14.906949996948242, 11.333671569824219, -2.019843339920044, 10.985172271728516, 14.326238632202148, 3.1516127586364746, -1.7878086566925049, -1.775684118270874, 3.0696096420288086, 3.29050612449646, 11.44204044342041, -1.7879021167755127, 10.939826011657715, -1.7397500276565552, 14.269411087036133, 10.719840049743652, 10.935839653015137, -1.6618210077285767, 11.195640563964844, -2.1099109649658203, 3.352174997329712, -1.0261597633361816, 11.612278938293457, -1.1818652153015137, 11.29849624633789, -2.0327348709106445, -2.7963449954986572, 14.667905807495117, -2.111400842666626, 11.130492210388184, 11.304943084716797, 10.907197952270508, 11.272601127624512, -1.9570270776748657, 3.3854868412017822, -2.1620419025421143, 12.967711448669434, 11.216655731201172, 3.603409767150879, 14.707035064697266, 11.468239784240723, -1.872694730758667, -1.9123611450195312], \"z\": [8.958844184875488, 3.842468738555908, 6.7445526123046875, -0.9155346751213074, 7.6986799240112305, 4.3212809562683105, -0.856193482875824, 2.23201322555542, -1.3445947170257568, 6.658566474914551, 4.74557638168335, 8.228151321411133, 6.351936340332031, -3.157111406326294, -1.893919825553894, -2.570307493209839, 10.710454940795898, 7.428352355957031, 6.598973751068115, 7.047998905181885, 11.10051155090332, 10.40823745727539, 9.380011558532715, 8.576274871826172, 6.408084392547607, 10.528782844543457, 2.690403699874878, 9.730108261108398, -1.7683368921279907, 4.719964027404785, 4.357370853424072, 3.49357008934021, -2.2182159423828125, 3.7201945781707764, -1.3390337228775024, 6.962864398956299, -1.7759313583374023, 4.460789203643799, 2.3257253170013428, 8.48523235321045, 3.8916938304901123, 3.5186767578125, 3.64900541305542, 8.486031532287598, 2.883476972579956, -2.7533867359161377, -1.7000304460525513, 7.346774578094482, 2.7499663829803467, 0.3852536976337433, 9.230963706970215, 6.258245468139648, 3.5828537940979004, 2.8918240070343018, 5.437849998474121, 2.7821218967437744, 6.394528388977051, -1.4283177852630615, 10.174288749694824, -1.7762250900268555, 2.1926605701446533, 6.74019718170166, 6.429749011993408, 9.058320045471191, 3.578119993209839, -0.46756207942962646, 3.580580472946167, 2.1536364555358887, 6.6713175773620605, 6.852020740509033, 4.2188005447387695, -2.0877912044525146, 10.6270112991333, -2.5381686687469482, -0.8463567495346069]}, {\"hoverlabel\": {\"namelength\": 0}, \"hovertemplate\": \"class=10<br>component_1=%{x}<br>component_2=%{y}<br>component_3=%{z}\", \"legendgroup\": \"class=10\", \"marker\": {\"color\": \"#636efa\", \"symbol\": \"circle\"}, \"mode\": \"markers\", \"name\": \"class=10\", \"scene\": \"scene\", \"showlegend\": true, \"type\": \"scatter3d\", \"x\": [2.7621610164642334, 3.1429624557495117, 2.594123601913452, 5.418955326080322, -1.2237720489501953, -0.4140974283218384, -2.0385618209838867, 1.5602608919143677, -3.735318660736084, 1.2165549993515015, 2.942122220993042, 1.679276704788208, -2.9935214519500732, -2.863539695739746, -3.0976970195770264, -3.25454044342041, 0.2903749942779541, 16.130279541015625, -3.986360788345337, -1.5369411706924438, -3.0123796463012695, 2.5558104515075684, 1.2232089042663574, 1.0300418138504028, 0.7254984378814697, 14.432976722717285, -1.2370237112045288, -0.06657671183347702, 2.1644461154937744, 0.849109411239624, 5.921209335327148, 0.611712634563446, 16.14142608642578, 1.4243849515914917, -0.5711901783943176, -0.3196406960487366, 1.9445480108261108, 0.8948048949241638, -2.713512659072876, 2.054084300994873, 0.22748558223247528, 0.6774425506591797, -1.0462579727172852, -3.3169913291931152, 3.396497964859009, -1.0926183462142944, 1.9742226600646973, -2.0878543853759766, -0.6442059278488159, 1.29587721824646, 3.0596375465393066, 2.045018434524536, 0.9119837880134583, 15.367243766784668, 1.990170955657959, 0.7287634015083313, 2.216871500015259, -0.5074023008346558, 1.7085825204849243, -1.3912909030914307, 0.7074013948440552, 1.4739710092544556, 4.150238037109375, -3.9041450023651123, -1.7318240404129028, 2.2906229496002197, 14.039717674255371, 13.482844352722168, 2.9268863201141357, -2.6574740409851074, -1.3445042371749878, 0.2446332573890686, -2.6507608890533447, 16.12778663635254, -0.4309794306755066], \"y\": [-1.7655740976333618, 11.462607383728027, 11.332417488098145, 3.420339584350586, 11.121289253234863, 3.370717763900757, -2.9748411178588867, -1.8897649049758911, 11.370564460754395, 11.034880638122559, -1.8798836469650269, 11.199888229370117, 11.494268417358398, -3.3438785076141357, 11.494848251342773, 11.344703674316406, 3.2923483848571777, -0.9743063449859619, 11.134222984313965, 11.355439186096191, 11.484906196594238, -1.9816956520080566, 3.0003483295440674, 10.969926834106445, 15.489645957946777, -2.1841063499450684, 11.06351089477539, 3.2850213050842285, -1.6516528129577637, 14.764342308044434, 3.4814035892486572, 3.1474688053131104, -1.0022852420806885, -1.4475032091140747, 11.885536193847656, -1.9923295974731445, -2.0306179523468018, 14.079273223876953, 11.517602920532227, -1.906283974647522, 12.92501449584961, 14.051669120788574, 11.564558029174805, 11.30625057220459, 3.1269092559814453, 11.455326080322266, -1.8331679105758667, -3.0163724422454834, -2.114191770553589, -1.8297538757324219, -1.9484524726867676, -1.8534579277038574, 3.1221225261688232, -1.8456889390945435, -1.8446738719940186, 15.466253280639648, 3.0475375652313232, 12.160751342773438, 11.20703125, -2.6829192638397217, 15.658751487731934, 11.22691822052002, 3.2224223613739014, 11.199706077575684, 11.013773918151855, -2.0159554481506348, -2.1983203887939453, -1.8821070194244385, -2.1626977920532227, 11.496870040893555, 11.737114906311035, 3.1651971340179443, 11.441197395324707, -1.01174795627594, 11.523248672485352], \"z\": [0.023439576849341393, 10.522903442382812, 9.956995964050293, 3.6960208415985107, 7.3405866622924805, 4.457479953765869, 10.582507133483887, 6.8247809410095215, 6.444675445556641, 9.129142761230469, -0.00043721619294956326, 9.17281436920166, 5.029143333435059, 11.1159086227417, 4.214128017425537, 3.6180427074432373, 4.787951469421387, 2.943129539489746, 6.766387939453125, 6.5848894119262695, 5.3085737228393555, -0.8766089677810669, 4.391679286956787, 9.019330024719238, -2.8272316455841064, 2.04238224029541, 7.43184757232666, 4.74928617477417, 0.289152055978775, -2.1467161178588867, 3.776832342147827, 4.582027435302734, 2.9151508808135986, 6.636539936065674, 6.781429767608643, 8.86816120147705, 6.574094295501709, -1.398462176322937, 5.143331050872803, -2.6447243690490723, 6.662664890289307, -1.1969162225723267, 6.701079845428467, 3.4996652603149414, 3.783933162689209, 6.803367614746094, -2.6031267642974854, 10.62571907043457, 9.129671096801758, 7.037062644958496, 0.029131926596164703, -0.5159062147140503, 4.490530967712402, 2.3050808906555176, -2.5797994136810303, -2.816591739654541, 4.113109588623047, 6.611000061035156, 9.187891960144043, 9.957042694091797, -3.00887131690979, 9.010110855102539, 3.5651683807373047, 6.718757629394531, 7.291072845458984, -1.7056835889816284, 2.0466408729553223, 2.251056671142578, 6.212600231170654, 5.249879837036133, 6.203092098236084, 4.480059623718262, 5.225451469421387, 2.902829647064209, 7.398481369018555]}, {\"hoverlabel\": {\"namelength\": 0}, \"hovertemplate\": \"class=7<br>component_1=%{x}<br>component_2=%{y}<br>component_3=%{z}\", \"legendgroup\": \"class=7\", \"marker\": {\"color\": \"#EF553B\", \"symbol\": \"circle\"}, \"mode\": \"markers\", \"name\": \"class=7\", \"scene\": \"scene\", \"showlegend\": true, \"type\": \"scatter3d\", \"x\": [15.430355072021484, 0.7463263273239136, -3.056349277496338, -4.149441719055176, 1.845024585723877, 15.384563446044922, -3.4819769859313965, 1.8624404668807983, -2.065138101577759, 0.10277706384658813, -3.137833595275879, 2.991032600402832, 1.3060381412506104, -2.9961931705474854, 2.4204280376434326, -0.588828980922699, 3.3789327144622803, 0.522308886051178, -3.953037738800049, 0.7985185980796814, -3.0554986000061035, 2.1087656021118164, 3.011941432952881, 3.5715994834899902, 2.6278717517852783, -0.5916473865509033, 0.661034882068634, 0.2590371072292328, -0.9946378469467163, -2.9654381275177, 2.930210590362549, 13.959973335266113, 15.762920379638672, 5.9253411293029785, 0.6230665445327759, 1.062221646308899, 3.0485994815826416, 0.3079444468021393, 1.969360113143921, -2.9472761154174805, 2.0279757976531982, 5.380493640899658, -2.6694796085357666, -0.6947420835494995, 0.5831728577613831, 0.38869670033454895, 0.9709627628326416, -3.083338499069214, 2.9304966926574707, -2.2072744369506836, 5.444775581359863, 2.122589111328125, -2.8886499404907227, 13.761801719665527, 5.064690113067627, 2.394686460494995, -0.9791116714477539, 0.5969727635383606, -1.8457714319229126, -0.8933987021446228, -1.742517352104187, -2.993648052215576, 1.669646143913269, -3.3564682006835938, -0.8705499768257141, 2.2049877643585205, 2.966054916381836, 3.0193376541137695, 1.674298644065857, 0.03316746652126312, 0.19230550527572632, 0.3558354079723358, -2.0518813133239746, 1.9652944803237915, 2.167487144470215], \"y\": [-1.808448314666748, 14.171676635742188, 11.483156204223633, 11.271965980529785, -1.6515648365020752, -1.8394161462783813, 11.099398612976074, 11.151423454284668, 10.707100868225098, 3.332127571105957, 11.438786506652832, 11.408828735351562, -1.3126457929611206, -3.4368796348571777, 2.8798747062683105, -2.057161569595337, 11.611858367919922, 14.39079475402832, 11.134824752807617, 3.164184808731079, 11.264896392822266, -1.9774444103240967, 3.0450448989868164, 3.1265311241149902, 3.0469553470611572, 11.83004093170166, 15.35672378540039, 3.1493148803710938, 10.891481399536133, -3.424804449081421, -2.199385404586792, -2.175665855407715, -1.4536045789718628, 3.4699487686157227, 3.0872762203216553, 10.960102081298828, -1.8442071676254272, 13.007925033569336, -1.87485933303833, -3.4044487476348877, -1.874988079071045, 3.396953821182251, 11.34929084777832, -2.13944673538208, 13.778820991516113, 11.154207229614258, 16.106897354125977, -3.5154409408569336, -2.158426523208618, -3.0361337661743164, 3.41745662689209, 3.065490245819092, 11.46854305267334, -2.053626537322998, 3.326270580291748, 11.16024398803711, 10.95462703704834, 15.002981185913086, -2.859576940536499, 11.541158676147461, 10.984447479248047, 11.536416053771973, 10.961723327636719, 11.289710998535156, 3.6501095294952393, 11.141481399536133, 3.0882322788238525, -1.7913544178009033, 11.185662269592285, 3.2467243671417236, 11.300932884216309, 11.2321195602417, 10.70938491821289, -1.8915026187896729, 11.069456100463867], \"z\": [2.368115186691284, -1.3766332864761353, 5.355587005615234, 6.9513421058654785, -3.121844530105591, 2.30871844291687, 3.1231894493103027, 9.395191192626953, 7.324958801269531, 4.817541122436523, 3.9378933906555176, 10.382533073425293, 6.650228023529053, 11.214679718017578, 4.202987194061279, 9.066521644592285, 10.757759094238281, -1.4672808647155762, 6.764989852905273, 4.500362873077393, 3.7550535202026367, 6.400839805603027, 3.7955546379089355, 3.6598806381225586, 3.9446401596069336, 6.84105110168457, -2.6834909915924072, 4.4600958824157715, 6.682539939880371, 11.198946952819824, 6.2425856590271, 2.0649302005767822, 2.5780575275421143, 3.7943363189697266, 4.694373607635498, 9.083571434020996, 0.45656779408454895, 6.715661525726318, -0.5973489880561829, 11.181806564331055, -0.5668929219245911, 3.6220922470092773, 5.001613140106201, 9.17010498046875, -0.8624240159988403, 8.37768268585205, -3.5022048950195312, 11.291739463806152, 6.147842884063721, 10.706155776977539, 3.6371872425079346, 4.176461696624756, 5.318742752075195, 2.1724376678466797, 3.535877227783203, 9.966482162475586, 6.644242763519287, -2.273360013961792, 10.41142749786377, 6.761728286743164, 7.283329486846924, 4.395289421081543, 9.527003288269043, 3.4292125701904297, 4.167728424072266, 9.787609100341797, 3.9043707847595215, 0.4926413893699646, 9.204717636108398, 4.684340476989746, 8.141988754272461, 8.31593132019043, 7.30947732925415, -0.7029722929000854, 9.782206535339355]}],\n",
              "                        {\"legend\": {\"tracegroupgap\": 0}, \"margin\": {\"b\": 0, \"l\": 0, \"r\": 0, \"t\": 0}, \"scene\": {\"domain\": {\"x\": [0.0, 1.0], \"y\": [0.0, 1.0]}, \"xaxis\": {\"title\": {\"text\": \"component_1\"}}, \"yaxis\": {\"title\": {\"text\": \"component_2\"}}, \"zaxis\": {\"title\": {\"text\": \"component_3\"}}}, \"template\": {\"data\": {\"bar\": [{\"error_x\": {\"color\": \"#2a3f5f\"}, \"error_y\": {\"color\": \"#2a3f5f\"}, \"marker\": {\"line\": {\"color\": \"#E5ECF6\", \"width\": 0.5}}, \"type\": \"bar\"}], \"barpolar\": [{\"marker\": {\"line\": {\"color\": \"#E5ECF6\", \"width\": 0.5}}, \"type\": \"barpolar\"}], \"carpet\": [{\"aaxis\": {\"endlinecolor\": \"#2a3f5f\", \"gridcolor\": \"white\", \"linecolor\": \"white\", \"minorgridcolor\": \"white\", \"startlinecolor\": \"#2a3f5f\"}, \"baxis\": {\"endlinecolor\": \"#2a3f5f\", \"gridcolor\": \"white\", \"linecolor\": \"white\", \"minorgridcolor\": \"white\", \"startlinecolor\": \"#2a3f5f\"}, \"type\": \"carpet\"}], \"choropleth\": [{\"colorbar\": {\"outlinewidth\": 0, \"ticks\": \"\"}, \"type\": \"choropleth\"}], \"contour\": [{\"colorbar\": {\"outlinewidth\": 0, \"ticks\": \"\"}, \"colorscale\": [[0.0, \"#0d0887\"], [0.1111111111111111, \"#46039f\"], [0.2222222222222222, \"#7201a8\"], [0.3333333333333333, \"#9c179e\"], [0.4444444444444444, \"#bd3786\"], [0.5555555555555556, \"#d8576b\"], [0.6666666666666666, \"#ed7953\"], [0.7777777777777778, \"#fb9f3a\"], [0.8888888888888888, \"#fdca26\"], [1.0, \"#f0f921\"]], \"type\": \"contour\"}], \"contourcarpet\": [{\"colorbar\": {\"outlinewidth\": 0, \"ticks\": \"\"}, \"type\": \"contourcarpet\"}], \"heatmap\": [{\"colorbar\": {\"outlinewidth\": 0, \"ticks\": \"\"}, \"colorscale\": [[0.0, \"#0d0887\"], [0.1111111111111111, \"#46039f\"], [0.2222222222222222, \"#7201a8\"], [0.3333333333333333, \"#9c179e\"], [0.4444444444444444, \"#bd3786\"], [0.5555555555555556, \"#d8576b\"], [0.6666666666666666, \"#ed7953\"], [0.7777777777777778, \"#fb9f3a\"], [0.8888888888888888, \"#fdca26\"], [1.0, \"#f0f921\"]], \"type\": \"heatmap\"}], \"heatmapgl\": [{\"colorbar\": {\"outlinewidth\": 0, \"ticks\": \"\"}, \"colorscale\": [[0.0, \"#0d0887\"], [0.1111111111111111, \"#46039f\"], [0.2222222222222222, \"#7201a8\"], [0.3333333333333333, \"#9c179e\"], [0.4444444444444444, \"#bd3786\"], [0.5555555555555556, \"#d8576b\"], [0.6666666666666666, \"#ed7953\"], [0.7777777777777778, \"#fb9f3a\"], [0.8888888888888888, \"#fdca26\"], [1.0, \"#f0f921\"]], \"type\": \"heatmapgl\"}], \"histogram\": [{\"marker\": {\"colorbar\": {\"outlinewidth\": 0, \"ticks\": \"\"}}, \"type\": \"histogram\"}], \"histogram2d\": [{\"colorbar\": {\"outlinewidth\": 0, \"ticks\": \"\"}, \"colorscale\": [[0.0, \"#0d0887\"], [0.1111111111111111, \"#46039f\"], [0.2222222222222222, \"#7201a8\"], [0.3333333333333333, \"#9c179e\"], [0.4444444444444444, \"#bd3786\"], [0.5555555555555556, \"#d8576b\"], [0.6666666666666666, \"#ed7953\"], [0.7777777777777778, \"#fb9f3a\"], [0.8888888888888888, \"#fdca26\"], [1.0, \"#f0f921\"]], \"type\": \"histogram2d\"}], \"histogram2dcontour\": [{\"colorbar\": {\"outlinewidth\": 0, \"ticks\": \"\"}, \"colorscale\": [[0.0, \"#0d0887\"], [0.1111111111111111, \"#46039f\"], [0.2222222222222222, \"#7201a8\"], [0.3333333333333333, \"#9c179e\"], [0.4444444444444444, \"#bd3786\"], [0.5555555555555556, \"#d8576b\"], [0.6666666666666666, \"#ed7953\"], [0.7777777777777778, \"#fb9f3a\"], [0.8888888888888888, \"#fdca26\"], [1.0, \"#f0f921\"]], \"type\": \"histogram2dcontour\"}], \"mesh3d\": [{\"colorbar\": {\"outlinewidth\": 0, \"ticks\": \"\"}, \"type\": \"mesh3d\"}], \"parcoords\": [{\"line\": {\"colorbar\": {\"outlinewidth\": 0, \"ticks\": \"\"}}, \"type\": \"parcoords\"}], \"pie\": [{\"automargin\": true, \"type\": \"pie\"}], \"scatter\": [{\"marker\": {\"colorbar\": {\"outlinewidth\": 0, \"ticks\": \"\"}}, \"type\": \"scatter\"}], \"scatter3d\": [{\"line\": {\"colorbar\": {\"outlinewidth\": 0, \"ticks\": \"\"}}, \"marker\": {\"colorbar\": {\"outlinewidth\": 0, \"ticks\": \"\"}}, \"type\": \"scatter3d\"}], \"scattercarpet\": [{\"marker\": {\"colorbar\": {\"outlinewidth\": 0, \"ticks\": \"\"}}, \"type\": \"scattercarpet\"}], \"scattergeo\": [{\"marker\": {\"colorbar\": {\"outlinewidth\": 0, \"ticks\": \"\"}}, \"type\": \"scattergeo\"}], \"scattergl\": [{\"marker\": {\"colorbar\": {\"outlinewidth\": 0, \"ticks\": \"\"}}, \"type\": \"scattergl\"}], \"scattermapbox\": [{\"marker\": {\"colorbar\": {\"outlinewidth\": 0, \"ticks\": \"\"}}, \"type\": \"scattermapbox\"}], \"scatterpolar\": [{\"marker\": {\"colorbar\": {\"outlinewidth\": 0, \"ticks\": \"\"}}, \"type\": \"scatterpolar\"}], \"scatterpolargl\": [{\"marker\": {\"colorbar\": {\"outlinewidth\": 0, \"ticks\": \"\"}}, \"type\": \"scatterpolargl\"}], \"scatterternary\": [{\"marker\": {\"colorbar\": {\"outlinewidth\": 0, \"ticks\": \"\"}}, \"type\": \"scatterternary\"}], \"surface\": [{\"colorbar\": {\"outlinewidth\": 0, \"ticks\": \"\"}, \"colorscale\": [[0.0, \"#0d0887\"], [0.1111111111111111, \"#46039f\"], [0.2222222222222222, \"#7201a8\"], [0.3333333333333333, \"#9c179e\"], [0.4444444444444444, \"#bd3786\"], [0.5555555555555556, \"#d8576b\"], [0.6666666666666666, \"#ed7953\"], [0.7777777777777778, \"#fb9f3a\"], [0.8888888888888888, \"#fdca26\"], [1.0, \"#f0f921\"]], \"type\": \"surface\"}], \"table\": [{\"cells\": {\"fill\": {\"color\": \"#EBF0F8\"}, \"line\": {\"color\": \"white\"}}, \"header\": {\"fill\": {\"color\": \"#C8D4E3\"}, \"line\": {\"color\": \"white\"}}, \"type\": \"table\"}]}, \"layout\": {\"annotationdefaults\": {\"arrowcolor\": \"#2a3f5f\", \"arrowhead\": 0, \"arrowwidth\": 1}, \"coloraxis\": {\"colorbar\": {\"outlinewidth\": 0, \"ticks\": \"\"}}, \"colorscale\": {\"diverging\": [[0, \"#8e0152\"], [0.1, \"#c51b7d\"], [0.2, \"#de77ae\"], [0.3, \"#f1b6da\"], [0.4, \"#fde0ef\"], [0.5, \"#f7f7f7\"], [0.6, \"#e6f5d0\"], [0.7, \"#b8e186\"], [0.8, \"#7fbc41\"], [0.9, \"#4d9221\"], [1, \"#276419\"]], \"sequential\": [[0.0, \"#0d0887\"], [0.1111111111111111, \"#46039f\"], [0.2222222222222222, \"#7201a8\"], [0.3333333333333333, \"#9c179e\"], [0.4444444444444444, \"#bd3786\"], [0.5555555555555556, \"#d8576b\"], [0.6666666666666666, \"#ed7953\"], [0.7777777777777778, \"#fb9f3a\"], [0.8888888888888888, \"#fdca26\"], [1.0, \"#f0f921\"]], \"sequentialminus\": [[0.0, \"#0d0887\"], [0.1111111111111111, \"#46039f\"], [0.2222222222222222, \"#7201a8\"], [0.3333333333333333, \"#9c179e\"], [0.4444444444444444, \"#bd3786\"], [0.5555555555555556, \"#d8576b\"], [0.6666666666666666, \"#ed7953\"], [0.7777777777777778, \"#fb9f3a\"], [0.8888888888888888, \"#fdca26\"], [1.0, \"#f0f921\"]]}, \"colorway\": [\"#636efa\", \"#EF553B\", \"#00cc96\", \"#ab63fa\", \"#FFA15A\", \"#19d3f3\", \"#FF6692\", \"#B6E880\", \"#FF97FF\", \"#FECB52\"], \"font\": {\"color\": \"#2a3f5f\"}, \"geo\": {\"bgcolor\": \"white\", \"lakecolor\": \"white\", \"landcolor\": \"#E5ECF6\", \"showlakes\": true, \"showland\": true, \"subunitcolor\": \"white\"}, \"hoverlabel\": {\"align\": \"left\"}, \"hovermode\": \"closest\", \"mapbox\": {\"style\": \"light\"}, \"paper_bgcolor\": \"white\", \"plot_bgcolor\": \"#E5ECF6\", \"polar\": {\"angularaxis\": {\"gridcolor\": \"white\", \"linecolor\": \"white\", \"ticks\": \"\"}, \"bgcolor\": \"#E5ECF6\", \"radialaxis\": {\"gridcolor\": \"white\", \"linecolor\": \"white\", \"ticks\": \"\"}}, \"scene\": {\"xaxis\": {\"backgroundcolor\": \"#E5ECF6\", \"gridcolor\": \"white\", \"gridwidth\": 2, \"linecolor\": \"white\", \"showbackground\": true, \"ticks\": \"\", \"zerolinecolor\": \"white\"}, \"yaxis\": {\"backgroundcolor\": \"#E5ECF6\", \"gridcolor\": \"white\", \"gridwidth\": 2, \"linecolor\": \"white\", \"showbackground\": true, \"ticks\": \"\", \"zerolinecolor\": \"white\"}, \"zaxis\": {\"backgroundcolor\": \"#E5ECF6\", \"gridcolor\": \"white\", \"gridwidth\": 2, \"linecolor\": \"white\", \"showbackground\": true, \"ticks\": \"\", \"zerolinecolor\": \"white\"}}, \"shapedefaults\": {\"line\": {\"color\": \"#2a3f5f\"}}, \"ternary\": {\"aaxis\": {\"gridcolor\": \"white\", \"linecolor\": \"white\", \"ticks\": \"\"}, \"baxis\": {\"gridcolor\": \"white\", \"linecolor\": \"white\", \"ticks\": \"\"}, \"bgcolor\": \"#E5ECF6\", \"caxis\": {\"gridcolor\": \"white\", \"linecolor\": \"white\", \"ticks\": \"\"}}, \"title\": {\"x\": 0.05}, \"xaxis\": {\"automargin\": true, \"gridcolor\": \"white\", \"linecolor\": \"white\", \"ticks\": \"\", \"title\": {\"standoff\": 15}, \"zerolinecolor\": \"white\", \"zerolinewidth\": 2}, \"yaxis\": {\"automargin\": true, \"gridcolor\": \"white\", \"linecolor\": \"white\", \"ticks\": \"\", \"title\": {\"standoff\": 15}, \"zerolinecolor\": \"white\", \"zerolinewidth\": 2}}}},\n",
              "                        {\"responsive\": true}\n",
              "                    ).then(function(){\n",
              "                            \n",
              "var gd = document.getElementById('b49a96f6-0f13-41ff-a016-a2e4e4523637');\n",
              "var x = new MutationObserver(function (mutations, observer) {{\n",
              "        var display = window.getComputedStyle(gd).display;\n",
              "        if (!display || display === 'none') {{\n",
              "            console.log([gd, 'removed!']);\n",
              "            Plotly.purge(gd);\n",
              "            observer.disconnect();\n",
              "        }}\n",
              "}});\n",
              "\n",
              "// Listen for the removal of the full notebook cells\n",
              "var notebookContainer = gd.closest('#notebook-container');\n",
              "if (notebookContainer) {{\n",
              "    x.observe(notebookContainer, {childList: true});\n",
              "}}\n",
              "\n",
              "// Listen for the clearing of the current output cell\n",
              "var outputEl = gd.closest('.output');\n",
              "if (outputEl) {{\n",
              "    x.observe(outputEl, {childList: true});\n",
              "}}\n",
              "\n",
              "                        })\n",
              "                };\n",
              "                \n",
              "            </script>\n",
              "        </div>\n",
              "</body>\n",
              "</html>"
            ]
          },
          "metadata": {
            "tags": []
          }
        }
      ]
    }
  ]
}