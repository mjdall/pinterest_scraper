{
  "nbformat": 4,
  "nbformat_minor": 0,
  "metadata": {
    "colab": {
      "name": "training.ipynb",
      "provenance": [],
      "collapsed_sections": [],
      "mount_file_id": "1br34xJAqM97TXA5P1DncH41v6H7Yu9SA",
      "authorship_tag": "ABX9TyMB5SZr9ywzh0lCY9fQIbRM",
      "include_colab_link": true
    },
    "kernelspec": {
      "display_name": "Python 3",
      "name": "python3"
    },
    "language_info": {
      "name": "python"
    }
  },
  "cells": [
    {
      "cell_type": "markdown",
      "metadata": {
        "id": "view-in-github",
        "colab_type": "text"
      },
      "source": [
        "<a href=\"https://colab.research.google.com/github/mjdall/pinterest_scraper/blob/master/training.ipynb\" target=\"_parent\"><img src=\"https://colab.research.google.com/assets/colab-badge.svg\" alt=\"Open In Colab\"/></a>"
      ]
    },
    {
      "cell_type": "code",
      "metadata": {
        "colab": {
          "base_uri": "https://localhost:8080/",
          "height": 71
        },
        "id": "8QghOTQMoMSF",
        "outputId": "1a7ec29f-be15-4319-b81c-3c8e44507ce2"
      },
      "source": [
        "\"\"\"\n",
        "efficient net paper - https://ai.googleblog.com/2019/05/efficientnet-improving-accuracy-and.html\n",
        "efficient net fine tuning - https://keras.io/examples/vision/image_classification_efficientnet_fine_tuning/\n",
        "efficient net implementation - https://github.com/qubvel/efficientnet\n",
        "transfer learning example - https://www.tensorflow.org/tutorials/images/transfer_learning\n",
        "classification head - https://machinelearningmastery.com/multi-class-classification-tutorial-keras-deep-learning-library/\n",
        "image embeddings - https://rom1504.medium.com/image-embeddings-ed1b194d113e\n",
        "  https://github.com/rom1504/image_embeddings/blob/master/notebooks/using_the_lib.ipynb\n",
        "  https://github.com/rom1504/image_embeddings/blob/master/notebooks/from_scratch.ipynb\n",
        "\n",
        "\"\"\""
      ],
      "execution_count": null,
      "outputs": [
        {
          "output_type": "execute_result",
          "data": {
            "application/vnd.google.colaboratory.intrinsic+json": {
              "type": "string"
            },
            "text/plain": [
              "'\\nefficient net paper - https://ai.googleblog.com/2019/05/efficientnet-improving-accuracy-and.html\\nefficient net fine tuning - https://keras.io/examples/vision/image_classification_efficientnet_fine_tuning/\\nefficient net implementation - https://github.com/qubvel/efficientnet\\ntransfer learning example - https://www.tensorflow.org/tutorials/images/transfer_learning\\nclassification head - https://machinelearningmastery.com/multi-class-classification-tutorial-keras-deep-learning-library/\\nimage embeddings - https://rom1504.medium.com/image-embeddings-ed1b194d113e\\n  https://github.com/rom1504/image_embeddings/blob/master/notebooks/using_the_lib.ipynb\\n  https://github.com/rom1504/image_embeddings/blob/master/notebooks/from_scratch.ipynb\\n\\n'"
            ]
          },
          "metadata": {
            "tags": []
          },
          "execution_count": 1
        }
      ]
    },
    {
      "cell_type": "code",
      "metadata": {
        "colab": {
          "base_uri": "https://localhost:8080/"
        },
        "id": "9SXbAwQWEfHq",
        "outputId": "5260bb23-9226-4285-8e3c-2dfc51037b29"
      },
      "source": [
        "!pip install umap-learn"
      ],
      "execution_count": null,
      "outputs": [
        {
          "output_type": "stream",
          "text": [
            "Collecting umap-learn\n",
            "\u001b[?25l  Downloading https://files.pythonhosted.org/packages/75/69/85e7f950bb75792ad5d666d86c5f3e62eedbb942848e7e3126513af9999c/umap-learn-0.5.1.tar.gz (80kB)\n",
            "\r\u001b[K     |████                            | 10kB 15.1MB/s eta 0:00:01\r\u001b[K     |████████                        | 20kB 10.8MB/s eta 0:00:01\r\u001b[K     |████████████▏                   | 30kB 8.5MB/s eta 0:00:01\r\u001b[K     |████████████████▏               | 40kB 7.5MB/s eta 0:00:01\r\u001b[K     |████████████████████▎           | 51kB 4.0MB/s eta 0:00:01\r\u001b[K     |████████████████████████▎       | 61kB 4.7MB/s eta 0:00:01\r\u001b[K     |████████████████████████████▍   | 71kB 5.3MB/s eta 0:00:01\r\u001b[K     |████████████████████████████████| 81kB 3.5MB/s \n",
            "\u001b[?25hRequirement already satisfied: numpy>=1.17 in /usr/local/lib/python3.7/dist-packages (from umap-learn) (1.19.5)\n",
            "Requirement already satisfied: scikit-learn>=0.22 in /usr/local/lib/python3.7/dist-packages (from umap-learn) (0.22.2.post1)\n",
            "Requirement already satisfied: scipy>=1.0 in /usr/local/lib/python3.7/dist-packages (from umap-learn) (1.4.1)\n",
            "Requirement already satisfied: numba>=0.49 in /usr/local/lib/python3.7/dist-packages (from umap-learn) (0.51.2)\n",
            "Collecting pynndescent>=0.5\n",
            "\u001b[?25l  Downloading https://files.pythonhosted.org/packages/af/65/8189298dd3a05bbad716ee8e249764ff8800e365d8dc652ad2192ca01b4a/pynndescent-0.5.2.tar.gz (1.1MB)\n",
            "\u001b[K     |████████████████████████████████| 1.2MB 5.6MB/s \n",
            "\u001b[?25hRequirement already satisfied: joblib>=0.11 in /usr/local/lib/python3.7/dist-packages (from scikit-learn>=0.22->umap-learn) (1.0.1)\n",
            "Requirement already satisfied: llvmlite<0.35,>=0.34.0.dev0 in /usr/local/lib/python3.7/dist-packages (from numba>=0.49->umap-learn) (0.34.0)\n",
            "Requirement already satisfied: setuptools in /usr/local/lib/python3.7/dist-packages (from numba>=0.49->umap-learn) (57.0.0)\n",
            "Building wheels for collected packages: umap-learn, pynndescent\n",
            "  Building wheel for umap-learn (setup.py) ... \u001b[?25l\u001b[?25hdone\n",
            "  Created wheel for umap-learn: filename=umap_learn-0.5.1-cp37-none-any.whl size=76569 sha256=e4fe76bb3d7f1b4b26fc522a66f083bb407bc9b273417d6505a3ec2cd2a70d87\n",
            "  Stored in directory: /root/.cache/pip/wheels/ad/df/d5/a3691296ff779f25cd1cf415a3af954b987fb53111e3392cf4\n",
            "  Building wheel for pynndescent (setup.py) ... \u001b[?25l\u001b[?25hdone\n",
            "  Created wheel for pynndescent: filename=pynndescent-0.5.2-cp37-none-any.whl size=51362 sha256=d0d9b7991b447bcf3e8dff6e797bb7d59885e025b6d4a0891ddcc7747776562b\n",
            "  Stored in directory: /root/.cache/pip/wheels/ba/52/4e/4c28d04d144a28f89e2575fb63628df6e6d49b56c5ddd0c74e\n",
            "Successfully built umap-learn pynndescent\n",
            "Installing collected packages: pynndescent, umap-learn\n",
            "Successfully installed pynndescent-0.5.2 umap-learn-0.5.1\n"
          ],
          "name": "stdout"
        }
      ]
    },
    {
      "cell_type": "code",
      "metadata": {
        "id": "qHorrqPFwwi_"
      },
      "source": [
        "%load_ext autoreload\n",
        "%autoreload 2"
      ],
      "execution_count": null,
      "outputs": []
    },
    {
      "cell_type": "code",
      "metadata": {
        "id": "7IMcE6HYwyGq"
      },
      "source": [
        "import os\n",
        "\n",
        "os.chdir(\"/content/drive/MyDrive/pinterest_scraper/\")"
      ],
      "execution_count": null,
      "outputs": []
    },
    {
      "cell_type": "code",
      "metadata": {
        "colab": {
          "base_uri": "https://localhost:8080/",
          "height": 202
        },
        "id": "URUY7C3BxKFW",
        "outputId": "3ae7611a-42b9-4652-e0ae-b95e757467be"
      },
      "source": [
        "import pandas as pd\n",
        "\n",
        "image_locs = pd.read_csv(\"data/image_reference.csv\")\n",
        "image_locs.sample(5)"
      ],
      "execution_count": null,
      "outputs": [
        {
          "output_type": "execute_result",
          "data": {
            "text/html": [
              "<div>\n",
              "<style scoped>\n",
              "    .dataframe tbody tr th:only-of-type {\n",
              "        vertical-align: middle;\n",
              "    }\n",
              "\n",
              "    .dataframe tbody tr th {\n",
              "        vertical-align: top;\n",
              "    }\n",
              "\n",
              "    .dataframe thead th {\n",
              "        text-align: right;\n",
              "    }\n",
              "</style>\n",
              "<table border=\"1\" class=\"dataframe\">\n",
              "  <thead>\n",
              "    <tr style=\"text-align: right;\">\n",
              "      <th></th>\n",
              "      <th>Unnamed: 0</th>\n",
              "      <th>label</th>\n",
              "      <th>file_location</th>\n",
              "      <th>group_id</th>\n",
              "    </tr>\n",
              "  </thead>\n",
              "  <tbody>\n",
              "    <tr>\n",
              "      <th>5467</th>\n",
              "      <td>5467</td>\n",
              "      <td>White aesthetic</td>\n",
              "      <td>data/white_aesthetic/f0dea0f5efbf657fa98777694...</td>\n",
              "      <td>268</td>\n",
              "    </tr>\n",
              "    <tr>\n",
              "      <th>5640</th>\n",
              "      <td>5640</td>\n",
              "      <td>White aesthetic</td>\n",
              "      <td>data/white_aesthetic/f5bcd2d5e4eb2d10fb603e240...</td>\n",
              "      <td>441</td>\n",
              "    </tr>\n",
              "    <tr>\n",
              "      <th>3964</th>\n",
              "      <td>3964</td>\n",
              "      <td>Simple doodles</td>\n",
              "      <td>data/simple_doodles/422ccabc19ef257baaa80b5956...</td>\n",
              "      <td>257</td>\n",
              "    </tr>\n",
              "    <tr>\n",
              "      <th>2730</th>\n",
              "      <td>2730</td>\n",
              "      <td>Mens clothing styles</td>\n",
              "      <td>data/mens_clothing_styles/ddcb5b7bc7db0f1572cd...</td>\n",
              "      <td>23</td>\n",
              "    </tr>\n",
              "    <tr>\n",
              "      <th>2215</th>\n",
              "      <td>2215</td>\n",
              "      <td>Interior design</td>\n",
              "      <td>data/interior_design/039d25e8cb6e1fce8be9abbe9...</td>\n",
              "      <td>8</td>\n",
              "    </tr>\n",
              "  </tbody>\n",
              "</table>\n",
              "</div>"
            ],
            "text/plain": [
              "      Unnamed: 0  ... group_id\n",
              "5467        5467  ...      268\n",
              "5640        5640  ...      441\n",
              "3964        3964  ...      257\n",
              "2730        2730  ...       23\n",
              "2215        2215  ...        8\n",
              "\n",
              "[5 rows x 4 columns]"
            ]
          },
          "metadata": {
            "tags": []
          },
          "execution_count": 5
        }
      ]
    },
    {
      "cell_type": "code",
      "metadata": {
        "id": "3LoIyPr2zIxx"
      },
      "source": [
        "def get_group(group_id, training_ids, testing_ids):\n",
        "  if group_id in training_ids:\n",
        "    return(\"training\")\n",
        "  elif group_id in testing_ids:\n",
        "    return(\"testing\")\n",
        "  else:\n",
        "    return(\"validation\")"
      ],
      "execution_count": null,
      "outputs": []
    },
    {
      "cell_type": "code",
      "metadata": {
        "colab": {
          "base_uri": "https://localhost:8080/",
          "height": 414
        },
        "id": "3KwGXCzUxVQG",
        "outputId": "8e57796d-c963-4df1-85ca-07317dee205c"
      },
      "source": [
        "import math\n",
        "import numpy as np\n",
        "\n",
        "TRAINING_SIZE = .7\n",
        "\n",
        "available_labels = image_locs.label.unique().tolist()\n",
        "\n",
        "for label in available_labels:\n",
        "  label_subset = image_locs[image_locs.label == label]\n",
        "  group_ids = label_subset.group_id.reset_index(drop=True)\n",
        "\n",
        "  # get train/test/validation ids\n",
        "  training_ids = group_ids.sample(frac=TRAINING_SIZE)\n",
        "  remaining_ids = group_ids[~group_ids.isin(training_ids)]\n",
        "  testing_ids = remaining_ids.sample(frac=.5)\n",
        "\n",
        "  # make a lambda to apply\n",
        "  alloc_lmbda = lambda gid: get_group(gid, training_ids, testing_ids)\n",
        "\n",
        "  # write the split allocation to the df\n",
        "  image_locs.loc[label_subset.index, \"split\"] = label_subset.group_id.apply(alloc_lmbda)\n",
        "\n",
        "image_locs"
      ],
      "execution_count": null,
      "outputs": [
        {
          "output_type": "execute_result",
          "data": {
            "text/html": [
              "<div>\n",
              "<style scoped>\n",
              "    .dataframe tbody tr th:only-of-type {\n",
              "        vertical-align: middle;\n",
              "    }\n",
              "\n",
              "    .dataframe tbody tr th {\n",
              "        vertical-align: top;\n",
              "    }\n",
              "\n",
              "    .dataframe thead th {\n",
              "        text-align: right;\n",
              "    }\n",
              "</style>\n",
              "<table border=\"1\" class=\"dataframe\">\n",
              "  <thead>\n",
              "    <tr style=\"text-align: right;\">\n",
              "      <th></th>\n",
              "      <th>Unnamed: 0</th>\n",
              "      <th>label</th>\n",
              "      <th>file_location</th>\n",
              "      <th>group_id</th>\n",
              "      <th>split</th>\n",
              "    </tr>\n",
              "  </thead>\n",
              "  <tbody>\n",
              "    <tr>\n",
              "      <th>0</th>\n",
              "      <td>0</td>\n",
              "      <td>90s fashion men</td>\n",
              "      <td>data/90s_fashion_men/cfaf965d69f685d8e69956ba7...</td>\n",
              "      <td>0</td>\n",
              "      <td>training</td>\n",
              "    </tr>\n",
              "    <tr>\n",
              "      <th>1</th>\n",
              "      <td>1</td>\n",
              "      <td>90s fashion men</td>\n",
              "      <td>data/90s_fashion_men/fa6f7f62186191520d17ec3df...</td>\n",
              "      <td>1</td>\n",
              "      <td>training</td>\n",
              "    </tr>\n",
              "    <tr>\n",
              "      <th>2</th>\n",
              "      <td>2</td>\n",
              "      <td>90s fashion men</td>\n",
              "      <td>data/90s_fashion_men/d9cb8bce7608cf99e01f24c98...</td>\n",
              "      <td>2</td>\n",
              "      <td>training</td>\n",
              "    </tr>\n",
              "    <tr>\n",
              "      <th>3</th>\n",
              "      <td>3</td>\n",
              "      <td>90s fashion men</td>\n",
              "      <td>data/90s_fashion_men/680414f948622b0203c1b0056...</td>\n",
              "      <td>3</td>\n",
              "      <td>training</td>\n",
              "    </tr>\n",
              "    <tr>\n",
              "      <th>4</th>\n",
              "      <td>4</td>\n",
              "      <td>90s fashion men</td>\n",
              "      <td>data/90s_fashion_men/f0cba34dd73764ef7b9962527...</td>\n",
              "      <td>4</td>\n",
              "      <td>training</td>\n",
              "    </tr>\n",
              "    <tr>\n",
              "      <th>...</th>\n",
              "      <td>...</td>\n",
              "      <td>...</td>\n",
              "      <td>...</td>\n",
              "      <td>...</td>\n",
              "      <td>...</td>\n",
              "    </tr>\n",
              "    <tr>\n",
              "      <th>5694</th>\n",
              "      <td>5694</td>\n",
              "      <td>White aesthetic</td>\n",
              "      <td>data/white_aesthetic/448946d180a5f9d9df8cbcf76...</td>\n",
              "      <td>495</td>\n",
              "      <td>training</td>\n",
              "    </tr>\n",
              "    <tr>\n",
              "      <th>5695</th>\n",
              "      <td>5695</td>\n",
              "      <td>White aesthetic</td>\n",
              "      <td>data/white_aesthetic/ea64d4023642884c808f6c7e7...</td>\n",
              "      <td>496</td>\n",
              "      <td>training</td>\n",
              "    </tr>\n",
              "    <tr>\n",
              "      <th>5696</th>\n",
              "      <td>5696</td>\n",
              "      <td>White aesthetic</td>\n",
              "      <td>data/white_aesthetic/79b0856002598d613564b80eb...</td>\n",
              "      <td>497</td>\n",
              "      <td>training</td>\n",
              "    </tr>\n",
              "    <tr>\n",
              "      <th>5697</th>\n",
              "      <td>5697</td>\n",
              "      <td>White aesthetic</td>\n",
              "      <td>data/white_aesthetic/7f2ec49fdd6c5928ddad23a87...</td>\n",
              "      <td>498</td>\n",
              "      <td>training</td>\n",
              "    </tr>\n",
              "    <tr>\n",
              "      <th>5698</th>\n",
              "      <td>5698</td>\n",
              "      <td>White aesthetic</td>\n",
              "      <td>data/white_aesthetic/6a38593a68ffa179827b87348...</td>\n",
              "      <td>499</td>\n",
              "      <td>training</td>\n",
              "    </tr>\n",
              "  </tbody>\n",
              "</table>\n",
              "<p>5699 rows × 5 columns</p>\n",
              "</div>"
            ],
            "text/plain": [
              "      Unnamed: 0            label  ... group_id     split\n",
              "0              0  90s fashion men  ...        0  training\n",
              "1              1  90s fashion men  ...        1  training\n",
              "2              2  90s fashion men  ...        2  training\n",
              "3              3  90s fashion men  ...        3  training\n",
              "4              4  90s fashion men  ...        4  training\n",
              "...          ...              ...  ...      ...       ...\n",
              "5694        5694  White aesthetic  ...      495  training\n",
              "5695        5695  White aesthetic  ...      496  training\n",
              "5696        5696  White aesthetic  ...      497  training\n",
              "5697        5697  White aesthetic  ...      498  training\n",
              "5698        5698  White aesthetic  ...      499  training\n",
              "\n",
              "[5699 rows x 5 columns]"
            ]
          },
          "metadata": {
            "tags": []
          },
          "execution_count": 7
        }
      ]
    },
    {
      "cell_type": "code",
      "metadata": {
        "colab": {
          "base_uri": "https://localhost:8080/"
        },
        "id": "Wxj8CR1H0KKC",
        "outputId": "c0457f45-96aa-4a9e-dafa-2af3d8a1dfa5"
      },
      "source": [
        "image_locs.groupby(\"label\").split.value_counts()"
      ],
      "execution_count": null,
      "outputs": [
        {
          "output_type": "execute_result",
          "data": {
            "text/plain": [
              "label                      split     \n",
              "90s fashion men            training      145\n",
              "                           testing        31\n",
              "                           validation     31\n",
              "Bullet journal             training      350\n",
              "                           testing        75\n",
              "                           validation     75\n",
              "Easy drawings              training      350\n",
              "                           testing        75\n",
              "                           validation     75\n",
              "Food porn                  training      350\n",
              "                           testing        75\n",
              "                           validation     75\n",
              "Forearm tattoos            training      350\n",
              "                           testing        75\n",
              "                           validation     75\n",
              "Interior design            training      350\n",
              "                           testing        75\n",
              "                           validation     75\n",
              "Mens clothing styles       training      350\n",
              "                           testing        75\n",
              "                           validation     75\n",
              "Modern farmhouse kitchens  training      350\n",
              "                           testing        75\n",
              "                           validation     75\n",
              "Simple doodles             training      350\n",
              "                           testing        75\n",
              "                           validation     75\n",
              "Starbucks drinks           training      344\n",
              "                           testing        74\n",
              "                           validation     74\n",
              "Tattoo sketches            training      350\n",
              "                           testing        75\n",
              "                           validation     75\n",
              "White aesthetic            training      350\n",
              "                           testing        75\n",
              "                           validation     75\n",
              "Name: split, dtype: int64"
            ]
          },
          "metadata": {
            "tags": []
          },
          "execution_count": 8
        }
      ]
    },
    {
      "cell_type": "code",
      "metadata": {
        "id": "IWFnvlGIft6T"
      },
      "source": [
        "import pathlib\n",
        "import shutil\n",
        "import re\n",
        "\n",
        "def get_save_directory_name(label):\n",
        "  return(re.sub(r\"\\s+\", \"_\" , label.lower()))\n",
        "\n",
        "get_file_directory = lambda file_location: str(pathlib.Path(file_location).parent) + \"/\"\n",
        "\n",
        "def partition_data(image_locations):\n",
        "  # get the label directory name\n",
        "  image_locations[\"label_dir\"] = image_locations.label.apply(\n",
        "      get_save_directory_name)\n",
        "  image_locations[\"filename\"] = image_locations.file_location.apply(\n",
        "      os.path.basename)\n",
        "  label_dirs = image_locations.label_dir.unique()\n",
        "\n",
        "  # remove current allocation of images and re-create the data directories\n",
        "  data_splits = image_locations.split.unique().tolist()\n",
        "  for split in data_splits:\n",
        "    split_dir = f\"data/{split}\"\n",
        "    if os.path.exists(split_dir):\n",
        "      shutil.rmtree(split_dir)\n",
        "    for label_dir in label_dirs:\n",
        "      os.makedirs(f\"{split_dir}/{label_dir}\", exist_ok=True)\n",
        "\n",
        "\n",
        "  # get the new path of the image\n",
        "  image_locations[\"new_location\"] = (\"data/\"\n",
        "    + image_locations.split\n",
        "    + \"/\"\n",
        "    + image_locations.label_dir\n",
        "    + \"/\"\n",
        "    + image_locations.filename)\n",
        "\n",
        "  # copy the image into the new directory\n",
        "  for _, image_row in image_locations.iterrows():\n",
        "    # todo: add progress bar here\n",
        "    shutil.copy2(image_row.file_location, image_row.new_location)\n",
        "\n",
        "# partition_data(image_locs)\n",
        "# image_locs.to_csv(\"data/image_partitions.csv\")"
      ],
      "execution_count": null,
      "outputs": []
    },
    {
      "cell_type": "code",
      "metadata": {
        "id": "kID4tb7JninS"
      },
      "source": [
        "IMG_SIZE = 224\n",
        "SIZE = (IMG_SIZE, IMG_SIZE)\n",
        "BATCH_SIZE = 64\n",
        "DATASET_NAME = \"pinterest\"\n",
        "NUM_CLASSES = image_locs.label.nunique()"
      ],
      "execution_count": null,
      "outputs": []
    },
    {
      "cell_type": "code",
      "metadata": {
        "colab": {
          "base_uri": "https://localhost:8080/"
        },
        "id": "AHmMUcA394Pe",
        "outputId": "31c68d41-ac87-4742-c1b8-807aba866d5f"
      },
      "source": [
        "from tensorflow.keras.preprocessing import image_dataset_from_directory\n",
        "\n",
        "# load in the datasets\n",
        "train_ds = image_dataset_from_directory(\"data/training\", label_mode=\"categorical\")\n",
        "test_ds = image_dataset_from_directory(\"data/testing\", label_mode=\"categorical\")\n",
        "validation_ds = image_dataset_from_directory(\"data/validation\", label_mode=\"categorical\")\n",
        "\n",
        "train_ds"
      ],
      "execution_count": null,
      "outputs": [
        {
          "output_type": "stream",
          "text": [
            "Found 3989 files belonging to 12 classes.\n",
            "Found 855 files belonging to 12 classes.\n",
            "Found 855 files belonging to 12 classes.\n"
          ],
          "name": "stdout"
        },
        {
          "output_type": "execute_result",
          "data": {
            "text/plain": [
              "<BatchDataset shapes: ((None, 256, 256, 3), (None, 12)), types: (tf.float32, tf.float32)>"
            ]
          },
          "metadata": {
            "tags": []
          },
          "execution_count": 11
        }
      ]
    },
    {
      "cell_type": "code",
      "metadata": {
        "id": "b9PlUUZITMiY"
      },
      "source": [
        "import tensorflow as tf\n",
        "resize_lambda = lambda image, label: (tf.image.resize(image, SIZE), label)\n",
        "\n",
        "def preprocess_dataset(dataset, batch_size=BATCH_SIZE):\n",
        "  dataset = dataset.map(resize_lambda)\n",
        "  # dataset = dataset.batch(batch_size=batch_size, drop_remainder=True)\n",
        "  dataset = dataset.prefetch(tf.data.experimental.AUTOTUNE)\n",
        "  return(dataset)\n",
        "\n",
        "train_ds = preprocess_dataset(train_ds)\n",
        "test_ds = preprocess_dataset(test_ds)\n",
        "validation_ds = preprocess_dataset(validation_ds)"
      ],
      "execution_count": null,
      "outputs": []
    },
    {
      "cell_type": "code",
      "metadata": {
        "id": "_TC0LqhygPBH"
      },
      "source": [
        "from tensorflow.keras.layers.experimental import preprocessing\n",
        "from tensorflow.keras.models import Sequential\n",
        "from tensorflow.keras import layers\n",
        "\n",
        "img_augmentation = Sequential(\n",
        "    [\n",
        "        preprocessing.RandomRotation(factor=0.15),\n",
        "        preprocessing.RandomTranslation(height_factor=0.1, width_factor=0.1),\n",
        "        preprocessing.RandomFlip(),\n",
        "        preprocessing.RandomContrast(factor=0.1),\n",
        "    ],\n",
        "    name=\"img_augmentation\",\n",
        ")"
      ],
      "execution_count": null,
      "outputs": []
    },
    {
      "cell_type": "code",
      "metadata": {
        "id": "Cx2oFlYcfHYB"
      },
      "source": [
        "# import matplotlib.pyplot as plt\n",
        "\n",
        "# for image, _ in train_ds.take(1):\n",
        "#   plt.figure(figsize=(10, 10))\n",
        "\n",
        "#   first_image = image[0]\n",
        "#   for i in range(9):\n",
        "#     ax = plt.subplot(3, 3, i + 1)\n",
        "\n",
        "#     augmented_image = img_augmentation(first_image)\n",
        "#     plt.imshow(augmented_image[0] / 255)\n",
        "#     plt.axis('off')"
      ],
      "execution_count": null,
      "outputs": []
    },
    {
      "cell_type": "code",
      "metadata": {
        "colab": {
          "base_uri": "https://localhost:8080/"
        },
        "id": "r-atT1hSZjg2",
        "outputId": "19494e72-fb1f-4bd8-e637-04aa85c51819"
      },
      "source": [
        "from tensorflow.keras.applications import EfficientNetB0\n",
        "\n",
        "IMG_SHAPE = SIZE + (3,)\n",
        "\n",
        "base_model = tf.keras.applications.EfficientNetB0(\n",
        "    input_shape=IMG_SHAPE,\n",
        "    include_top=False,\n",
        "    weights=\"imagenet\")\n",
        "base_model.trainable = False\n",
        "\n",
        "image_batch, label_batch = next(iter(train_ds))\n",
        "feature_batch = base_model(image_batch)\n",
        "\n",
        "print(feature_batch.shape)"
      ],
      "execution_count": null,
      "outputs": [
        {
          "output_type": "stream",
          "text": [
            "Downloading data from https://storage.googleapis.com/keras-applications/efficientnetb0_notop.h5\n",
            "16711680/16705208 [==============================] - 1s 0us/step\n",
            "(32, 7, 7, 1280)\n"
          ],
          "name": "stdout"
        }
      ]
    },
    {
      "cell_type": "code",
      "metadata": {
        "colab": {
          "base_uri": "https://localhost:8080/"
        },
        "id": "D4gmZTB-buoV",
        "outputId": "9a7a14f3-ef45-4792-b8a8-87a0553b4243"
      },
      "source": [
        "global_average_layer = tf.keras.layers.GlobalAveragePooling2D()\n",
        "feature_batch_average = global_average_layer(feature_batch)\n",
        "\n",
        "print(feature_batch_average.shape)"
      ],
      "execution_count": null,
      "outputs": [
        {
          "output_type": "stream",
          "text": [
            "(32, 1280)\n"
          ],
          "name": "stdout"
        }
      ]
    },
    {
      "cell_type": "code",
      "metadata": {
        "colab": {
          "base_uri": "https://localhost:8080/"
        },
        "id": "Pys_b5bhb5sd",
        "outputId": "f6a064af-f6ba-49f7-e66b-0a0838293c25"
      },
      "source": [
        "prediction_layer = tf.keras.layers.Dense(NUM_CLASSES, activation=\"softmax\")\n",
        "prediction_batch = prediction_layer(feature_batch_average)\n",
        "\n",
        "print(prediction_batch.shape)"
      ],
      "execution_count": null,
      "outputs": [
        {
          "output_type": "stream",
          "text": [
            "(32, 12)\n"
          ],
          "name": "stdout"
        }
      ]
    },
    {
      "cell_type": "code",
      "metadata": {
        "id": "8Wu9v_29cvAB"
      },
      "source": [
        "preprocess_input = tf.keras.applications.efficientnet.preprocess_input"
      ],
      "execution_count": null,
      "outputs": []
    },
    {
      "cell_type": "code",
      "metadata": {
        "id": "_wa5phkwb-53"
      },
      "source": [
        "inputs = tf.keras.Input(shape=IMG_SHAPE)\n",
        "x = img_augmentation(inputs)\n",
        "x = preprocess_input(x)\n",
        "x = base_model(x, training=False)\n",
        "x = global_average_layer(x)\n",
        "x = tf.keras.layers.Dropout(0.2)(x)\n",
        "outputs = prediction_layer(x)\n",
        "model = tf.keras.Model(inputs, outputs)"
      ],
      "execution_count": null,
      "outputs": []
    },
    {
      "cell_type": "code",
      "metadata": {
        "colab": {
          "base_uri": "https://localhost:8080/"
        },
        "id": "VQO8lyzoc3q1",
        "outputId": "abbe402e-b839-4a24-8851-ba11b6a63b36"
      },
      "source": [
        "base_learning_rate = 0.0001\n",
        "model.compile(optimizer=tf.keras.optimizers.Adam(learning_rate=base_learning_rate),\n",
        "              loss=tf.keras.losses.CategoricalCrossentropy(),\n",
        "              metrics=[\"accuracy\"])\n",
        "\n",
        "len(model.trainable_variables)"
      ],
      "execution_count": null,
      "outputs": [
        {
          "output_type": "execute_result",
          "data": {
            "text/plain": [
              "2"
            ]
          },
          "metadata": {
            "tags": []
          },
          "execution_count": 24
        }
      ]
    },
    {
      "cell_type": "code",
      "metadata": {
        "colab": {
          "base_uri": "https://localhost:8080/"
        },
        "id": "47-5L1Jcc-BX",
        "outputId": "2adf7357-5f20-4984-9547-767e61ddaf5e"
      },
      "source": [
        "initial_epochs = 10\n",
        "\n",
        "loss0, accuracy0 = model.evaluate(validation_ds)\n",
        "print(\"initial loss: {:.2f}\".format(loss0))\n",
        "print(\"initial accuracy: {:.2f}\".format(accuracy0))"
      ],
      "execution_count": null,
      "outputs": [
        {
          "output_type": "stream",
          "text": [
            "27/27 [==============================] - 147s 4s/step - loss: 2.5657 - accuracy: 0.0982\n",
            "initial loss: 2.57\n",
            "initial accuracy: 0.10\n"
          ],
          "name": "stdout"
        }
      ]
    },
    {
      "cell_type": "code",
      "metadata": {
        "colab": {
          "base_uri": "https://localhost:8080/"
        },
        "id": "4U37R1jedF-g",
        "outputId": "1924d193-a852-4c35-9525-38e7bcd1fe45"
      },
      "source": [
        "history = model.fit(\n",
        "    train_ds,\n",
        "    epochs=initial_epochs,\n",
        "    validation_data=validation_ds)"
      ],
      "execution_count": null,
      "outputs": [
        {
          "output_type": "stream",
          "text": [
            "Epoch 1/10\n",
            "125/125 [==============================] - 1466s 11s/step - loss: 2.3058 - accuracy: 0.2133 - val_loss: 1.8728 - val_accuracy: 0.4784\n",
            "Epoch 2/10\n",
            "125/125 [==============================] - 267s 2s/step - loss: 1.7693 - accuracy: 0.4783 - val_loss: 1.4619 - val_accuracy: 0.6327\n",
            "Epoch 3/10\n",
            "125/125 [==============================] - 267s 2s/step - loss: 1.4336 - accuracy: 0.6054 - val_loss: 1.2179 - val_accuracy: 0.6994\n",
            "Epoch 4/10\n",
            "125/125 [==============================] - 263s 2s/step - loss: 1.2285 - accuracy: 0.6490 - val_loss: 1.0695 - val_accuracy: 0.7216\n",
            "Epoch 5/10\n",
            "125/125 [==============================] - 265s 2s/step - loss: 1.1104 - accuracy: 0.6754 - val_loss: 0.9698 - val_accuracy: 0.7450\n",
            "Epoch 6/10\n",
            "125/125 [==============================] - 268s 2s/step - loss: 1.0008 - accuracy: 0.7029 - val_loss: 0.9024 - val_accuracy: 0.7474\n",
            "Epoch 7/10\n",
            "125/125 [==============================] - 268s 2s/step - loss: 0.9464 - accuracy: 0.7165 - val_loss: 0.8512 - val_accuracy: 0.7520\n",
            "Epoch 8/10\n",
            "125/125 [==============================] - 267s 2s/step - loss: 0.8992 - accuracy: 0.7190 - val_loss: 0.8135 - val_accuracy: 0.7556\n",
            "Epoch 9/10\n",
            "125/125 [==============================] - 267s 2s/step - loss: 0.8561 - accuracy: 0.7278 - val_loss: 0.7842 - val_accuracy: 0.7544\n",
            "Epoch 10/10\n",
            "125/125 [==============================] - 267s 2s/step - loss: 0.8226 - accuracy: 0.7355 - val_loss: 0.7600 - val_accuracy: 0.7602\n"
          ],
          "name": "stdout"
        }
      ]
    },
    {
      "cell_type": "code",
      "metadata": {
        "colab": {
          "base_uri": "https://localhost:8080/",
          "height": 526
        },
        "id": "k1e7xPdb8zOb",
        "outputId": "2eff8261-5254-4aed-f452-d1ae5f71fd07"
      },
      "source": [
        "from plotnine import ggplot, aes, geom_line, geom_point, ggtitle, scale_x_continuous, scale_y_continuous\n",
        "\n",
        "history_df = pd.DataFrame(history.history)\n",
        "history_df[\"epoch\"] = range(1, len(history_df.accuracy) + 1)\n",
        "history_melt = history_df.melt(value_vars=[\"accuracy\", \"val_accuracy\", \"loss\", \"val_loss\"], id_vars = \"epoch\")\n",
        "\n",
        "accuracy_stats = history_melt[history_melt.variable.isin([\"accuracy\", \"val_accuracy\"])]\n",
        "loss_stats = history_melt[history_melt.variable.isin([\"loss\", \"val_loss\"])]\n",
        "\n",
        "(\n",
        "  ggplot(accuracy_stats, aes(x = \"epoch\", y = \"value\", colour = \"variable\")) +\n",
        "  geom_line() +\n",
        "  geom_point() +\n",
        "  scale_x_continuous(breaks = range(12)) +\n",
        "  scale_y_continuous(breaks = np.linspace(0.0, 1.0, 21)) +\n",
        "  ggtitle(\"training and validation accuracy\")\n",
        ")\n"
      ],
      "execution_count": null,
      "outputs": [
        {
          "output_type": "stream",
          "text": [
            "/usr/local/lib/python3.7/dist-packages/plotnine/utils.py:1246: FutureWarning: is_categorical is deprecated and will be removed in a future version.  Use is_categorical_dtype instead\n",
            "  if pdtypes.is_categorical(arr):\n"
          ],
          "name": "stderr"
        },
        {
          "output_type": "display_data",
          "data": {
            "image/png": "[encoded data removed]",
            "text/plain": [
              "<Figure size 640x480 with 1 Axes>"
            ]
          },
          "metadata": {
            "tags": []
          }
        },
        {
          "output_type": "execute_result",
          "data": {
            "text/plain": [
              "<ggplot: (8750371799853)>"
            ]
          },
          "metadata": {
            "tags": []
          },
          "execution_count": 33
        }
      ]
    },
    {
      "cell_type": "code",
      "metadata": {
        "colab": {
          "base_uri": "https://localhost:8080/",
          "height": 526
        },
        "id": "oM26QxL__ZY9",
        "outputId": "5fc3128b-ddce-46c7-876a-d0a4a3488349"
      },
      "source": [
        "(\n",
        "  ggplot(loss_stats, aes(x = \"epoch\", y = \"value\", colour = \"variable\")) +\n",
        "  geom_line() +\n",
        "  geom_point() +\n",
        "  scale_x_continuous(breaks = range(12)) +\n",
        "  ggtitle(\"training and validation loss\")\n",
        ")"
      ],
      "execution_count": null,
      "outputs": [
        {
          "output_type": "stream",
          "text": [
            "/usr/local/lib/python3.7/dist-packages/plotnine/utils.py:1246: FutureWarning: is_categorical is deprecated and will be removed in a future version.  Use is_categorical_dtype instead\n",
            "  if pdtypes.is_categorical(arr):\n"
          ],
          "name": "stderr"
        },
        {
          "output_type": "display_data",
          "data": {
            "image/png": "[encoded data removed]",
            "text/plain": [
              "<Figure size 640x480 with 1 Axes>"
            ]
          },
          "metadata": {
            "tags": []
          }
        },
        {
          "output_type": "execute_result",
          "data": {
            "text/plain": [
              "<ggplot: (8750372507165)>"
            ]
          },
          "metadata": {
            "tags": []
          },
          "execution_count": 28
        }
      ]
    },
    {
      "cell_type": "code",
      "metadata": {
        "colab": {
          "base_uri": "https://localhost:8080/",
          "height": 500
        },
        "id": "8mBq7JJo_f2J",
        "outputId": "5d8b6014-d00d-4908-c7ca-fae858af2fc9"
      },
      "source": [
        "(\n",
        "  ggplot(history_melt, aes(x = \"epoch\", y = \"value\", colour = \"variable\")) +\n",
        "  geom_point() +\n",
        "  scale_x_continuous(breaks = range(12)) +\n",
        "  geom_line()\n",
        ")"
      ],
      "execution_count": null,
      "outputs": [
        {
          "output_type": "stream",
          "text": [
            "/usr/local/lib/python3.7/dist-packages/plotnine/utils.py:1246: FutureWarning: is_categorical is deprecated and will be removed in a future version.  Use is_categorical_dtype instead\n",
            "  if pdtypes.is_categorical(arr):\n"
          ],
          "name": "stderr"
        },
        {
          "output_type": "display_data",
          "data": {
            "image/png": "[encoded data removed]",
            "text/plain": [
              "<Figure size 640x480 with 1 Axes>"
            ]
          },
          "metadata": {
            "tags": []
          }
        },
        {
          "output_type": "execute_result",
          "data": {
            "text/plain": [
              "<ggplot: (8750371702209)>"
            ]
          },
          "metadata": {
            "tags": []
          },
          "execution_count": 34
        }
      ]
    },
    {
      "cell_type": "code",
      "metadata": {
        "colab": {
          "base_uri": "https://localhost:8080/"
        },
        "id": "8B0I5dEVr5P0",
        "outputId": "bb752b16-f81d-403c-a2e3-0328e92ffaef"
      },
      "source": [
        "model.summary()"
      ],
      "execution_count": null,
      "outputs": [
        {
          "output_type": "stream",
          "text": [
            "Model: \"model\"\n",
            "_________________________________________________________________\n",
            "Layer (type)                 Output Shape              Param #   \n",
            "=================================================================\n",
            "input_2 (InputLayer)         [(None, 224, 224, 3)]     0         \n",
            "_________________________________________________________________\n",
            "img_augmentation (Sequential (None, 224, 224, 3)       0         \n",
            "_________________________________________________________________\n",
            "efficientnetb0 (Functional)  (None, 7, 7, 1280)        4049571   \n",
            "_________________________________________________________________\n",
            "global_average_pooling2d (Gl (None, 1280)              0         \n",
            "_________________________________________________________________\n",
            "dropout (Dropout)            (None, 1280)              0         \n",
            "_________________________________________________________________\n",
            "dense (Dense)                (None, 12)                15372     \n",
            "=================================================================\n",
            "Total params: 4,064,943\n",
            "Trainable params: 15,372\n",
            "Non-trainable params: 4,049,571\n",
            "_________________________________________________________________\n"
          ],
          "name": "stdout"
        }
      ]
    },
    {
      "cell_type": "code",
      "metadata": {
        "colab": {
          "base_uri": "https://localhost:8080/"
        },
        "id": "3Zn48By0BmJy",
        "outputId": "479c8ce9-042f-4995-aba7-da183c23884b"
      },
      "source": [
        "from keras.models import Model\n",
        "\n",
        "emb_model = Sequential(model.layers[:-2])\n",
        "\n",
        "emb_model.summary()"
      ],
      "execution_count": null,
      "outputs": [
        {
          "output_type": "stream",
          "text": [
            "Model: \"sequential_4\"\n",
            "_________________________________________________________________\n",
            "Layer (type)                 Output Shape              Param #   \n",
            "=================================================================\n",
            "img_augmentation (Sequential (None, 224, 224, 3)       0         \n",
            "_________________________________________________________________\n",
            "efficientnetb0 (Functional)  (None, 7, 7, 1280)        4049571   \n",
            "_________________________________________________________________\n",
            "global_average_pooling2d (Gl (None, 1280)              0         \n",
            "=================================================================\n",
            "Total params: 4,049,571\n",
            "Trainable params: 0\n",
            "Non-trainable params: 4,049,571\n",
            "_________________________________________________________________\n"
          ],
          "name": "stdout"
        }
      ]
    },
    {
      "cell_type": "code",
      "metadata": {
        "id": "Z_Q7JjMWCGsL"
      },
      "source": [
        "def images_to_embeddings(model, dataset):\n",
        "  return model.predict(dataset.flat_map(lambda image_raw, image_name: image_raw), verbose=1)"
      ],
      "execution_count": null,
      "outputs": []
    },
    {
      "cell_type": "code",
      "metadata": {
        "colab": {
          "base_uri": "https://localhost:8080/"
        },
        "id": "FYWP01_dRWlR",
        "outputId": "6d651e6e-38af-41c9-a12e-2bb759593300"
      },
      "source": [
        "test_images = [(x, y) for x, y in test_ds]\n",
        "all_labels = np.concatenate([y for _, y in test_images], axis=0)\n",
        "all_labels = [str(int(tf.argmax(label))) for label in all_labels]\n",
        "\n",
        "image_embeddings = []\n",
        "for (image_batch, _) in test_images:\n",
        "  image_embeddings.append(emb_model.predict(image_batch))\n",
        "\n",
        "image_embeddings = np.concatenate(image_embeddings, axis=0)\n",
        "image_embeddings[0]"
      ],
      "execution_count": null,
      "outputs": [
        {
          "output_type": "execute_result",
          "data": {
            "text/plain": [
              "array([-0.11187334, -0.08148091, -0.08804222, ...,  0.17839926,\n",
              "       -0.03903088, -0.11348444], dtype=float32)"
            ]
          },
          "metadata": {
            "tags": []
          },
          "execution_count": 116
        }
      ]
    },
    {
      "cell_type": "code",
      "metadata": {
        "colab": {
          "base_uri": "https://localhost:8080/"
        },
        "id": "uxaLlyiUWOLK",
        "outputId": "af82ea88-d1b5-44c9-a18f-a4ba50dd4882"
      },
      "source": [
        "label_lookup = { str(i): name for i, name in enumerate(os.listdir(\"data/testing\"))}\n",
        "image_labels = [label_lookup[label] for label in all_labels]\n",
        "\n",
        "image_labels"
      ],
      "execution_count": null,
      "outputs": [
        {
          "output_type": "execute_result",
          "data": {
            "text/plain": [
              "['90s_fashion_men',\n",
              " 'food_porn',\n",
              " 'bullet_journal',\n",
              " 'easy_drawings',\n",
              " 'simple_doodles',\n",
              " '90s_fashion_men',\n",
              " 'mens_clothing_styles',\n",
              " 'white_aesthetic',\n",
              " 'modern_farmhouse_kitchens',\n",
              " 'simple_doodles',\n",
              " 'forearm_tattoos',\n",
              " 'starbucks_drinks',\n",
              " 'forearm_tattoos',\n",
              " 'food_porn',\n",
              " 'bullet_journal',\n",
              " 'easy_drawings',\n",
              " 'interior_design',\n",
              " 'simple_doodles',\n",
              " 'modern_farmhouse_kitchens',\n",
              " 'modern_farmhouse_kitchens',\n",
              " 'forearm_tattoos',\n",
              " 'simple_doodles',\n",
              " 'simple_doodles',\n",
              " 'starbucks_drinks',\n",
              " 'mens_clothing_styles',\n",
              " 'food_porn',\n",
              " 'forearm_tattoos',\n",
              " 'simple_doodles',\n",
              " 'mens_clothing_styles',\n",
              " 'starbucks_drinks',\n",
              " 'easy_drawings',\n",
              " 'tattoo_sketches',\n",
              " 'tattoo_sketches',\n",
              " 'mens_clothing_styles',\n",
              " 'interior_design',\n",
              " 'food_porn',\n",
              " 'mens_clothing_styles',\n",
              " '90s_fashion_men',\n",
              " 'starbucks_drinks',\n",
              " 'forearm_tattoos',\n",
              " 'tattoo_sketches',\n",
              " 'starbucks_drinks',\n",
              " 'simple_doodles',\n",
              " 'bullet_journal',\n",
              " 'food_porn',\n",
              " 'simple_doodles',\n",
              " 'easy_drawings',\n",
              " 'simple_doodles',\n",
              " 'mens_clothing_styles',\n",
              " 'modern_farmhouse_kitchens',\n",
              " 'simple_doodles',\n",
              " 'easy_drawings',\n",
              " 'mens_clothing_styles',\n",
              " 'food_porn',\n",
              " 'white_aesthetic',\n",
              " 'interior_design',\n",
              " 'bullet_journal',\n",
              " 'bullet_journal',\n",
              " 'mens_clothing_styles',\n",
              " 'modern_farmhouse_kitchens',\n",
              " '90s_fashion_men',\n",
              " 'easy_drawings',\n",
              " 'food_porn',\n",
              " 'tattoo_sketches',\n",
              " 'simple_doodles',\n",
              " 'forearm_tattoos',\n",
              " 'simple_doodles',\n",
              " 'white_aesthetic',\n",
              " 'easy_drawings',\n",
              " 'modern_farmhouse_kitchens',\n",
              " 'easy_drawings',\n",
              " 'white_aesthetic',\n",
              " 'mens_clothing_styles',\n",
              " 'tattoo_sketches',\n",
              " 'food_porn',\n",
              " 'interior_design',\n",
              " 'bullet_journal',\n",
              " 'forearm_tattoos',\n",
              " 'bullet_journal',\n",
              " 'forearm_tattoos',\n",
              " 'interior_design',\n",
              " 'easy_drawings',\n",
              " 'tattoo_sketches',\n",
              " '90s_fashion_men',\n",
              " 'mens_clothing_styles',\n",
              " 'white_aesthetic',\n",
              " 'mens_clothing_styles',\n",
              " 'modern_farmhouse_kitchens',\n",
              " 'starbucks_drinks',\n",
              " 'easy_drawings',\n",
              " '90s_fashion_men',\n",
              " 'starbucks_drinks',\n",
              " 'white_aesthetic',\n",
              " 'white_aesthetic',\n",
              " 'forearm_tattoos',\n",
              " 'starbucks_drinks',\n",
              " 'food_porn',\n",
              " 'food_porn',\n",
              " 'starbucks_drinks',\n",
              " 'white_aesthetic',\n",
              " 'simple_doodles',\n",
              " 'forearm_tattoos',\n",
              " 'tattoo_sketches',\n",
              " 'food_porn',\n",
              " 'mens_clothing_styles',\n",
              " 'easy_drawings',\n",
              " 'starbucks_drinks',\n",
              " 'mens_clothing_styles',\n",
              " 'simple_doodles',\n",
              " 'mens_clothing_styles',\n",
              " 'modern_farmhouse_kitchens',\n",
              " 'forearm_tattoos',\n",
              " 'interior_design',\n",
              " 'white_aesthetic',\n",
              " 'forearm_tattoos',\n",
              " 'starbucks_drinks',\n",
              " 'interior_design',\n",
              " 'forearm_tattoos',\n",
              " 'starbucks_drinks',\n",
              " 'forearm_tattoos',\n",
              " 'mens_clothing_styles',\n",
              " 'bullet_journal',\n",
              " 'forearm_tattoos',\n",
              " 'tattoo_sketches',\n",
              " 'white_aesthetic',\n",
              " 'food_porn',\n",
              " 'white_aesthetic',\n",
              " '90s_fashion_men',\n",
              " 'simple_doodles',\n",
              " 'simple_doodles',\n",
              " 'forearm_tattoos',\n",
              " 'tattoo_sketches',\n",
              " 'bullet_journal',\n",
              " 'bullet_journal',\n",
              " 'white_aesthetic',\n",
              " 'tattoo_sketches',\n",
              " 'tattoo_sketches',\n",
              " 'bullet_journal',\n",
              " 'interior_design',\n",
              " 'modern_farmhouse_kitchens',\n",
              " 'modern_farmhouse_kitchens',\n",
              " 'simple_doodles',\n",
              " 'white_aesthetic',\n",
              " 'mens_clothing_styles',\n",
              " 'tattoo_sketches',\n",
              " 'white_aesthetic',\n",
              " 'starbucks_drinks',\n",
              " 'tattoo_sketches',\n",
              " 'interior_design',\n",
              " 'starbucks_drinks',\n",
              " 'simple_doodles',\n",
              " 'food_porn',\n",
              " 'forearm_tattoos',\n",
              " 'easy_drawings',\n",
              " 'mens_clothing_styles',\n",
              " 'modern_farmhouse_kitchens',\n",
              " 'white_aesthetic',\n",
              " 'forearm_tattoos',\n",
              " 'modern_farmhouse_kitchens',\n",
              " 'bullet_journal',\n",
              " 'simple_doodles',\n",
              " 'starbucks_drinks',\n",
              " 'modern_farmhouse_kitchens',\n",
              " 'easy_drawings',\n",
              " 'bullet_journal',\n",
              " 'forearm_tattoos',\n",
              " 'mens_clothing_styles',\n",
              " 'food_porn',\n",
              " 'forearm_tattoos',\n",
              " 'starbucks_drinks',\n",
              " '90s_fashion_men',\n",
              " 'interior_design',\n",
              " 'mens_clothing_styles',\n",
              " 'mens_clothing_styles',\n",
              " 'modern_farmhouse_kitchens',\n",
              " 'simple_doodles',\n",
              " 'tattoo_sketches',\n",
              " 'interior_design',\n",
              " 'bullet_journal',\n",
              " 'bullet_journal',\n",
              " 'forearm_tattoos',\n",
              " 'easy_drawings',\n",
              " 'mens_clothing_styles',\n",
              " 'starbucks_drinks',\n",
              " 'interior_design',\n",
              " 'food_porn',\n",
              " 'starbucks_drinks',\n",
              " 'interior_design',\n",
              " 'modern_farmhouse_kitchens',\n",
              " 'forearm_tattoos',\n",
              " 'modern_farmhouse_kitchens',\n",
              " 'modern_farmhouse_kitchens',\n",
              " '90s_fashion_men',\n",
              " 'food_porn',\n",
              " 'white_aesthetic',\n",
              " 'starbucks_drinks',\n",
              " 'interior_design',\n",
              " 'easy_drawings',\n",
              " 'modern_farmhouse_kitchens',\n",
              " 'interior_design',\n",
              " 'easy_drawings',\n",
              " 'easy_drawings',\n",
              " 'food_porn',\n",
              " 'starbucks_drinks',\n",
              " 'modern_farmhouse_kitchens',\n",
              " 'mens_clothing_styles',\n",
              " 'tattoo_sketches',\n",
              " 'forearm_tattoos',\n",
              " 'mens_clothing_styles',\n",
              " 'tattoo_sketches',\n",
              " 'starbucks_drinks',\n",
              " 'interior_design',\n",
              " 'white_aesthetic',\n",
              " 'easy_drawings',\n",
              " 'easy_drawings',\n",
              " 'starbucks_drinks',\n",
              " '90s_fashion_men',\n",
              " 'tattoo_sketches',\n",
              " 'white_aesthetic',\n",
              " 'white_aesthetic',\n",
              " 'modern_farmhouse_kitchens',\n",
              " '90s_fashion_men',\n",
              " 'modern_farmhouse_kitchens',\n",
              " 'tattoo_sketches',\n",
              " 'simple_doodles',\n",
              " 'mens_clothing_styles',\n",
              " 'mens_clothing_styles',\n",
              " 'bullet_journal',\n",
              " 'food_porn',\n",
              " 'forearm_tattoos',\n",
              " 'simple_doodles',\n",
              " 'easy_drawings',\n",
              " 'simple_doodles',\n",
              " 'white_aesthetic',\n",
              " 'forearm_tattoos',\n",
              " 'forearm_tattoos',\n",
              " 'mens_clothing_styles',\n",
              " 'food_porn',\n",
              " 'bullet_journal',\n",
              " '90s_fashion_men',\n",
              " 'modern_farmhouse_kitchens',\n",
              " 'tattoo_sketches',\n",
              " 'mens_clothing_styles',\n",
              " 'interior_design',\n",
              " 'mens_clothing_styles',\n",
              " 'food_porn',\n",
              " 'forearm_tattoos',\n",
              " 'forearm_tattoos',\n",
              " 'forearm_tattoos',\n",
              " 'bullet_journal',\n",
              " 'white_aesthetic',\n",
              " 'food_porn',\n",
              " 'starbucks_drinks',\n",
              " 'simple_doodles',\n",
              " 'simple_doodles',\n",
              " 'mens_clothing_styles',\n",
              " 'forearm_tattoos',\n",
              " 'easy_drawings',\n",
              " 'starbucks_drinks',\n",
              " 'modern_farmhouse_kitchens',\n",
              " 'modern_farmhouse_kitchens',\n",
              " 'bullet_journal',\n",
              " 'starbucks_drinks',\n",
              " 'simple_doodles',\n",
              " '90s_fashion_men',\n",
              " 'interior_design',\n",
              " 'simple_doodles',\n",
              " 'starbucks_drinks',\n",
              " 'white_aesthetic',\n",
              " 'tattoo_sketches',\n",
              " 'simple_doodles',\n",
              " 'forearm_tattoos',\n",
              " 'starbucks_drinks',\n",
              " 'modern_farmhouse_kitchens',\n",
              " 'bullet_journal',\n",
              " 'easy_drawings',\n",
              " 'food_porn',\n",
              " 'mens_clothing_styles',\n",
              " 'food_porn',\n",
              " 'food_porn',\n",
              " 'tattoo_sketches',\n",
              " 'modern_farmhouse_kitchens',\n",
              " 'tattoo_sketches',\n",
              " 'forearm_tattoos',\n",
              " 'bullet_journal',\n",
              " 'food_porn',\n",
              " 'modern_farmhouse_kitchens',\n",
              " 'tattoo_sketches',\n",
              " 'bullet_journal',\n",
              " 'white_aesthetic',\n",
              " 'tattoo_sketches',\n",
              " 'interior_design',\n",
              " 'modern_farmhouse_kitchens',\n",
              " 'mens_clothing_styles',\n",
              " 'white_aesthetic',\n",
              " 'tattoo_sketches',\n",
              " 'bullet_journal',\n",
              " 'food_porn',\n",
              " 'forearm_tattoos',\n",
              " 'modern_farmhouse_kitchens',\n",
              " 'simple_doodles',\n",
              " 'white_aesthetic',\n",
              " 'interior_design',\n",
              " 'tattoo_sketches',\n",
              " 'interior_design',\n",
              " 'white_aesthetic',\n",
              " 'modern_farmhouse_kitchens',\n",
              " 'simple_doodles',\n",
              " 'tattoo_sketches',\n",
              " 'mens_clothing_styles',\n",
              " 'bullet_journal',\n",
              " 'white_aesthetic',\n",
              " 'bullet_journal',\n",
              " 'white_aesthetic',\n",
              " 'tattoo_sketches',\n",
              " 'tattoo_sketches',\n",
              " 'modern_farmhouse_kitchens',\n",
              " 'easy_drawings',\n",
              " 'interior_design',\n",
              " 'simple_doodles',\n",
              " 'modern_farmhouse_kitchens',\n",
              " '90s_fashion_men',\n",
              " 'easy_drawings',\n",
              " 'easy_drawings',\n",
              " 'bullet_journal',\n",
              " 'starbucks_drinks',\n",
              " 'bullet_journal',\n",
              " 'starbucks_drinks',\n",
              " 'starbucks_drinks',\n",
              " 'forearm_tattoos',\n",
              " 'starbucks_drinks',\n",
              " 'easy_drawings',\n",
              " 'simple_doodles',\n",
              " 'tattoo_sketches',\n",
              " 'white_aesthetic',\n",
              " 'tattoo_sketches',\n",
              " 'interior_design',\n",
              " 'starbucks_drinks',\n",
              " 'modern_farmhouse_kitchens',\n",
              " 'simple_doodles',\n",
              " 'tattoo_sketches',\n",
              " 'forearm_tattoos',\n",
              " '90s_fashion_men',\n",
              " 'forearm_tattoos',\n",
              " 'tattoo_sketches',\n",
              " 'modern_farmhouse_kitchens',\n",
              " 'tattoo_sketches',\n",
              " 'bullet_journal',\n",
              " 'tattoo_sketches',\n",
              " 'bullet_journal',\n",
              " 'easy_drawings',\n",
              " 'mens_clothing_styles',\n",
              " 'interior_design',\n",
              " 'interior_design',\n",
              " 'bullet_journal',\n",
              " 'forearm_tattoos',\n",
              " 'mens_clothing_styles',\n",
              " 'modern_farmhouse_kitchens',\n",
              " 'modern_farmhouse_kitchens',\n",
              " 'bullet_journal',\n",
              " 'food_porn',\n",
              " 'easy_drawings',\n",
              " 'bullet_journal',\n",
              " 'forearm_tattoos',\n",
              " 'forearm_tattoos',\n",
              " 'interior_design',\n",
              " 'bullet_journal',\n",
              " 'modern_farmhouse_kitchens',\n",
              " 'interior_design',\n",
              " 'easy_drawings',\n",
              " 'mens_clothing_styles',\n",
              " 'simple_doodles',\n",
              " 'food_porn',\n",
              " 'tattoo_sketches',\n",
              " 'starbucks_drinks',\n",
              " 'bullet_journal',\n",
              " 'mens_clothing_styles',\n",
              " 'tattoo_sketches',\n",
              " 'bullet_journal',\n",
              " 'white_aesthetic',\n",
              " 'tattoo_sketches',\n",
              " 'bullet_journal',\n",
              " 'modern_farmhouse_kitchens',\n",
              " 'simple_doodles',\n",
              " 'interior_design',\n",
              " 'mens_clothing_styles',\n",
              " 'forearm_tattoos',\n",
              " 'interior_design',\n",
              " 'mens_clothing_styles',\n",
              " 'starbucks_drinks',\n",
              " 'bullet_journal',\n",
              " 'simple_doodles',\n",
              " 'simple_doodles',\n",
              " 'white_aesthetic',\n",
              " 'tattoo_sketches',\n",
              " '90s_fashion_men',\n",
              " 'modern_farmhouse_kitchens',\n",
              " 'forearm_tattoos',\n",
              " 'easy_drawings',\n",
              " 'food_porn',\n",
              " 'modern_farmhouse_kitchens',\n",
              " 'tattoo_sketches',\n",
              " 'starbucks_drinks',\n",
              " 'mens_clothing_styles',\n",
              " 'forearm_tattoos',\n",
              " 'bullet_journal',\n",
              " 'forearm_tattoos',\n",
              " 'mens_clothing_styles',\n",
              " 'modern_farmhouse_kitchens',\n",
              " 'white_aesthetic',\n",
              " 'starbucks_drinks',\n",
              " 'tattoo_sketches',\n",
              " 'food_porn',\n",
              " 'white_aesthetic',\n",
              " 'forearm_tattoos',\n",
              " 'starbucks_drinks',\n",
              " 'easy_drawings',\n",
              " 'simple_doodles',\n",
              " 'mens_clothing_styles',\n",
              " 'food_porn',\n",
              " 'easy_drawings',\n",
              " 'easy_drawings',\n",
              " 'bullet_journal',\n",
              " 'bullet_journal',\n",
              " 'forearm_tattoos',\n",
              " 'modern_farmhouse_kitchens',\n",
              " 'simple_doodles',\n",
              " 'forearm_tattoos',\n",
              " 'bullet_journal',\n",
              " 'interior_design',\n",
              " 'forearm_tattoos',\n",
              " 'food_porn',\n",
              " 'food_porn',\n",
              " 'tattoo_sketches',\n",
              " 'interior_design',\n",
              " 'easy_drawings',\n",
              " 'interior_design',\n",
              " 'modern_farmhouse_kitchens',\n",
              " 'mens_clothing_styles',\n",
              " 'tattoo_sketches',\n",
              " 'bullet_journal',\n",
              " 'modern_farmhouse_kitchens',\n",
              " 'interior_design',\n",
              " 'forearm_tattoos',\n",
              " 'bullet_journal',\n",
              " 'mens_clothing_styles',\n",
              " 'bullet_journal',\n",
              " 'starbucks_drinks',\n",
              " 'mens_clothing_styles',\n",
              " 'simple_doodles',\n",
              " 'white_aesthetic',\n",
              " '90s_fashion_men',\n",
              " 'tattoo_sketches',\n",
              " 'simple_doodles',\n",
              " 'simple_doodles',\n",
              " 'forearm_tattoos',\n",
              " 'modern_farmhouse_kitchens',\n",
              " 'starbucks_drinks',\n",
              " 'bullet_journal',\n",
              " 'white_aesthetic',\n",
              " 'modern_farmhouse_kitchens',\n",
              " 'food_porn',\n",
              " 'mens_clothing_styles',\n",
              " 'food_porn',\n",
              " 'easy_drawings',\n",
              " '90s_fashion_men',\n",
              " 'starbucks_drinks',\n",
              " 'white_aesthetic',\n",
              " 'forearm_tattoos',\n",
              " 'starbucks_drinks',\n",
              " 'starbucks_drinks',\n",
              " 'food_porn',\n",
              " 'easy_drawings',\n",
              " 'forearm_tattoos',\n",
              " 'easy_drawings',\n",
              " 'white_aesthetic',\n",
              " 'tattoo_sketches',\n",
              " 'white_aesthetic',\n",
              " 'white_aesthetic',\n",
              " 'interior_design',\n",
              " 'starbucks_drinks',\n",
              " 'interior_design',\n",
              " 'food_porn',\n",
              " 'modern_farmhouse_kitchens',\n",
              " 'bullet_journal',\n",
              " 'tattoo_sketches',\n",
              " 'modern_farmhouse_kitchens',\n",
              " 'simple_doodles',\n",
              " 'simple_doodles',\n",
              " 'easy_drawings',\n",
              " 'mens_clothing_styles',\n",
              " 'modern_farmhouse_kitchens',\n",
              " 'tattoo_sketches',\n",
              " 'modern_farmhouse_kitchens',\n",
              " 'modern_farmhouse_kitchens',\n",
              " 'white_aesthetic',\n",
              " 'food_porn',\n",
              " 'easy_drawings',\n",
              " 'mens_clothing_styles',\n",
              " 'forearm_tattoos',\n",
              " 'starbucks_drinks',\n",
              " 'food_porn',\n",
              " 'easy_drawings',\n",
              " 'easy_drawings',\n",
              " 'food_porn',\n",
              " 'white_aesthetic',\n",
              " 'bullet_journal',\n",
              " 'modern_farmhouse_kitchens',\n",
              " 'interior_design',\n",
              " 'food_porn',\n",
              " 'food_porn',\n",
              " 'modern_farmhouse_kitchens',\n",
              " 'modern_farmhouse_kitchens',\n",
              " 'forearm_tattoos',\n",
              " 'tattoo_sketches',\n",
              " 'forearm_tattoos',\n",
              " 'easy_drawings',\n",
              " 'interior_design',\n",
              " 'interior_design',\n",
              " '90s_fashion_men',\n",
              " 'interior_design',\n",
              " 'simple_doodles',\n",
              " 'food_porn',\n",
              " 'white_aesthetic',\n",
              " 'easy_drawings',\n",
              " 'white_aesthetic',\n",
              " 'white_aesthetic',\n",
              " 'bullet_journal',\n",
              " 'bullet_journal',\n",
              " 'starbucks_drinks',\n",
              " 'modern_farmhouse_kitchens',\n",
              " '90s_fashion_men',\n",
              " 'simple_doodles',\n",
              " 'interior_design',\n",
              " 'starbucks_drinks',\n",
              " 'easy_drawings',\n",
              " 'food_porn',\n",
              " 'starbucks_drinks',\n",
              " 'interior_design',\n",
              " 'white_aesthetic',\n",
              " 'tattoo_sketches',\n",
              " 'easy_drawings',\n",
              " 'simple_doodles',\n",
              " 'simple_doodles',\n",
              " 'interior_design',\n",
              " 'tattoo_sketches',\n",
              " 'starbucks_drinks',\n",
              " 'bullet_journal',\n",
              " 'simple_doodles',\n",
              " '90s_fashion_men',\n",
              " 'bullet_journal',\n",
              " 'food_porn',\n",
              " 'bullet_journal',\n",
              " 'white_aesthetic',\n",
              " 'tattoo_sketches',\n",
              " 'mens_clothing_styles',\n",
              " 'bullet_journal',\n",
              " 'easy_drawings',\n",
              " 'forearm_tattoos',\n",
              " 'easy_drawings',\n",
              " 'simple_doodles',\n",
              " 'white_aesthetic',\n",
              " 'starbucks_drinks',\n",
              " 'white_aesthetic',\n",
              " 'food_porn',\n",
              " 'starbucks_drinks',\n",
              " '90s_fashion_men',\n",
              " 'easy_drawings',\n",
              " 'forearm_tattoos',\n",
              " 'interior_design',\n",
              " 'interior_design',\n",
              " 'easy_drawings',\n",
              " 'bullet_journal',\n",
              " 'mens_clothing_styles',\n",
              " 'interior_design',\n",
              " 'modern_farmhouse_kitchens',\n",
              " 'forearm_tattoos',\n",
              " 'food_porn',\n",
              " 'food_porn',\n",
              " 'easy_drawings',\n",
              " 'interior_design',\n",
              " 'white_aesthetic',\n",
              " 'tattoo_sketches',\n",
              " 'mens_clothing_styles',\n",
              " 'tattoo_sketches',\n",
              " 'easy_drawings',\n",
              " 'easy_drawings',\n",
              " 'easy_drawings',\n",
              " 'tattoo_sketches',\n",
              " 'simple_doodles',\n",
              " 'white_aesthetic',\n",
              " 'food_porn',\n",
              " 'mens_clothing_styles',\n",
              " 'interior_design',\n",
              " '90s_fashion_men',\n",
              " 'bullet_journal',\n",
              " 'forearm_tattoos',\n",
              " 'interior_design',\n",
              " 'interior_design',\n",
              " 'simple_doodles',\n",
              " 'easy_drawings',\n",
              " 'interior_design',\n",
              " 'easy_drawings',\n",
              " 'food_porn',\n",
              " 'modern_farmhouse_kitchens',\n",
              " 'mens_clothing_styles',\n",
              " 'mens_clothing_styles',\n",
              " 'bullet_journal',\n",
              " 'bullet_journal',\n",
              " 'bullet_journal',\n",
              " 'easy_drawings',\n",
              " 'bullet_journal',\n",
              " 'modern_farmhouse_kitchens',\n",
              " 'starbucks_drinks',\n",
              " 'modern_farmhouse_kitchens',\n",
              " 'food_porn',\n",
              " 'mens_clothing_styles',\n",
              " 'forearm_tattoos',\n",
              " 'modern_farmhouse_kitchens',\n",
              " 'food_porn',\n",
              " 'white_aesthetic',\n",
              " 'white_aesthetic',\n",
              " 'mens_clothing_styles',\n",
              " 'food_porn',\n",
              " 'starbucks_drinks',\n",
              " 'interior_design',\n",
              " 'mens_clothing_styles',\n",
              " 'modern_farmhouse_kitchens',\n",
              " 'food_porn',\n",
              " 'mens_clothing_styles',\n",
              " 'tattoo_sketches',\n",
              " 'forearm_tattoos',\n",
              " 'easy_drawings',\n",
              " 'modern_farmhouse_kitchens',\n",
              " 'mens_clothing_styles',\n",
              " 'mens_clothing_styles',\n",
              " 'simple_doodles',\n",
              " 'easy_drawings',\n",
              " 'forearm_tattoos',\n",
              " 'white_aesthetic',\n",
              " 'bullet_journal',\n",
              " 'white_aesthetic',\n",
              " 'interior_design',\n",
              " 'food_porn',\n",
              " 'easy_drawings',\n",
              " 'mens_clothing_styles',\n",
              " 'interior_design',\n",
              " '90s_fashion_men',\n",
              " '90s_fashion_men',\n",
              " 'mens_clothing_styles',\n",
              " 'tattoo_sketches',\n",
              " 'food_porn',\n",
              " 'simple_doodles',\n",
              " 'tattoo_sketches',\n",
              " 'bullet_journal',\n",
              " 'white_aesthetic',\n",
              " 'mens_clothing_styles',\n",
              " 'starbucks_drinks',\n",
              " 'white_aesthetic',\n",
              " 'easy_drawings',\n",
              " 'food_porn',\n",
              " 'simple_doodles',\n",
              " 'easy_drawings',\n",
              " 'interior_design',\n",
              " 'simple_doodles',\n",
              " 'easy_drawings',\n",
              " 'white_aesthetic',\n",
              " 'bullet_journal',\n",
              " 'modern_farmhouse_kitchens',\n",
              " 'tattoo_sketches',\n",
              " 'mens_clothing_styles',\n",
              " 'interior_design',\n",
              " 'white_aesthetic',\n",
              " 'bullet_journal',\n",
              " 'simple_doodles',\n",
              " 'starbucks_drinks',\n",
              " 'tattoo_sketches',\n",
              " 'tattoo_sketches',\n",
              " 'food_porn',\n",
              " 'modern_farmhouse_kitchens',\n",
              " 'food_porn',\n",
              " 'modern_farmhouse_kitchens',\n",
              " 'white_aesthetic',\n",
              " 'forearm_tattoos',\n",
              " 'modern_farmhouse_kitchens',\n",
              " 'forearm_tattoos',\n",
              " 'forearm_tattoos',\n",
              " 'food_porn',\n",
              " 'easy_drawings',\n",
              " 'tattoo_sketches',\n",
              " 'easy_drawings',\n",
              " 'interior_design',\n",
              " '90s_fashion_men',\n",
              " 'interior_design',\n",
              " 'starbucks_drinks',\n",
              " 'interior_design',\n",
              " 'mens_clothing_styles',\n",
              " 'food_porn',\n",
              " 'tattoo_sketches',\n",
              " 'simple_doodles',\n",
              " 'white_aesthetic',\n",
              " 'food_porn',\n",
              " 'forearm_tattoos',\n",
              " 'bullet_journal',\n",
              " 'bullet_journal',\n",
              " 'tattoo_sketches',\n",
              " 'simple_doodles',\n",
              " 'tattoo_sketches',\n",
              " 'white_aesthetic',\n",
              " 'easy_drawings',\n",
              " 'mens_clothing_styles',\n",
              " 'interior_design',\n",
              " 'modern_farmhouse_kitchens',\n",
              " 'tattoo_sketches',\n",
              " 'bullet_journal',\n",
              " 'easy_drawings',\n",
              " 'mens_clothing_styles',\n",
              " 'bullet_journal',\n",
              " 'starbucks_drinks',\n",
              " 'white_aesthetic',\n",
              " 'simple_doodles',\n",
              " 'simple_doodles',\n",
              " 'simple_doodles',\n",
              " 'starbucks_drinks',\n",
              " 'easy_drawings',\n",
              " 'interior_design',\n",
              " 'white_aesthetic',\n",
              " 'mens_clothing_styles',\n",
              " 'white_aesthetic',\n",
              " 'white_aesthetic',\n",
              " 'interior_design',\n",
              " 'food_porn',\n",
              " 'starbucks_drinks',\n",
              " 'simple_doodles',\n",
              " 'food_porn',\n",
              " 'simple_doodles',\n",
              " 'tattoo_sketches',\n",
              " 'easy_drawings',\n",
              " 'starbucks_drinks',\n",
              " 'interior_design',\n",
              " 'starbucks_drinks',\n",
              " 'simple_doodles',\n",
              " 'interior_design',\n",
              " '90s_fashion_men',\n",
              " 'modern_farmhouse_kitchens',\n",
              " 'starbucks_drinks',\n",
              " 'mens_clothing_styles',\n",
              " 'simple_doodles',\n",
              " 'food_porn',\n",
              " 'food_porn',\n",
              " 'forearm_tattoos',\n",
              " 'white_aesthetic',\n",
              " 'simple_doodles',\n",
              " 'interior_design',\n",
              " '90s_fashion_men',\n",
              " 'simple_doodles',\n",
              " 'easy_drawings',\n",
              " 'tattoo_sketches',\n",
              " 'modern_farmhouse_kitchens',\n",
              " 'simple_doodles',\n",
              " 'forearm_tattoos',\n",
              " 'modern_farmhouse_kitchens',\n",
              " 'tattoo_sketches',\n",
              " 'food_porn',\n",
              " 'simple_doodles',\n",
              " 'forearm_tattoos',\n",
              " 'starbucks_drinks',\n",
              " 'food_porn',\n",
              " 'simple_doodles',\n",
              " 'mens_clothing_styles',\n",
              " 'easy_drawings',\n",
              " 'modern_farmhouse_kitchens',\n",
              " 'simple_doodles',\n",
              " 'white_aesthetic',\n",
              " 'interior_design',\n",
              " 'forearm_tattoos',\n",
              " '90s_fashion_men',\n",
              " 'forearm_tattoos',\n",
              " 'easy_drawings',\n",
              " 'starbucks_drinks',\n",
              " 'starbucks_drinks',\n",
              " 'tattoo_sketches',\n",
              " 'interior_design',\n",
              " 'forearm_tattoos',\n",
              " 'starbucks_drinks',\n",
              " 'mens_clothing_styles',\n",
              " 'white_aesthetic',\n",
              " 'starbucks_drinks',\n",
              " 'forearm_tattoos',\n",
              " 'starbucks_drinks',\n",
              " 'mens_clothing_styles',\n",
              " 'white_aesthetic',\n",
              " 'food_porn',\n",
              " 'starbucks_drinks',\n",
              " 'starbucks_drinks',\n",
              " 'white_aesthetic',\n",
              " 'interior_design',\n",
              " 'simple_doodles',\n",
              " 'starbucks_drinks',\n",
              " 'tattoo_sketches',\n",
              " 'interior_design',\n",
              " 'bullet_journal',\n",
              " 'interior_design',\n",
              " 'white_aesthetic',\n",
              " 'food_porn',\n",
              " 'food_porn',\n",
              " 'white_aesthetic',\n",
              " 'mens_clothing_styles',\n",
              " 'bullet_journal',\n",
              " 'white_aesthetic',\n",
              " 'bullet_journal',\n",
              " 'interior_design',\n",
              " 'forearm_tattoos',\n",
              " 'mens_clothing_styles',\n",
              " 'tattoo_sketches',\n",
              " 'white_aesthetic',\n",
              " 'mens_clothing_styles',\n",
              " 'starbucks_drinks',\n",
              " 'modern_farmhouse_kitchens',\n",
              " 'interior_design',\n",
              " 'interior_design',\n",
              " 'easy_drawings',\n",
              " 'starbucks_drinks',\n",
              " 'bullet_journal',\n",
              " 'food_porn',\n",
              " 'starbucks_drinks',\n",
              " 'tattoo_sketches',\n",
              " 'modern_farmhouse_kitchens',\n",
              " 'forearm_tattoos',\n",
              " 'interior_design',\n",
              " 'mens_clothing_styles',\n",
              " 'simple_doodles',\n",
              " 'modern_farmhouse_kitchens',\n",
              " 'food_porn',\n",
              " 'modern_farmhouse_kitchens',\n",
              " 'bullet_journal',\n",
              " 'tattoo_sketches',\n",
              " '90s_fashion_men',\n",
              " 'starbucks_drinks',\n",
              " 'forearm_tattoos',\n",
              " 'bullet_journal',\n",
              " 'food_porn',\n",
              " 'simple_doodles',\n",
              " 'tattoo_sketches',\n",
              " 'easy_drawings',\n",
              " 'tattoo_sketches',\n",
              " 'white_aesthetic',\n",
              " 'easy_drawings',\n",
              " 'interior_design',\n",
              " 'food_porn',\n",
              " 'interior_design',\n",
              " 'bullet_journal',\n",
              " 'bullet_journal',\n",
              " 'easy_drawings',\n",
              " '90s_fashion_men']"
            ]
          },
          "metadata": {
            "tags": []
          },
          "execution_count": 146
        }
      ]
    },
    {
      "cell_type": "code",
      "metadata": {
        "colab": {
          "base_uri": "https://localhost:8080/",
          "height": 450
        },
        "id": "Q4kpY8DZEXhU",
        "outputId": "1098c10a-693b-441b-a0e5-a702f18882a6"
      },
      "source": [
        "import umap\n",
        "\n",
        "umap_model = umap.UMAP(n_components=3)\n",
        "%time umap_embeddings = umap_model.fit_transform(image_embeddings)\n",
        "\n",
        "umap_components = pd.DataFrame({\n",
        "    \"component_1\": umap_embeddings[:, 0],\n",
        "    \"component_2\": umap_embeddings[:, 1],\n",
        "    \"component_3\": umap_embeddings[:, 2],\n",
        "    \"class\": image_labels,\n",
        "})\n",
        "\n",
        "umap_components"
      ],
      "execution_count": null,
      "outputs": [
        {
          "output_type": "stream",
          "text": [
            "CPU times: user 7.06 s, sys: 165 ms, total: 7.23 s\n",
            "Wall time: 5.59 s\n"
          ],
          "name": "stdout"
        },
        {
          "output_type": "execute_result",
          "data": {
            "text/html": [
              "<div>\n",
              "<style scoped>\n",
              "    .dataframe tbody tr th:only-of-type {\n",
              "        vertical-align: middle;\n",
              "    }\n",
              "\n",
              "    .dataframe tbody tr th {\n",
              "        vertical-align: top;\n",
              "    }\n",
              "\n",
              "    .dataframe thead th {\n",
              "        text-align: right;\n",
              "    }\n",
              "</style>\n",
              "<table border=\"1\" class=\"dataframe\">\n",
              "  <thead>\n",
              "    <tr style=\"text-align: right;\">\n",
              "      <th></th>\n",
              "      <th>component_1</th>\n",
              "      <th>component_2</th>\n",
              "      <th>component_3</th>\n",
              "      <th>class</th>\n",
              "    </tr>\n",
              "  </thead>\n",
              "  <tbody>\n",
              "    <tr>\n",
              "      <th>0</th>\n",
              "      <td>5.069445</td>\n",
              "      <td>0.948406</td>\n",
              "      <td>6.535965</td>\n",
              "      <td>90s_fashion_men</td>\n",
              "    </tr>\n",
              "    <tr>\n",
              "      <th>1</th>\n",
              "      <td>1.078743</td>\n",
              "      <td>10.978053</td>\n",
              "      <td>5.432088</td>\n",
              "      <td>food_porn</td>\n",
              "    </tr>\n",
              "    <tr>\n",
              "      <th>2</th>\n",
              "      <td>1.616925</td>\n",
              "      <td>11.822950</td>\n",
              "      <td>1.553549</td>\n",
              "      <td>bullet_journal</td>\n",
              "    </tr>\n",
              "    <tr>\n",
              "      <th>3</th>\n",
              "      <td>2.880894</td>\n",
              "      <td>11.300467</td>\n",
              "      <td>2.404254</td>\n",
              "      <td>easy_drawings</td>\n",
              "    </tr>\n",
              "    <tr>\n",
              "      <th>4</th>\n",
              "      <td>3.058815</td>\n",
              "      <td>12.098727</td>\n",
              "      <td>1.684233</td>\n",
              "      <td>simple_doodles</td>\n",
              "    </tr>\n",
              "    <tr>\n",
              "      <th>...</th>\n",
              "      <td>...</td>\n",
              "      <td>...</td>\n",
              "      <td>...</td>\n",
              "      <td>...</td>\n",
              "    </tr>\n",
              "    <tr>\n",
              "      <th>850</th>\n",
              "      <td>10.177214</td>\n",
              "      <td>10.985060</td>\n",
              "      <td>7.092534</td>\n",
              "      <td>interior_design</td>\n",
              "    </tr>\n",
              "    <tr>\n",
              "      <th>851</th>\n",
              "      <td>2.316274</td>\n",
              "      <td>12.090834</td>\n",
              "      <td>1.254983</td>\n",
              "      <td>bullet_journal</td>\n",
              "    </tr>\n",
              "    <tr>\n",
              "      <th>852</th>\n",
              "      <td>1.966258</td>\n",
              "      <td>13.013371</td>\n",
              "      <td>1.202546</td>\n",
              "      <td>bullet_journal</td>\n",
              "    </tr>\n",
              "    <tr>\n",
              "      <th>853</th>\n",
              "      <td>1.766434</td>\n",
              "      <td>5.601349</td>\n",
              "      <td>3.313697</td>\n",
              "      <td>easy_drawings</td>\n",
              "    </tr>\n",
              "    <tr>\n",
              "      <th>854</th>\n",
              "      <td>4.958201</td>\n",
              "      <td>0.812656</td>\n",
              "      <td>6.756684</td>\n",
              "      <td>90s_fashion_men</td>\n",
              "    </tr>\n",
              "  </tbody>\n",
              "</table>\n",
              "<p>855 rows × 4 columns</p>\n",
              "</div>"
            ],
            "text/plain": [
              "     component_1  component_2  component_3            class\n",
              "0       5.069445     0.948406     6.535965  90s_fashion_men\n",
              "1       1.078743    10.978053     5.432088        food_porn\n",
              "2       1.616925    11.822950     1.553549   bullet_journal\n",
              "3       2.880894    11.300467     2.404254    easy_drawings\n",
              "4       3.058815    12.098727     1.684233   simple_doodles\n",
              "..           ...          ...          ...              ...\n",
              "850    10.177214    10.985060     7.092534  interior_design\n",
              "851     2.316274    12.090834     1.254983   bullet_journal\n",
              "852     1.966258    13.013371     1.202546   bullet_journal\n",
              "853     1.766434     5.601349     3.313697    easy_drawings\n",
              "854     4.958201     0.812656     6.756684  90s_fashion_men\n",
              "\n",
              "[855 rows x 4 columns]"
            ]
          },
          "metadata": {
            "tags": []
          },
          "execution_count": 147
        }
      ]
    },
    {
      "cell_type": "markdown",
      "metadata": {
        "id": "iMYQB0y0IbUW"
      },
      "source": [
        "### Notes\n",
        "\n",
        "* Embeddings are wrong, need to fix (or labels are, need to debug)"
      ]
    },
    {
      "cell_type": "code",
      "metadata": {
        "colab": {
          "base_uri": "https://localhost:8080/",
          "height": 465
        },
        "id": "yxjOTa64VH17",
        "outputId": "3412f98a-e202-421a-e073-3c5297bfa9e2"
      },
      "source": [
        "\n",
        "\n",
        "(\n",
        "    ggplot(umap_components, aes(x = \"component_1\", y = \"component_2\", color = \"component_3\")) +\n",
        "    geom_point()\n",
        ")"
      ],
      "execution_count": null,
      "outputs": [
        {
          "output_type": "display_data",
          "data": {
            "image/png": "[encoded data removed]",
            "text/plain": [
              "<Figure size 640x480 with 1 Axes>"
            ]
          },
          "metadata": {
            "tags": []
          }
        },
        {
          "output_type": "execute_result",
          "data": {
            "text/plain": [
              "<ggplot: (8750340888789)>"
            ]
          },
          "metadata": {
            "tags": []
          },
          "execution_count": 128
        }
      ]
    },
    {
      "cell_type": "code",
      "metadata": {
        "id": "aV-W0FPDFPpy",
        "colab": {
          "base_uri": "https://localhost:8080/",
          "height": 797
        },
        "outputId": "692a2748-7137-4f86-a52e-aeda12af049e"
      },
      "source": [
        "import plotly.express as px\n",
        "\n",
        "fig = px.scatter_3d(\n",
        "    umap_components,\n",
        "    x=\"component_1\",\n",
        "    y=\"component_2\",\n",
        "    z=\"component_3\",\n",
        "    color=\"class\")\n",
        "\n",
        "fig.update_traces(\n",
        "  marker=dict(size=3),\n",
        "  selector=dict(mode=\"markers\"))\n",
        "\n",
        "fig.update_layout(\n",
        "    margin=dict(l=20, r=20, t=20, b=20),\n",
        "    height=780, width=1366\n",
        ")\n",
        "\n",
        "fig.show()"
      ],
      "execution_count": 171,
      "outputs": [
        {
          "output_type": "display_data",
          "data": {
            "text/html": [
              "<html>\n",
              "<head><meta charset=\"utf-8\" /></head>\n",
              "<body>\n",
              "    <div>\n",
              "            <script src=\"https://cdnjs.cloudflare.com/ajax/libs/mathjax/2.7.5/MathJax.js?config=TeX-AMS-MML_SVG\"></script><script type=\"text/javascript\">if (window.MathJax) {MathJax.Hub.Config({SVG: {font: \"STIX-Web\"}});}</script>\n",
              "                <script type=\"text/javascript\">window.PlotlyConfig = {MathJaxConfig: 'local'};</script>\n",
              "        <script src=\"https://cdn.plot.ly/plotly-latest.min.js\"></script>    \n",
              "            <div id=\"840cb342-f6ac-40d7-a9a0-0c2147438ed2\" class=\"plotly-graph-div\" style=\"height:780px; width:1366px;\"></div>\n",
              "            <script type=\"text/javascript\">\n",
              "                \n",
              "                    window.PLOTLYENV=window.PLOTLYENV || {};\n",
              "                    \n",
              "                if (document.getElementById(\"840cb342-f6ac-40d7-a9a0-0c2147438ed2\")) {\n",
              "                    Plotly.newPlot(\n",
              "                        '840cb342-f6ac-40d7-a9a0-0c2147438ed2',\n",
              "                        [{\"hoverlabel\": {\"namelength\": 0}, \"hovertemplate\": \"class=90s_fashion_men<br>component_1=%{x}<br>component_2=%{y}<br>component_3=%{z}\", \"legendgroup\": \"class=90s_fashion_men\", \"marker\": {\"color\": \"#636efa\", \"size\": 3, \"symbol\": \"circle\"}, \"mode\": \"markers\", \"name\": \"class=90s_fashion_men\", \"scene\": \"scene\", \"showlegend\": true, \"type\": \"scatter3d\", \"x\": [5.06944465637207, 4.994472980499268, 5.185967445373535, 4.9486799240112305, 5.566697597503662, 5.148802757263184, 4.746970176696777, 5.168364524841309, 6.086404800415039, 5.085874557495117, 5.163950443267822, 4.953789234161377, 5.365158557891846, 4.981990814208984, 4.917644500732422, 5.017898082733154, 5.387842178344727, 5.4253249168396, 5.0646586418151855, 10.071451187133789, 6.293158531188965, 5.2322187423706055, 5.043093204498291, 4.872878074645996, 4.516903400421143, 5.456695079803467, 5.309092998504639, 6.077581882476807, 6.101253032684326, 5.023754119873047, 4.958200931549072], \"y\": [0.9484059810638428, 0.8610678911209106, 0.9073910713195801, 1.0664371252059937, 0.701814591884613, 0.6262605786323547, 1.0900492668151855, 0.9765110015869141, 0.3518461585044861, 0.918735921382904, 0.7618423700332642, 1.0028977394104004, 0.5753100514411926, 0.7252237796783447, 0.7447989583015442, 0.8427002429962158, 0.6058545708656311, 0.6762591600418091, 1.2187165021896362, 10.208547592163086, 0.4209034740924835, 1.0665415525436401, 1.2899619340896606, 1.0790972709655762, 1.4006168842315674, 0.8128376603126526, 0.715864360332489, 0.5021635890007019, 0.2689897418022156, 0.8204251527786255, 0.8126563429832458], \"z\": [6.5359649658203125, 6.767412185668945, 6.61478853225708, 6.757027626037598, 6.709672451019287, 6.655777454376221, 6.99114465713501, 6.585405349731445, 6.753926753997803, 6.765340805053711, 6.871974468231201, 6.8305888175964355, 6.856142044067383, 6.84531307220459, 6.864379405975342, 6.833400249481201, 7.1677093505859375, 6.703280925750732, 6.474658489227295, 7.102005958557129, 6.781712532043457, 6.5001540184021, 6.411525726318359, 6.764280319213867, 6.838536262512207, 6.64198637008667, 6.667415142059326, 6.7164483070373535, 6.929588317871094, 6.678336143493652, 6.756683826446533]}, {\"hoverlabel\": {\"namelength\": 0}, \"hovertemplate\": \"class=food_porn<br>component_1=%{x}<br>component_2=%{y}<br>component_3=%{z}\", \"legendgroup\": \"class=food_porn\", \"marker\": {\"color\": \"#EF553B\", \"size\": 3, \"symbol\": \"circle\"}, \"mode\": \"markers\", \"name\": \"class=food_porn\", \"scene\": \"scene\", \"showlegend\": true, \"type\": \"scatter3d\", \"x\": [1.078742504119873, 1.0535293817520142, 0.9662340879440308, 0.9530059695243835, 0.8485146760940552, 0.9683803915977478, 1.186678171157837, 1.0583984851837158, 0.9631208181381226, 0.8374673128128052, 0.7577336430549622, 1.0160846710205078, 1.0753881931304932, 1.1861093044281006, 1.1274503469467163, 0.9241914749145508, 0.911762535572052, 1.3343234062194824, 0.9753313660621643, 1.0868185758590698, 1.2262948751449585, 1.315224528312683, 1.2272404432296753, 1.138852834701538, 0.9701026678085327, 0.6507949829101562, 1.0072931051254272, 0.9605820775032043, 1.2018247842788696, 1.1770849227905273, 1.2022634744644165, 0.8856167197227478, 1.307685375213623, 0.8392199277877808, 1.1786290407180786, 0.9705153703689575, 0.870569109916687, 1.2076234817504883, 1.1508512496948242, 0.9259713292121887, 1.240098237991333, 1.289163589477539, 1.0845699310302734, 1.0805543661117554, 1.295784831047058, 1.2905863523483276, 1.1512291431427002, 1.1180588006973267, 1.0528218746185303, 1.254893183708191, 1.132202386856079, 0.9560186266899109, 1.1964895725250244, 1.1925103664398193, 1.210817813873291, 1.1156913042068481, 1.1530882120132446, 1.0706108808517456, 1.136414647102356, 0.8441253304481506, 1.096227765083313, 0.9227016568183899, 1.1264694929122925, 1.0097036361694336, 1.1230722665786743, 1.2349095344543457, 1.0716619491577148, 1.015200138092041, 1.0272725820541382, 0.8847965598106384, 1.2855830192565918, 1.027869462966919, 1.075968623161316, 0.9207215309143066, 1.2695292234420776], \"y\": [10.978053092956543, 11.150851249694824, 10.926952362060547, 10.392839431762695, 8.323644638061523, 10.49772834777832, 10.916653633117676, 11.155508041381836, 10.540618896484375, 10.49978256225586, 10.613691329956055, 10.805974006652832, 10.401996612548828, 10.754232406616211, 10.261860847473145, 11.074745178222656, 10.782315254211426, 10.502717018127441, 10.265585899353027, 10.43786907196045, 11.219593048095703, 10.684125900268555, 10.754048347473145, 10.70112419128418, 10.735400199890137, 9.479682922363281, 10.997265815734863, 10.546133041381836, 11.012496948242188, 10.634422302246094, 10.605008125305176, 10.722508430480957, 10.818522453308105, 11.097613334655762, 10.928175926208496, 11.16140079498291, 10.647725105285645, 10.95237922668457, 11.075211524963379, 10.481971740722656, 10.481224060058594, 10.518702507019043, 11.06087875366211, 10.547213554382324, 10.950407981872559, 10.629850387573242, 10.852904319763184, 10.657943725585938, 11.03567123413086, 10.36570930480957, 10.691914558410645, 10.847972869873047, 10.573784828186035, 10.566650390625, 10.844097137451172, 11.098288536071777, 10.844379425048828, 10.639775276184082, 11.189034461975098, 11.2781343460083, 10.954060554504395, 11.202393531799316, 10.732978820800781, 11.15659236907959, 10.682574272155762, 10.538297653198242, 10.74109935760498, 10.638717651367188, 11.120805740356445, 11.27108383178711, 11.04078483581543, 11.200661659240723, 11.140899658203125, 11.073741912841797, 10.53298568725586], \"z\": [5.4320878982543945, 5.651111602783203, 5.5843024253845215, 5.865015029907227, 4.969771862030029, 5.417646884918213, 6.1580281257629395, 5.866735458374023, 5.296607494354248, 5.87368106842041, 5.315982341766357, 5.500123023986816, 5.550410270690918, 5.562360763549805, 5.354757785797119, 5.822418689727783, 5.401994228363037, 5.515900135040283, 5.506805896759033, 5.506104946136475, 5.852590560913086, 5.342355728149414, 5.695762634277344, 6.154968738555908, 6.091057777404785, 5.467245578765869, 6.067846775054932, 5.8093461990356445, 5.645840644836426, 5.699133396148682, 5.731346130371094, 5.805934429168701, 5.675134181976318, 5.921790599822998, 6.128692150115967, 5.742906093597412, 5.8768415451049805, 5.590463161468506, 5.868691921234131, 6.041670799255371, 5.517542839050293, 5.621740341186523, 5.977705478668213, 5.79779052734375, 5.872833728790283, 5.551239967346191, 5.469819068908691, 6.027125358581543, 5.679282188415527, 5.365846157073975, 5.531089782714844, 6.012510299682617, 5.674744129180908, 5.545592308044434, 5.519166469573975, 5.918899059295654, 6.090152740478516, 6.093258380889893, 6.017573833465576, 5.717317581176758, 6.004818916320801, 5.660636901855469, 6.1484150886535645, 5.843194961547852, 6.129055976867676, 5.559080123901367, 6.1228556632995605, 5.339502334594727, 5.899509429931641, 5.799724578857422, 5.81539249420166, 5.770681858062744, 5.71368408203125, 5.7419586181640625, 5.450390815734863]}, {\"hoverlabel\": {\"namelength\": 0}, \"hovertemplate\": \"class=bullet_journal<br>component_1=%{x}<br>component_2=%{y}<br>component_3=%{z}\", \"legendgroup\": \"class=bullet_journal\", \"marker\": {\"color\": \"#00cc96\", \"size\": 3, \"symbol\": \"circle\"}, \"mode\": \"markers\", \"name\": \"class=bullet_journal\", \"scene\": \"scene\", \"showlegend\": true, \"type\": \"scatter3d\", \"x\": [1.61692476272583, 2.7430920600891113, 1.9663194417953491, 2.029958963394165, 1.7309095859527588, 1.4285099506378174, 2.037576675415039, 2.1188275814056396, 2.0678296089172363, 1.5224727392196655, 1.9735513925552368, 1.3599092960357666, 3.2930827140808105, 1.4341741800308228, 2.3527252674102783, 2.262568712234497, 1.761533498764038, 2.330712080001831, 1.981200098991394, 1.8615177869796753, 1.5605381727218628, 1.6634432077407837, 2.1329288482666016, 1.5263047218322754, 1.7425141334533691, 1.4146705865859985, 2.4993011951446533, 2.5577707290649414, 2.5428848266601562, 1.439719796180725, 2.0439271926879883, 1.9804422855377197, 1.3873240947723389, 2.787900924682617, 1.8192086219787598, 1.57601797580719, 1.9341305494308472, 1.6221799850463867, 1.854670524597168, 2.201927423477173, 2.0292017459869385, 1.5735299587249756, 1.8832547664642334, 1.5305405855178833, 2.1149463653564453, 1.8850294351577759, 2.016226291656494, 2.120870590209961, 1.51112961769104, 1.7440415620803833, 1.6174731254577637, 2.4962661266326904, 2.1433682441711426, 1.952160120010376, 1.8752293586730957, 1.4301296472549438, 3.2354369163513184, 1.4110758304595947, 2.2805089950561523, 2.113628387451172, 1.4296807050704956, 2.033754825592041, 2.4083454608917236, 1.9813916683197021, 1.980133056640625, 2.025254964828491, 1.50820791721344, 1.6028629541397095, 2.604959011077881, 2.0870108604431152, 1.7939000129699707, 1.5736308097839355, 2.014814853668213, 2.316274404525757, 1.9662584066390991], \"y\": [11.82295036315918, 12.041478157043457, 11.680070877075195, 12.870539665222168, 12.449350357055664, 11.753726959228516, 11.760784149169922, 12.14771556854248, 12.90601921081543, 12.29871940612793, 13.07306957244873, 11.906081199645996, 11.54712963104248, 11.971578598022461, 11.968347549438477, 11.544350624084473, 12.769046783447266, 11.752492904663086, 12.841748237609863, 12.206182479858398, 11.857481002807617, 12.293668746948242, 12.562119483947754, 12.568283081054688, 12.253477096557617, 12.22148609161377, 11.801555633544922, 12.35281753540039, 11.778905868530273, 11.869025230407715, 12.382393836975098, 13.000611305236816, 11.884451866149902, 12.09486198425293, 12.531620979309082, 11.705058097839355, 12.303488731384277, 12.373956680297852, 12.557353019714355, 11.472936630249023, 12.131278991699219, 12.343156814575195, 12.353419303894043, 11.750372886657715, 12.991069793701172, 12.360368728637695, 13.02226734161377, 11.562551498413086, 12.292757034301758, 11.867217063903809, 12.60877799987793, 11.598825454711914, 11.67440128326416, 11.89132022857666, 12.47974681854248, 11.9061918258667, 11.807403564453125, 12.036284446716309, 12.147796630859375, 11.904342651367188, 11.897655487060547, 12.902606964111328, 11.550244331359863, 13.045247077941895, 12.006787300109863, 12.165932655334473, 12.329435348510742, 12.642253875732422, 11.837315559387207, 11.725156784057617, 12.500253677368164, 11.682147026062012, 12.148130416870117, 12.09083366394043, 13.013371467590332], \"z\": [1.55354905128479, 0.7994697690010071, 1.4379483461380005, 1.079043984413147, 1.2508361339569092, 1.5468523502349854, 0.9479391574859619, 1.358094573020935, 1.0557754039764404, 1.4395519495010376, 1.190291404724121, 1.33479905128479, 1.676323413848877, 1.4825654029846191, 2.293501853942871, 1.5851991176605225, 1.1829466819763184, 1.0657743215560913, 1.2749905586242676, 1.2388354539871216, 1.5351076126098633, 1.3733304738998413, 0.9887288212776184, 1.1625699996948242, 1.3115208148956299, 1.5493308305740356, 1.205971598625183, 1.9098762273788452, 2.4168643951416016, 1.5381768941879272, 1.1834489107131958, 1.2929426431655884, 1.3880852460861206, 0.7023491859436035, 1.146382451057434, 1.484724760055542, 1.2273223400115967, 1.2044638395309448, 1.2892355918884277, 1.4804850816726685, 1.2676246166229248, 1.4680123329162598, 1.3534810543060303, 1.2119815349578857, 1.2283411026000977, 1.335320234298706, 1.2455668449401855, 1.19314444065094, 1.516581416130066, 1.3007774353027344, 1.107162356376648, 1.4160194396972656, 1.71816086769104, 1.0166339874267578, 1.269481897354126, 1.304439663887024, 0.8123040795326233, 1.5302470922470093, 0.942315936088562, 1.1543872356414795, 1.3697915077209473, 1.1627399921417236, 1.6985528469085693, 1.2220293283462524, 1.1610356569290161, 1.2227281332015991, 1.5042020082473755, 1.0992414951324463, 0.8702027797698975, 1.088931918144226, 1.291837215423584, 1.3927876949310303, 1.0879613161087036, 1.254982590675354, 1.20254647731781]}, {\"hoverlabel\": {\"namelength\": 0}, \"hovertemplate\": \"class=easy_drawings<br>component_1=%{x}<br>component_2=%{y}<br>component_3=%{z}\", \"legendgroup\": \"class=easy_drawings\", \"marker\": {\"color\": \"#ab63fa\", \"size\": 3, \"symbol\": \"circle\"}, \"mode\": \"markers\", \"name\": \"class=easy_drawings\", \"scene\": \"scene\", \"showlegend\": true, \"type\": \"scatter3d\", \"x\": [2.880894422531128, 3.1290667057037354, 2.928215742111206, 3.634521484375, 2.9697957038879395, 3.1596248149871826, 3.2489163875579834, 3.581429958343506, 3.3971848487854004, 3.844933271408081, 1.877317190170288, 3.331477165222168, 2.954827308654785, 3.5188817977905273, 3.701228618621826, 3.9476263523101807, 3.4190170764923096, 3.266202449798584, 3.6239264011383057, 3.3951416015625, 3.2012429237365723, 2.971020460128784, 2.3326416015625, 3.231856107711792, 3.798264503479004, 2.9575676918029785, 3.168458938598633, 2.3766801357269287, 2.137050151824951, 3.2475435733795166, 3.5768802165985107, 3.139148473739624, 2.1430912017822266, 3.8205912113189697, 3.6627037525177, 3.2302441596984863, 3.8878159523010254, 1.679945468902588, 3.630709171295166, 3.105492353439331, 2.9827358722686768, 3.487835645675659, 3.914593458175659, 3.236727476119995, 3.337012529373169, 2.1749038696289062, 1.8932597637176514, 3.394352912902832, 3.7136740684509277, 3.3641653060913086, 1.8717494010925293, 3.4592432975769043, 3.526045322418213, 3.5236833095550537, 2.788255453109741, 3.3455922603607178, 3.474839925765991, 3.1629881858825684, 3.846451997756958, 3.916140079498291, 3.8999650478363037, 3.368748903274536, 3.1994431018829346, 3.1931116580963135, 3.1601004600524902, 3.1004598140716553, 3.052661895751953, 2.1403913497924805, 2.6753790378570557, 3.1487741470336914, 3.4772214889526367, 3.2640621662139893, 3.494720220565796, 3.1860647201538086, 1.7664344310760498], \"y\": [11.300466537475586, 11.744290351867676, 12.290313720703125, 11.485933303833008, 11.635709762573242, 11.097843170166016, 12.127578735351562, 10.866497039794922, 11.991080284118652, 11.735177040100098, 5.482728004455566, 10.841394424438477, 12.389836311340332, 10.66026496887207, 11.354347229003906, 11.530013084411621, 11.579777717590332, 12.143967628479004, 11.338595390319824, 11.908169746398926, 11.837350845336914, 11.713958740234375, 11.105643272399902, 11.895493507385254, 11.376961708068848, 11.98670482635498, 12.030091285705566, 12.67615795135498, 5.33181619644165, 12.169211387634277, 10.709232330322266, 11.823622703552246, 6.4947075843811035, 11.559788703918457, 11.5940580368042, 11.937335014343262, 11.232654571533203, 5.549405097961426, 11.35108470916748, 12.1276216506958, 12.175057411193848, 11.878790855407715, 10.706426620483398, 11.741928100585938, 11.87207317352295, 11.581354141235352, 5.342523097991943, 11.381307601928711, 11.857895851135254, 11.846091270446777, 5.243330955505371, 10.732081413269043, 11.558268547058105, 11.84921646118164, 11.026387214660645, 11.787468910217285, 11.394366264343262, 11.987282752990723, 11.615145683288574, 11.337706565856934, 11.412445068359375, 11.330461502075195, 11.876365661621094, 12.113814353942871, 10.811344146728516, 11.724335670471191, 11.99361801147461, 11.506647109985352, 11.21790599822998, 11.602933883666992, 11.675592422485352, 11.696653366088867, 10.485661506652832, 11.711438179016113, 5.601348876953125], \"z\": [2.404254198074341, 3.317861557006836, 0.7016240358352661, 2.844651460647583, 2.0202178955078125, 2.9325873851776123, 1.0901241302490234, 2.4834227561950684, 1.2222330570220947, 1.0140315294265747, 3.262420654296875, 2.755061149597168, 0.9845382571220398, 2.7733523845672607, 0.7001069784164429, 2.752480983734131, 2.1679675579071045, 1.4516916275024414, 1.800557255744934, 2.0327365398406982, 0.7631118297576904, 1.5099833011627197, 4.638338565826416, 2.2369940280914307, 2.2162251472473145, 1.5894602537155151, 1.1406738758087158, 1.3187355995178223, 3.5738768577575684, 1.7594941854476929, 2.438066244125366, 2.7063992023468018, 3.4859063625335693, 2.8435826301574707, 2.9627466201782227, 2.8887033462524414, 2.6104137897491455, 3.6377980709075928, 2.1355955600738525, 3.0458240509033203, 1.3251590728759766, 0.5931870937347412, 2.2152066230773926, 2.238931655883789, 1.211373209953308, 1.5722910165786743, 3.1753902435302734, 1.7932279109954834, 1.2044782638549805, 2.100045680999756, 3.1678664684295654, 2.651951313018799, 1.2471662759780884, 0.6058226823806763, 2.4320480823516846, 3.0092482566833496, 1.9883301258087158, 1.2743045091629028, 1.66854989528656, 2.5418922901153564, 2.4411234855651855, 2.958427906036377, 3.116947650909424, 1.1557105779647827, 2.413233995437622, 3.449171543121338, 1.2374610900878906, 1.9773045778274536, 2.199758768081665, 1.8433154821395874, 3.136190414428711, 2.1672279834747314, 2.625281572341919, 3.3139524459838867, 3.3136966228485107]}, {\"hoverlabel\": {\"namelength\": 0}, \"hovertemplate\": \"class=simple_doodles<br>component_1=%{x}<br>component_2=%{y}<br>component_3=%{z}\", \"legendgroup\": \"class=simple_doodles\", \"marker\": {\"color\": \"#FFA15A\", \"size\": 3, \"symbol\": \"circle\"}, \"mode\": \"markers\", \"name\": \"class=simple_doodles\", \"scene\": \"scene\", \"showlegend\": true, \"type\": \"scatter3d\", \"x\": [3.058814525604248, 3.7524707317352295, 3.491734027862549, 3.2156012058258057, 2.4439029693603516, 3.5782008171081543, 2.8388609886169434, 1.7708773612976074, 2.763531446456909, 3.069427728652954, 2.0356411933898926, 1.9833780527114868, 3.323330879211426, 3.6982388496398926, 3.7452521324157715, 3.03702974319458, 3.3054122924804688, 3.4776828289031982, 3.145904541015625, 3.637036085128784, 2.874701499938965, 3.4251861572265625, 3.1090035438537598, 3.165421962738037, 2.8103902339935303, 2.4650845527648926, 3.1564342975616455, 1.6056160926818848, 2.1045734882354736, 3.409390687942505, 1.660054087638855, 3.1376266479492188, 3.9338982105255127, 2.652013063430786, 3.0320942401885986, 2.614772081375122, 2.912245512008667, 3.1091878414154053, 3.5671591758728027, 3.1593399047851562, 2.8020331859588623, 3.54089617729187, 3.73998761177063, 3.181885004043579, 3.2012085914611816, 2.7551114559173584, 2.138313055038452, 3.0780434608459473, 3.371088743209839, 3.0739171504974365, 2.21742582321167, 3.669795274734497, 3.473214864730835, 3.249183177947998, 1.880927562713623, 3.363628625869751, 2.1462178230285645, 2.349119186401367, 3.0646798610687256, 2.8382363319396973, 3.3265979290008545, 3.1841156482696533, 3.2517261505126953, 3.5391671657562256, 3.185087203979492, 3.013157844543457, 1.6644724607467651, 3.475175380706787, 3.335373640060425, 3.1552140712738037, 3.507488965988159, 3.793992280960083, 3.114999771118164, 3.690178871154785, 2.623448371887207], \"y\": [12.098727226257324, 10.943714141845703, 11.481433868408203, 11.378765106201172, 11.673062324523926, 11.365755081176758, 12.348799705505371, 11.688922882080078, 12.37498664855957, 11.994125366210938, 13.018168449401855, 11.75615406036377, 11.72399616241455, 11.734360694885254, 11.865524291992188, 12.27047061920166, 11.862120628356934, 11.476346969604492, 11.88435173034668, 11.627938270568848, 11.820985794067383, 11.67123031616211, 11.667154312133789, 11.519469261169434, 12.362911224365234, 11.834281921386719, 11.827725410461426, 5.475915431976318, 11.49096393585205, 11.953734397888184, 5.413989067077637, 11.902128219604492, 11.505020141601562, 11.977484703063965, 11.419622421264648, 12.4135160446167, 12.242566108703613, 12.35389232635498, 11.949446678161621, 11.917024612426758, 12.517373085021973, 11.561661720275879, 11.55894660949707, 12.033110618591309, 11.701985359191895, 12.365777969360352, 12.784770965576172, 11.975695610046387, 11.858770370483398, 12.120759010314941, 11.9072904586792, 11.509828567504883, 12.007624626159668, 11.866479873657227, 5.255255222320557, 10.867029190063477, 5.501837253570557, 11.595454216003418, 11.719205856323242, 12.193123817443848, 11.825225830078125, 11.660624504089355, 11.753714561462402, 11.376848220825195, 11.677568435668945, 11.945572853088379, 11.71086311340332, 11.509794235229492, 11.908265113830566, 12.217609405517578, 11.501168251037598, 11.680414199829102, 11.954723358154297, 11.87739372253418, 12.540088653564453], \"z\": [1.6842330694198608, 2.2029261589050293, 0.43437203764915466, 0.7518951296806335, 2.0130019187927246, 1.067704439163208, 0.8614380359649658, 1.656425952911377, 0.7346007227897644, 3.08795166015625, 1.1788655519485474, 0.9601795077323914, 0.7151040434837341, 0.894385814666748, 0.7205694913864136, 0.6901737451553345, 1.285940408706665, 0.6082354784011841, 3.0205495357513428, 0.5858286619186401, 1.1582727432250977, 3.2034499645233154, 1.9584251642227173, 0.8585379719734192, 0.9179733395576477, 1.0518745183944702, 3.143829345703125, 3.3019964694976807, 1.9671199321746826, 1.2413216829299927, 3.2787322998046875, 1.5264781713485718, 1.858327865600586, 0.8495435118675232, 0.9279837608337402, 0.8343319892883301, 1.1555719375610352, 0.701237142086029, 1.0612529516220093, 3.2463326454162598, 0.9155574440956116, 2.5729153156280518, 0.7488412261009216, 3.1179986000061035, 0.3913149833679199, 0.9291486144065857, 1.2549636363983154, 3.1939339637756348, 2.1139075756073, 0.9659779667854309, 0.9353789687156677, 0.7242060303688049, 1.2938255071640015, 2.8408238887786865, 3.2887842655181885, 3.1831154823303223, 3.697871685028076, 1.3439058065414429, 0.8161378502845764, 0.6116321086883545, 3.6156699657440186, 2.3351078033447266, 3.095484733581543, 0.4812205731868744, 2.9057679176330566, 1.4197096824645996, 1.508711576461792, 0.6395540237426758, 2.062932252883911, 0.7127180099487305, 0.6668115258216858, 1.5557678937911987, 3.1370487213134766, 0.7372708320617676, 0.9118247628211975]}, {\"hoverlabel\": {\"namelength\": 0}, \"hovertemplate\": \"class=mens_clothing_styles<br>component_1=%{x}<br>component_2=%{y}<br>component_3=%{z}\", \"legendgroup\": \"class=mens_clothing_styles\", \"marker\": {\"color\": \"#19d3f3\", \"size\": 3, \"symbol\": \"circle\"}, \"mode\": \"markers\", \"name\": \"class=mens_clothing_styles\", \"scene\": \"scene\", \"showlegend\": true, \"type\": \"scatter3d\", \"x\": [5.4557271003723145, 6.2022199630737305, 6.183085918426514, 4.512185096740723, 5.1225266456604, 5.575131416320801, 5.141477584838867, 4.424469947814941, 6.297088623046875, 4.7113752365112305, 4.942269802093506, 5.03168249130249, 4.907913684844971, 4.422282695770264, 5.578279972076416, 5.83479642868042, 4.786126613616943, 4.961574077606201, 4.857569694519043, 5.942831516265869, 4.597213268280029, 4.896470069885254, 5.462716102600098, 5.1061553955078125, 5.280073642730713, 4.882919788360596, 5.94904899597168, 4.426585674285889, 4.937131881713867, 4.479877471923828, 6.22808313369751, 5.129368305206299, 4.783111095428467, 6.286685943603516, 4.735693454742432, 5.1127095222473145, 6.07989501953125, 6.12518310546875, 5.88135290145874, 5.9608869552612305, 5.835689544677734, 6.197765827178955, 6.239193916320801, 5.530354976654053, 6.285671710968018, 6.33104133605957, 5.42563009262085, 6.165694713592529, 6.283753395080566, 4.787482261657715, 4.9061479568481445, 5.055176734924316, 4.861171722412109, 5.0953755378723145, 6.2420525550842285, 4.897333145141602, 4.713534832000732, 5.537471294403076, 4.777069568634033, 4.818539142608643, 4.907073020935059, 4.492201328277588, 4.958676338195801, 5.657324314117432, 6.124936103820801, 5.747095584869385, 6.063831806182861, 4.885835647583008, 6.203808307647705, 6.084638595581055, 5.0314040184021, 5.89439058303833, 4.491912841796875, 5.991464138031006, 6.221638202667236], \"y\": [0.6027427315711975, 0.3209579288959503, 0.34993284940719604, 1.3878573179244995, 1.089440107345581, 0.578959047794342, 1.1368920803070068, 1.4633255004882812, 0.44202113151550293, 0.9708137512207031, 0.8276791572570801, 0.6458230018615723, 0.8543151021003723, 1.499226450920105, 0.5431400537490845, 0.565591037273407, 0.9740474224090576, 0.9653350710868835, 1.052660584449768, 0.4907243251800537, 0.9146836996078491, 0.8409439921379089, 0.4923169016838074, 0.7260535955429077, 0.7909865975379944, 0.8698230385780334, 0.42688098549842834, 1.444591999053955, 0.796733558177948, 1.4898301362991333, 0.481723815202713, 0.6410199999809265, 0.9458277821540833, 0.348858505487442, 0.8657809495925903, 0.6706663966178894, 0.40496620535850525, 0.33219510316848755, 0.6368297934532166, 0.5680638551712036, 0.6486273407936096, 0.37770596146583557, 0.5086737275123596, 0.5107206106185913, 0.3871598541736603, 0.34277424216270447, 0.7334024906158447, 0.48158591985702515, 0.4409097135066986, 0.9793299436569214, 1.256361961364746, 0.7741529941558838, 0.961126446723938, 0.7101747989654541, 0.46028226613998413, 0.8375187516212463, 1.2985892295837402, 0.6772572994232178, 0.947821855545044, 0.9434651136398315, 1.0111775398254395, 1.4406646490097046, 1.1187059879302979, 0.5137969255447388, 0.4814607501029968, 0.6203023791313171, 0.3802223205566406, 0.9035160541534424, 0.5134372711181641, 0.37086039781570435, 1.0121785402297974, 0.4606836140155792, 1.4181734323501587, 0.589268147945404, 0.37963488698005676], \"z\": [7.061588287353516, 6.945867538452148, 6.6976094245910645, 6.838894844055176, 6.410586357116699, 7.152427673339844, 6.520632266998291, 6.799511432647705, 6.76495361328125, 7.087264060974121, 7.3353071212768555, 6.662928104400635, 7.071701526641846, 6.790256500244141, 7.164185047149658, 6.819590091705322, 7.041951656341553, 6.8897318840026855, 7.125472545623779, 6.97584867477417, 7.042524337768555, 6.7902512550354, 7.223779201507568, 7.175844192504883, 6.587550640106201, 7.102619647979736, 6.829319953918457, 6.782649517059326, 7.32733678817749, 6.807951927185059, 6.876108169555664, 7.20660924911499, 7.085353374481201, 6.892765998840332, 6.954394340515137, 7.268542289733887, 6.89247465133667, 6.963587284088135, 6.7635579109191895, 6.862905502319336, 6.7654218673706055, 6.7790117263793945, 6.830670356750488, 7.157209396362305, 6.734969615936279, 6.838514804840088, 6.905172824859619, 6.884629726409912, 6.853111743927002, 7.066801071166992, 6.832054615020752, 6.70355749130249, 7.027048587799072, 7.160201072692871, 6.771368026733398, 7.333691596984863, 6.67563009262085, 6.848184108734131, 7.117014408111572, 7.044754505157471, 6.825311183929443, 6.832652568817139, 6.891919136047363, 7.012183666229248, 6.930996417999268, 6.758466720581055, 6.893937110900879, 6.672879695892334, 6.981761932373047, 6.907855033874512, 6.736238479614258, 7.0171990394592285, 6.82719612121582, 6.841576099395752, 6.832570552825928]}, {\"hoverlabel\": {\"namelength\": 0}, \"hovertemplate\": \"class=white_aesthetic<br>component_1=%{x}<br>component_2=%{y}<br>component_3=%{z}\", \"legendgroup\": \"class=white_aesthetic\", \"marker\": {\"color\": \"#FF6692\", \"size\": 3, \"symbol\": \"circle\"}, \"mode\": \"markers\", \"name\": \"class=white_aesthetic\", \"scene\": \"scene\", \"showlegend\": true, \"type\": \"scatter3d\", \"x\": [9.911367416381836, 2.2453503608703613, 2.5805375576019287, 3.1254122257232666, 11.07412052154541, 5.006741046905518, 1.3058825731277466, 2.775800943374634, 1.4762665033340454, 2.6015236377716064, 3.1390864849090576, 2.3460657596588135, 2.603160858154297, 3.191659450531006, 2.4397456645965576, 3.288949489593506, 1.4890601634979248, 3.13942289352417, 2.976377248764038, 3.1193747520446777, 2.894498109817505, 5.5965423583984375, 3.0512638092041016, 3.353351593017578, 3.1642370223999023, 3.3973491191864014, 9.817988395690918, 3.526538133621216, 2.6835649013519287, 3.0461270809173584, 3.2230327129364014, 3.279873847961426, 10.355935096740723, 3.2736668586730957, 3.1180431842803955, 2.140846014022827, 3.097308397293091, 3.211411714553833, 3.027770757675171, 2.7331855297088623, 2.6934385299682617, 2.125534772872925, 1.5279622077941895, 3.1910359859466553, 9.565939903259277, 3.054248332977295, 3.1809580326080322, 3.4777958393096924, 2.3579585552215576, 2.956723213195801, 3.159296989440918, 2.389462947845459, 2.4807024002075195, 10.751083374023438, 3.110475540161133, 3.427981376647949, 1.356458306312561, 3.409385919570923, 2.2744054794311523, 10.243617057800293, 3.3445959091186523, 3.2634730339050293, 3.3707571029663086, 3.492384195327759, 3.2125256061553955, 3.0988869667053223, 9.696915626525879, 3.6549062728881836, 4.8731465339660645, 1.5707976818084717, 1.4492977857589722, 9.990598678588867, 10.857163429260254, 2.7746262550354004, 10.03352165222168], \"y\": [10.630574226379395, 11.672884941101074, 11.264130592346191, 11.634394645690918, 10.178985595703125, 1.337231993675232, 10.393875122070312, 6.4760589599609375, 11.157034873962402, 6.6480607986450195, 11.718897819519043, 6.603405475616455, 11.375494956970215, 10.838122367858887, 11.21442699432373, 10.617258071899414, 10.651093482971191, 11.010333061218262, 11.516180038452148, 11.366838455200195, 11.245713233947754, 0.9783653616905212, 11.284689903259277, 10.659330368041992, 11.143322944641113, 10.812865257263184, 10.66549301147461, 11.901029586791992, 11.896745681762695, 10.909687042236328, 10.656652450561523, 10.662286758422852, 11.24168872833252, 10.625597953796387, 11.548481941223145, 11.520888328552246, 11.321372985839844, 10.46911907196045, 11.262946128845215, 11.184467315673828, 11.406168937683105, 5.606925964355469, 10.64070987701416, 11.189247131347656, 10.708943367004395, 11.474223136901855, 10.309966087341309, 10.668747901916504, 6.384926795959473, 11.104997634887695, 11.14826774597168, 6.541675090789795, 6.597473621368408, 11.454510688781738, 11.195590019226074, 10.809802055358887, 12.109169960021973, 10.705068588256836, 6.527534008026123, 11.046770095825195, 10.725339889526367, 10.739211082458496, 10.723871231079102, 11.454541206359863, 11.570236206054688, 11.551238059997559, 10.684626579284668, 11.962907791137695, 0.6040228605270386, 12.381736755371094, 10.870473861694336, 10.51810073852539, 11.294583320617676, 10.611220359802246, 10.6943359375], \"z\": [7.421208381652832, 2.7394778728485107, 4.60065221786499, 3.458483934402466, 7.4764862060546875, 6.349183082580566, 5.273674964904785, 3.847815752029419, 5.32435941696167, 3.6747710704803467, 3.7082536220550537, 3.560457468032837, 4.171891212463379, 3.699146032333374, 4.5789055824279785, 3.678391933441162, 5.141319274902344, 3.427393913269043, 3.7058229446411133, 3.7118709087371826, 3.9136478900909424, 6.591677665710449, 3.6899890899658203, 3.677030324935913, 3.7384772300720215, 2.870556116104126, 7.509424209594727, 3.751877784729004, 2.930859327316284, 3.6986083984375, 3.768108606338501, 3.793386459350586, 6.78090763092041, 3.631798028945923, 3.6575160026550293, 2.4241156578063965, 3.488229274749756, 3.927544593811035, 3.769822835922241, 4.077216148376465, 4.070065021514893, 3.3081743717193604, 5.519335746765137, 3.645092010498047, 7.410279750823975, 3.446747064590454, 4.020437240600586, 3.1902389526367188, 3.5539298057556152, 3.860679864883423, 3.5062427520751953, 3.546032190322876, 3.612576961517334, 7.007206439971924, 3.6269490718841553, 3.258100748062134, 1.5610156059265137, 3.3277769088745117, 3.517857313156128, 7.722221851348877, 3.532923698425293, 3.5997519493103027, 3.3024895191192627, 2.4668543338775635, 3.6106035709381104, 3.5208218097686768, 7.40895938873291, 0.7873437404632568, 6.719696521759033, 1.4655970335006714, 5.323427677154541, 7.523089408874512, 6.941806793212891, 3.8584837913513184, 7.6494832038879395]}, {\"hoverlabel\": {\"namelength\": 0}, \"hovertemplate\": \"class=modern_farmhouse_kitchens<br>component_1=%{x}<br>component_2=%{y}<br>component_3=%{z}\", \"legendgroup\": \"class=modern_farmhouse_kitchens\", \"marker\": {\"color\": \"#B6E880\", \"size\": 3, \"symbol\": \"circle\"}, \"mode\": \"markers\", \"name\": \"class=modern_farmhouse_kitchens\", \"scene\": \"scene\", \"showlegend\": true, \"type\": \"scatter3d\", \"x\": [11.421590805053711, 11.665416717529297, 11.348578453063965, 10.529900550842285, 10.893545150756836, 11.599409103393555, 11.600703239440918, 11.360281944274902, 11.069690704345703, 11.027812957763672, 11.26795768737793, 10.718562126159668, 11.436887741088867, 11.469494819641113, 11.41243839263916, 10.882428169250488, 10.554292678833008, 10.986250877380371, 11.54631233215332, 10.700569152832031, 11.415148735046387, 11.388700485229492, 2.320807695388794, 11.119203567504883, 11.118021011352539, 11.11746883392334, 11.452585220336914, 11.079815864562988, 10.973623275756836, 10.812630653381348, 10.870518684387207, 11.51439094543457, 11.391663551330566, 11.550762176513672, 11.545113563537598, 10.630239486694336, 11.373689651489258, 11.522985458374023, 11.6256685256958, 11.604836463928223, 11.337932586669922, 10.513976097106934, 11.476704597473145, 11.582558631896973, 11.401200294494629, 10.90359115600586, 11.66341495513916, 11.279170989990234, 11.529900550842285, 11.64742660522461, 10.999606132507324, 11.432027816772461, 10.501958847045898, 11.165199279785156, 10.770532608032227, 11.109880447387695, 10.660447120666504, 11.456901550292969, 11.240303039550781, 10.924574851989746, 10.824868202209473, 11.287067413330078, 11.341575622558594, 11.122173309326172, 11.166446685791016, 11.575867652893066, 11.680105209350586, 11.147579193115234, 10.72467041015625, 11.434637069702148, 10.851519584655762, 10.781505584716797, 11.485198020935059, 10.37674331665039, 11.242100715637207], \"y\": [10.823699951171875, 10.560271263122559, 10.965860366821289, 11.163400650024414, 10.683921813964844, 10.863429069519043, 10.555776596069336, 10.955719947814941, 10.381505966186523, 10.67839527130127, 10.969592094421387, 10.42152214050293, 10.74777603149414, 10.903822898864746, 10.4176025390625, 10.545268058776855, 10.936355590820312, 10.39305591583252, 10.864290237426758, 10.81225299835205, 10.300928115844727, 10.28603744506836, 11.579850196838379, 10.471284866333008, 11.04853343963623, 10.550259590148926, 10.441286087036133, 10.827680587768555, 10.492003440856934, 10.92460823059082, 10.57303237915039, 10.500186920166016, 10.751924514770508, 10.800655364990234, 10.60099983215332, 11.062376022338867, 10.750738143920898, 10.825555801391602, 10.47156810760498, 10.467199325561523, 10.833724021911621, 10.831172943115234, 10.924177169799805, 10.583354949951172, 10.38836669921875, 10.932818412780762, 10.374122619628906, 10.740865707397461, 10.807938575744629, 10.390973091125488, 10.302660942077637, 10.341691017150879, 10.488367080688477, 10.78126335144043, 10.912185668945312, 10.377840042114258, 10.56081485748291, 10.748211860656738, 10.956123352050781, 10.78676986694336, 11.126264572143555, 10.731144905090332, 10.966191291809082, 10.62192440032959, 10.35588264465332, 10.444684982299805, 10.856122970581055, 10.380404472351074, 10.837818145751953, 10.744546890258789, 10.570347785949707, 10.680198669433594, 10.805968284606934, 10.865485191345215, 10.408538818359375], \"z\": [7.694642066955566, 7.815380573272705, 7.221651077270508, 7.148251056671143, 7.316967487335205, 7.577880382537842, 7.8066935539245605, 7.753414630889893, 6.89442253112793, 7.825285911560059, 7.863684177398682, 6.914263725280762, 7.559628009796143, 7.435171604156494, 7.839366436004639, 6.890141487121582, 7.820842266082764, 6.84644889831543, 7.795559406280518, 7.892525672912598, 7.859126567840576, 7.477785110473633, 1.2381808757781982, 7.147561550140381, 7.226531028747559, 7.876473903656006, 7.845325469970703, 7.858595848083496, 7.151302814483643, 7.610125541687012, 6.929874897003174, 7.717536926269531, 7.4905290603637695, 7.70685338973999, 7.9758992195129395, 7.383285045623779, 7.735712051391602, 7.782442569732666, 7.885308265686035, 7.911247253417969, 7.270999431610107, 7.290518283843994, 7.65530252456665, 7.784913063049316, 7.647210121154785, 7.830848217010498, 8.029132843017578, 7.680760383605957, 7.524406433105469, 7.921341419219971, 6.887075424194336, 7.658215045928955, 7.315489292144775, 7.9050140380859375, 7.767427444458008, 6.880880832672119, 7.750922203063965, 7.80502462387085, 7.7005462646484375, 7.725094318389893, 7.1860809326171875, 7.126816749572754, 7.741631984710693, 7.015724182128906, 6.990043640136719, 7.8628621101379395, 7.785706520080566, 6.997002601623535, 6.983810901641846, 7.54928731918335, 7.16849422454834, 7.812752723693848, 7.656671047210693, 7.728121280670166, 7.8063507080078125]}, {\"hoverlabel\": {\"namelength\": 0}, \"hovertemplate\": \"class=forearm_tattoos<br>component_1=%{x}<br>component_2=%{y}<br>component_3=%{z}\", \"legendgroup\": \"class=forearm_tattoos\", \"marker\": {\"color\": \"#FF97FF\", \"size\": 3, \"symbol\": \"circle\"}, \"mode\": \"markers\", \"name\": \"class=forearm_tattoos\", \"scene\": \"scene\", \"showlegend\": true, \"type\": \"scatter3d\", \"x\": [1.6469806432724, 1.955673336982727, 1.999739408493042, 1.8296936750411987, 1.9884178638458252, 1.9648680686950684, 2.096522808074951, 2.1173930168151855, 2.178210496902466, 1.7924001216888428, 1.9236152172088623, 2.029294013977051, 1.6289923191070557, 2.062664747238159, 1.9757237434387207, 1.8602792024612427, 1.925025463104248, 2.049459218978882, 3.9052014350891113, 1.7096750736236572, 3.521616220474243, 1.859499454498291, 4.008548736572266, 1.821364402770996, 1.8453336954116821, 2.0081560611724854, 2.0638320446014404, 2.02875018119812, 1.9525915384292603, 2.0110576152801514, 2.1542952060699463, 2.108062267303467, 2.0661990642547607, 3.9435348510742188, 1.7746509313583374, 1.728029727935791, 1.816399335861206, 2.098069190979004, 1.7704322338104248, 1.9537920951843262, 1.7599736452102661, 2.069577217102051, 1.8659518957138062, 2.01457142829895, 1.6390380859375, 2.187108278274536, 1.7112808227539062, 1.6838138103485107, 1.9911184310913086, 1.5756958723068237, 2.0747437477111816, 1.9470974206924438, 1.849181890487671, 1.6468744277954102, 2.0142853260040283, 1.64260995388031, 1.7548531293869019, 1.8454688787460327, 3.272285223007202, 2.0101571083068848, 1.9792484045028687, 2.0682334899902344, 1.7133303880691528, 2.158294677734375, 1.7521382570266724, 1.9091465473175049, 1.9591535329818726, 2.043778896331787, 1.7216033935546875, 1.9279135465621948, 1.6660915613174438, 1.6345356702804565, 1.726088047027588, 1.832021951675415, 1.8475730419158936], \"y\": [5.14157247543335, 5.188473224639893, 6.195123672485352, 5.20872688293457, 5.379356384277344, 6.060197353363037, 5.207126617431641, 5.146918773651123, 5.575588226318359, 6.065577507019043, 5.774631977081299, 5.2946600914001465, 5.107638359069824, 5.769774436950684, 5.603933334350586, 5.203564643859863, 5.260828971862793, 5.529013156890869, 10.702923774719238, 5.522937297821045, 10.829885482788086, 5.736179351806641, 10.633316040039062, 5.177315711975098, 5.708204746246338, 6.09437894821167, 5.552369594573975, 5.371465682983398, 6.122816562652588, 6.1264729499816895, 4.97713041305542, 5.354018211364746, 5.441121578216553, 10.7212495803833, 5.999639511108398, 5.163848876953125, 5.223485469818115, 5.684107780456543, 5.975472927093506, 5.546453952789307, 5.449741840362549, 5.235439300537109, 6.066413402557373, 6.011538982391357, 5.657794952392578, 5.461441516876221, 5.277632236480713, 5.964019775390625, 5.224462509155273, 5.26248025894165, 5.727818012237549, 5.3567657470703125, 5.541090488433838, 5.229924201965332, 6.049564838409424, 5.243137359619141, 5.676966667175293, 5.200954914093018, 11.836679458618164, 5.317098617553711, 6.154603481292725, 5.224806308746338, 5.117710113525391, 6.096644401550293, 5.605300426483154, 5.468522071838379, 5.460095405578613, 5.239790916442871, 5.771641731262207, 5.339010238647461, 5.888553619384766, 5.411134243011475, 6.0300798416137695, 5.282604217529297, 5.28654670715332], \"z\": [3.729978084564209, 3.4845712184906006, 3.496567964553833, 3.6542413234710693, 3.5809435844421387, 3.604764699935913, 4.1237969398498535, 3.625192165374756, 3.3140063285827637, 3.6458773612976074, 4.020647048950195, 4.006584644317627, 3.8194620609283447, 3.627474784851074, 4.0377607345581055, 3.5661911964416504, 3.138444662094116, 4.10078239440918, 2.3152387142181396, 3.879746198654175, 1.8175654411315918, 3.9372384548187256, 2.1181893348693848, 3.98586368560791, 3.2936251163482666, 3.5946648120880127, 4.101096153259277, 4.094544410705566, 3.6365578174591064, 3.457893133163452, 4.047852993011475, 3.473881244659424, 3.1805620193481445, 1.833096981048584, 3.566787004470825, 3.878972291946411, 3.837345600128174, 4.08755350112915, 3.743382215499878, 3.9968864917755127, 4.010037899017334, 3.6162161827087402, 3.6729891300201416, 3.8233251571655273, 3.5642824172973633, 3.2787675857543945, 3.800783157348633, 3.6985790729522705, 3.8249716758728027, 3.926483154296875, 4.084442615509033, 3.8512346744537354, 4.126070976257324, 3.7231152057647705, 3.4290432929992676, 3.825331926345825, 3.4786758422851562, 3.337998867034912, 2.894012212753296, 3.507706880569458, 3.5289289951324463, 4.053330898284912, 3.759416103363037, 3.62355637550354, 3.9315624237060547, 3.7564303874969482, 3.2017102241516113, 3.7920472621917725, 3.8136112689971924, 4.007096767425537, 3.7770445346832275, 3.580911159515381, 3.704442262649536, 3.5715324878692627, 3.5262563228607178]}, {\"hoverlabel\": {\"namelength\": 0}, \"hovertemplate\": \"class=starbucks_drinks<br>component_1=%{x}<br>component_2=%{y}<br>component_3=%{z}\", \"legendgroup\": \"class=starbucks_drinks\", \"marker\": {\"color\": \"#FECB52\", \"size\": 3, \"symbol\": \"circle\"}, \"mode\": \"markers\", \"name\": \"class=starbucks_drinks\", \"scene\": \"scene\", \"showlegend\": true, \"type\": \"scatter3d\", \"x\": [0.314143568277359, 0.37210166454315186, 0.7460422515869141, 0.2505172789096832, 0.7594297528266907, 0.2873497009277344, 0.3039350211620331, 0.4407643973827362, 0.25935935974121094, 0.5921192765235901, 0.7130295634269714, 0.4108385443687439, 0.2828678786754608, 0.7292172312736511, 0.4628232717514038, 0.7395688891410828, 0.29864805936813354, 0.43715065717697144, 0.6303388476371765, 0.2657577097415924, 0.6238619685173035, 0.4223298728466034, 1.9362319707870483, 0.4460785686969757, 0.4962005019187927, 0.636681854724884, 0.6283277273178101, 0.3464609682559967, 0.229568749666214, 0.6367846131324768, 0.4884606897830963, 0.4834533631801605, 0.9045997858047485, 0.36517956852912903, 0.3843477964401245, 0.3361760675907135, 0.6562639474868774, 0.5639503598213196, 0.29862180352211, 0.36327603459358215, 0.6125360131263733, 0.35339853167533875, 0.4661272466182709, 0.5403019785881042, 0.46689262986183167, 0.5618029832839966, 0.24083156883716583, 0.4123116731643677, 0.417561411857605, 0.28215497732162476, 0.3574630320072174, 3.5743980407714844, 0.43849146366119385, 0.6421481370925903, 0.30597350001335144, 0.8711714744567871, 0.5518627166748047, 0.7475919127464294, 0.3154837191104889, 0.6283022165298462, 0.35983115434646606, 0.5447815656661987, 0.48457425832748413, 2.0866522789001465, 0.5026257038116455, 0.3214142322540283, 0.5743483304977417, 0.2750765383243561, 0.38195645809173584, 0.3441696763038635, 0.351604163646698, 0.5082383751869202, 0.7449612021446228, 0.691839873790741], \"y\": [8.311196327209473, 8.36739444732666, 8.261590003967285, 7.966329097747803, 9.440235137939453, 8.507478713989258, 8.369711875915527, 8.05296802520752, 8.583656311035156, 9.193016052246094, 7.927283763885498, 8.127900123596191, 8.712931632995605, 8.593310356140137, 9.054112434387207, 7.485556602478027, 8.312080383300781, 8.352322578430176, 8.693448066711426, 8.685060501098633, 9.017738342285156, 7.9410810470581055, 12.013177871704102, 7.942699909210205, 7.928427696228027, 9.304222106933594, 8.522997856140137, 8.316145896911621, 8.424598693847656, 7.603163719177246, 7.950874328613281, 7.90685510635376, 10.21142292022705, 8.073040008544922, 7.9242424964904785, 8.379976272583008, 7.832104682922363, 9.35854434967041, 8.091257095336914, 8.210331916809082, 9.257340431213379, 8.853676795959473, 8.91159439086914, 9.270707130432129, 8.791451454162598, 7.960161209106445, 8.541288375854492, 8.849557876586914, 8.742951393127441, 8.173365592956543, 8.41589069366455, 11.751203536987305, 7.952495098114014, 8.644869804382324, 8.350178718566895, 8.767295837402344, 8.140491485595703, 9.394293785095215, 8.323928833007812, 8.087728500366211, 8.068778038024902, 8.207947731018066, 8.33407974243164, 11.584199905395508, 8.870810508728027, 8.043266296386719, 7.904653072357178, 8.078750610351562, 8.181296348571777, 8.634819030761719, 8.198098182678223, 8.819345474243164, 9.63314437866211, 8.2642822265625], \"z\": [4.758261680603027, 4.8146071434021, 5.134189605712891, 5.005125522613525, 5.330257892608643, 5.207925796508789, 5.238616943359375, 5.169626712799072, 5.145370006561279, 5.284246444702148, 5.292176723480225, 5.12530517578125, 5.266988277435303, 5.272378444671631, 5.4841485023498535, 4.68219518661499, 5.201242923736572, 5.002597332000732, 5.275292873382568, 5.176867485046387, 5.237648010253906, 5.188333511352539, 1.4369851350784302, 5.315824508666992, 4.931649684906006, 5.364144325256348, 5.103784084320068, 5.196033954620361, 5.2599005699157715, 4.734206676483154, 5.329299449920654, 4.898040294647217, 5.900780200958252, 5.075000762939453, 4.936986923217773, 5.375653266906738, 5.218029499053955, 5.504123210906982, 5.3054046630859375, 5.456614971160889, 5.334155559539795, 5.431501865386963, 5.210808753967285, 5.5382537841796875, 5.428900718688965, 4.95935583114624, 5.042998313903809, 5.316680431365967, 5.251077175140381, 5.31266975402832, 4.760509490966797, 2.642723798751831, 4.933873653411865, 5.242569446563721, 4.762168884277344, 5.347260475158691, 4.969644069671631, 5.379884719848633, 4.955033779144287, 5.202061653137207, 5.022493839263916, 5.11698055267334, 5.029595851898193, 1.5613224506378174, 5.26506233215332, 5.166543006896973, 5.227859020233154, 5.043079853057861, 5.402978420257568, 5.223587512969971, 5.456558704376221, 5.234162330627441, 5.3334527015686035, 5.203738212585449]}, {\"hoverlabel\": {\"namelength\": 0}, \"hovertemplate\": \"class=interior_design<br>component_1=%{x}<br>component_2=%{y}<br>component_3=%{z}\", \"legendgroup\": \"class=interior_design\", \"marker\": {\"color\": \"#636efa\", \"size\": 3, \"symbol\": \"circle\"}, \"mode\": \"markers\", \"name\": \"class=interior_design\", \"scene\": \"scene\", \"showlegend\": true, \"type\": \"scatter3d\", \"x\": [10.260068893432617, 10.340017318725586, 10.679275512695312, 11.000308990478516, 10.269371032714844, 10.737353324890137, 10.67577838897705, 10.416147232055664, 10.058686256408691, 10.246438026428223, 11.07900619506836, 10.5148286819458, 11.668334007263184, 10.586650848388672, 10.088848114013672, 10.339555740356445, 10.58025074005127, 10.019990921020508, 10.777596473693848, 10.449726104736328, 10.976452827453613, 10.235240936279297, 10.081600189208984, 10.787982940673828, 9.983492851257324, 10.465901374816895, 10.50813102722168, 10.924396514892578, 10.554134368896484, 10.323735237121582, 10.517828941345215, 10.092341423034668, 9.869593620300293, 10.103243827819824, 10.936057090759277, 10.009475708007812, 11.635513305664062, 10.759917259216309, 10.607830047607422, 10.42330551147461, 10.391583442687988, 10.255156517028809, 10.117755889892578, 10.332609176635742, 10.931005477905273, 10.53194808959961, 10.19710636138916, 10.096307754516602, 10.701462745666504, 10.913573265075684, 10.256012916564941, 10.28192138671875, 10.303229331970215, 10.208351135253906, 10.090570449829102, 10.914666175842285, 10.835103034973145, 10.0665922164917, 11.057109832763672, 10.182467460632324, 10.657102584838867, 9.89997386932373, 10.40546989440918, 10.295391082763672, 10.438701629638672, 11.218403816223145, 9.963373184204102, 10.572850227355957, 10.972817420959473, 10.485529899597168, 10.240484237670898, 10.088464736938477, 10.106613159179688, 10.389534950256348, 10.177213668823242], \"y\": [10.725520133972168, 10.830634117126465, 11.259516716003418, 10.430909156799316, 10.617706298828125, 11.052666664123535, 10.567465782165527, 10.948766708374023, 10.34664535522461, 11.125322341918945, 11.101680755615234, 10.803567886352539, 10.632099151611328, 10.775178909301758, 10.214866638183594, 10.870943069458008, 10.58006763458252, 10.430153846740723, 10.608519554138184, 10.878576278686523, 10.489883422851562, 10.713971138000488, 10.750736236572266, 10.751791954040527, 10.769176483154297, 11.243804931640625, 10.449028015136719, 10.348628997802734, 10.748117446899414, 10.640353202819824, 10.770252227783203, 10.410966873168945, 10.69204330444336, 10.623618125915527, 10.458292961120605, 10.511270523071289, 10.755966186523438, 10.791884422302246, 10.859920501708984, 10.960899353027344, 11.293577194213867, 11.02098560333252, 10.687664985656738, 10.87139892578125, 10.658262252807617, 10.899334907531738, 10.771470069885254, 10.279179573059082, 10.98725414276123, 10.374977111816406, 10.832621574401855, 10.909442901611328, 10.959053993225098, 10.664483070373535, 10.833399772644043, 10.639607429504395, 10.402152061462402, 10.4215726852417, 10.720758438110352, 10.807902336120605, 10.714553833007812, 10.596267700195312, 10.699901580810547, 10.805323600769043, 11.195540428161621, 10.942620277404785, 10.521224975585938, 10.665013313293457, 10.585065841674805, 11.226773262023926, 10.96219539642334, 10.241668701171875, 10.602595329284668, 10.791633605957031, 10.98505973815918], \"z\": [6.891285419464111, 6.808253765106201, 7.380455493927002, 6.88002872467041, 7.39639949798584, 7.770995616912842, 7.790936470031738, 7.751023292541504, 7.125602722167969, 6.902716159820557, 7.063869953155518, 7.625504493713379, 7.643078804016113, 7.863950252532959, 7.152496337890625, 6.810708045959473, 6.797258377075195, 7.107936859130859, 7.786707878112793, 6.753628253936768, 7.313345432281494, 7.227128028869629, 7.3523359298706055, 6.921956539154053, 7.379003047943115, 6.870077133178711, 6.840218544006348, 6.805949687957764, 7.079170227050781, 6.941408157348633, 6.808193683624268, 7.036789417266846, 7.447523593902588, 7.393622875213623, 7.908629894256592, 7.169384479522705, 7.593967437744141, 7.782191276550293, 7.1780104637146, 7.310127258300781, 7.135787010192871, 7.277089595794678, 7.301304340362549, 6.840170383453369, 7.859283447265625, 7.018423557281494, 7.376862049102783, 6.989886283874512, 6.93501615524292, 6.878605365753174, 7.17949914932251, 7.7498555183410645, 7.566930770874023, 7.038544654846191, 7.019667625427246, 7.072933673858643, 6.7360992431640625, 7.2369160652160645, 7.093899726867676, 7.41482400894165, 6.775671482086182, 7.330433368682861, 7.034966468811035, 6.94669771194458, 6.883409023284912, 7.105559349060059, 7.281716823577881, 6.898282527923584, 7.830555438995361, 6.8996171951293945, 7.402846813201904, 7.115967273712158, 7.076479911804199, 6.850033283233643, 7.092533588409424]}, {\"hoverlabel\": {\"namelength\": 0}, \"hovertemplate\": \"class=tattoo_sketches<br>component_1=%{x}<br>component_2=%{y}<br>component_3=%{z}\", \"legendgroup\": \"class=tattoo_sketches\", \"marker\": {\"color\": \"#EF553B\", \"size\": 3, \"symbol\": \"circle\"}, \"mode\": \"markers\", \"name\": \"class=tattoo_sketches\", \"scene\": \"scene\", \"showlegend\": true, \"type\": \"scatter3d\", \"x\": [3.912027597427368, 3.278211832046509, 3.261335849761963, 3.262326955795288, 3.6545462608337402, 3.9161903858184814, 3.6314477920532227, 3.964622735977173, 3.1401052474975586, 2.947343111038208, 1.7874901294708252, 3.5409293174743652, 3.637359380722046, 3.5658507347106934, 3.2478976249694824, 2.789288282394409, 4.005399703979492, 1.9508607387542725, 3.437239408493042, 3.5765767097473145, 1.8201298713684082, 3.6985485553741455, 3.811260461807251, 3.2807369232177734, 2.995669364929199, 3.8372764587402344, 2.9035017490386963, 2.5311038494110107, 3.522969961166382, 2.3716704845428467, 2.7758703231811523, 3.401557683944702, 3.094489097595215, 3.101710557937622, 1.6575322151184082, 2.1245534420013428, 3.0081450939178467, 3.688406467437744, 3.827374219894409, 3.809499502182007, 3.6456596851348877, 3.7756330966949463, 3.057105302810669, 2.755628824234009, 3.5116124153137207, 3.9082818031311035, 3.5116186141967773, 3.090894937515259, 3.5250236988067627, 3.9202206134796143, 3.054914712905884, 3.9843990802764893, 3.553095579147339, 3.08089542388916, 3.253382682800293, 4.031435489654541, 3.6311473846435547, 3.5575411319732666, 3.572248935699463, 3.7849340438842773, 3.1458210945129395, 4.015746116638184, 2.050848960876465, 3.8011298179626465, 3.1334328651428223, 3.130342483520508, 3.806490421295166, 2.7508294582366943, 3.227163791656494, 3.2334070205688477, 3.533482313156128, 3.3017938137054443, 3.539308786392212, 3.5883681774139404, 3.29380202293396], \"y\": [11.149843215942383, 11.837257385253906, 10.836042404174805, 10.49714183807373, 11.32320785522461, 11.579825401306152, 11.357502937316895, 10.850414276123047, 10.796911239624023, 11.047749519348145, 5.3292555809021, 11.281329154968262, 11.199629783630371, 11.344352722167969, 11.324546813964844, 12.016764640808105, 10.767948150634766, 5.4338459968566895, 11.502426147460938, 10.539026260375977, 5.618210315704346, 11.727864265441895, 11.531113624572754, 11.172197341918945, 11.574556350708008, 10.741660118103027, 11.341819763183594, 12.718757629394531, 10.477778434753418, 11.331583976745605, 11.503826141357422, 10.713996887207031, 11.06180477142334, 11.895356178283691, 5.927546977996826, 6.2488884925842285, 11.25750732421875, 11.357280731201172, 11.62606143951416, 10.979364395141602, 11.236539840698242, 11.437249183654785, 11.604364395141602, 10.98064136505127, 10.525215148925781, 10.94137954711914, 11.670600891113281, 12.004864692687988, 10.636786460876465, 11.25476360321045, 11.593684196472168, 10.688863754272461, 10.96919059753418, 10.762741088867188, 10.450791358947754, 10.621649742126465, 11.42481803894043, 11.655638694763184, 10.608718872070312, 11.751983642578125, 11.61237907409668, 10.667831420898438, 6.440386772155762, 11.296367645263672, 11.864765167236328, 11.375832557678223, 10.812508583068848, 11.043542861938477, 11.695343017578125, 11.183952331542969, 10.494832992553711, 10.89668083190918, 11.9743070602417, 11.804643630981445, 11.063862800598145], \"z\": [2.4362268447875977, 2.5212395191192627, 2.8895580768585205, 2.5126514434814453, 2.1249895095825195, 1.8172128200531006, 0.5931592583656311, 2.359097957611084, 2.5363786220550537, 2.259531259536743, 3.8852696418762207, 0.6265224814414978, 2.1466100215911865, 0.5873462557792664, 2.81209659576416, 0.6882393956184387, 2.3468141555786133, 3.0510168075561523, 0.5098118782043457, 2.5789144039154053, 3.7650017738342285, 0.609563946723938, 2.858130931854248, 1.969384789466858, 1.653196096420288, 2.2370645999908447, 1.886971354484558, 0.9091180562973022, 2.561660051345825, 1.7524070739746094, 2.411060094833374, 2.558441638946533, 1.9688934087753296, 3.2796072959899902, 3.8657236099243164, 3.5837812423706055, 2.3260786533355713, 0.7222909331321716, 1.0918976068496704, 2.4465534687042236, 1.6090099811553955, 1.9701298475265503, 3.6202495098114014, 2.140009880065918, 2.564868927001953, 2.4821877479553223, 3.0951201915740967, 3.1175289154052734, 2.4499621391296387, 2.6374568939208984, 2.8030107021331787, 2.1329030990600586, 2.740233898162842, 2.4908480644226074, 2.571556568145752, 2.2188262939453125, 0.5901532173156738, 0.5554381608963013, 2.6745378971099854, 1.285546064376831, 3.4428634643554688, 2.2208163738250732, 3.4784324169158936, 2.120460033416748, 1.957912564277649, 0.9265930652618408, 2.411288022994995, 2.1834371089935303, 2.4304957389831543, 1.801784634590149, 2.538226366043091, 2.484710216522217, 1.0038892030715942, 0.8752861618995667, 2.774587869644165]}],\n",
              "                        {\"height\": 780, \"legend\": {\"tracegroupgap\": 0}, \"margin\": {\"b\": 20, \"l\": 20, \"r\": 20, \"t\": 20}, \"scene\": {\"domain\": {\"x\": [0.0, 1.0], \"y\": [0.0, 1.0]}, \"xaxis\": {\"title\": {\"text\": \"component_1\"}}, \"yaxis\": {\"title\": {\"text\": \"component_2\"}}, \"zaxis\": {\"title\": {\"text\": \"component_3\"}}}, \"template\": {\"data\": {\"bar\": [{\"error_x\": {\"color\": \"#2a3f5f\"}, \"error_y\": {\"color\": \"#2a3f5f\"}, \"marker\": {\"line\": {\"color\": \"#E5ECF6\", \"width\": 0.5}}, \"type\": \"bar\"}], \"barpolar\": [{\"marker\": {\"line\": {\"color\": \"#E5ECF6\", \"width\": 0.5}}, \"type\": \"barpolar\"}], \"carpet\": [{\"aaxis\": {\"endlinecolor\": \"#2a3f5f\", \"gridcolor\": \"white\", \"linecolor\": \"white\", \"minorgridcolor\": \"white\", \"startlinecolor\": \"#2a3f5f\"}, \"baxis\": {\"endlinecolor\": \"#2a3f5f\", \"gridcolor\": \"white\", \"linecolor\": \"white\", \"minorgridcolor\": \"white\", \"startlinecolor\": \"#2a3f5f\"}, \"type\": \"carpet\"}], \"choropleth\": [{\"colorbar\": {\"outlinewidth\": 0, \"ticks\": \"\"}, \"type\": \"choropleth\"}], \"contour\": [{\"colorbar\": {\"outlinewidth\": 0, \"ticks\": \"\"}, \"colorscale\": [[0.0, \"#0d0887\"], [0.1111111111111111, \"#46039f\"], [0.2222222222222222, \"#7201a8\"], [0.3333333333333333, \"#9c179e\"], [0.4444444444444444, \"#bd3786\"], [0.5555555555555556, \"#d8576b\"], [0.6666666666666666, \"#ed7953\"], [0.7777777777777778, \"#fb9f3a\"], [0.8888888888888888, \"#fdca26\"], [1.0, \"#f0f921\"]], \"type\": \"contour\"}], \"contourcarpet\": [{\"colorbar\": {\"outlinewidth\": 0, \"ticks\": \"\"}, \"type\": \"contourcarpet\"}], \"heatmap\": [{\"colorbar\": {\"outlinewidth\": 0, \"ticks\": \"\"}, \"colorscale\": [[0.0, \"#0d0887\"], [0.1111111111111111, \"#46039f\"], [0.2222222222222222, \"#7201a8\"], [0.3333333333333333, \"#9c179e\"], [0.4444444444444444, \"#bd3786\"], [0.5555555555555556, \"#d8576b\"], [0.6666666666666666, \"#ed7953\"], [0.7777777777777778, \"#fb9f3a\"], [0.8888888888888888, \"#fdca26\"], [1.0, \"#f0f921\"]], \"type\": \"heatmap\"}], \"heatmapgl\": [{\"colorbar\": {\"outlinewidth\": 0, \"ticks\": \"\"}, \"colorscale\": [[0.0, \"#0d0887\"], [0.1111111111111111, \"#46039f\"], [0.2222222222222222, \"#7201a8\"], [0.3333333333333333, \"#9c179e\"], [0.4444444444444444, \"#bd3786\"], [0.5555555555555556, \"#d8576b\"], [0.6666666666666666, \"#ed7953\"], [0.7777777777777778, \"#fb9f3a\"], [0.8888888888888888, \"#fdca26\"], [1.0, \"#f0f921\"]], \"type\": \"heatmapgl\"}], \"histogram\": [{\"marker\": {\"colorbar\": {\"outlinewidth\": 0, \"ticks\": \"\"}}, \"type\": \"histogram\"}], \"histogram2d\": [{\"colorbar\": {\"outlinewidth\": 0, \"ticks\": \"\"}, \"colorscale\": [[0.0, \"#0d0887\"], [0.1111111111111111, \"#46039f\"], [0.2222222222222222, \"#7201a8\"], [0.3333333333333333, \"#9c179e\"], [0.4444444444444444, \"#bd3786\"], [0.5555555555555556, \"#d8576b\"], [0.6666666666666666, \"#ed7953\"], [0.7777777777777778, \"#fb9f3a\"], [0.8888888888888888, \"#fdca26\"], [1.0, \"#f0f921\"]], \"type\": \"histogram2d\"}], \"histogram2dcontour\": [{\"colorbar\": {\"outlinewidth\": 0, \"ticks\": \"\"}, \"colorscale\": [[0.0, \"#0d0887\"], [0.1111111111111111, \"#46039f\"], [0.2222222222222222, \"#7201a8\"], [0.3333333333333333, \"#9c179e\"], [0.4444444444444444, \"#bd3786\"], [0.5555555555555556, \"#d8576b\"], [0.6666666666666666, \"#ed7953\"], [0.7777777777777778, \"#fb9f3a\"], [0.8888888888888888, \"#fdca26\"], [1.0, \"#f0f921\"]], \"type\": \"histogram2dcontour\"}], \"mesh3d\": [{\"colorbar\": {\"outlinewidth\": 0, \"ticks\": \"\"}, \"type\": \"mesh3d\"}], \"parcoords\": [{\"line\": {\"colorbar\": {\"outlinewidth\": 0, \"ticks\": \"\"}}, \"type\": \"parcoords\"}], \"pie\": [{\"automargin\": true, \"type\": \"pie\"}], \"scatter\": [{\"marker\": {\"colorbar\": {\"outlinewidth\": 0, \"ticks\": \"\"}}, \"type\": \"scatter\"}], \"scatter3d\": [{\"line\": {\"colorbar\": {\"outlinewidth\": 0, \"ticks\": \"\"}}, \"marker\": {\"colorbar\": {\"outlinewidth\": 0, \"ticks\": \"\"}}, \"type\": \"scatter3d\"}], \"scattercarpet\": [{\"marker\": {\"colorbar\": {\"outlinewidth\": 0, \"ticks\": \"\"}}, \"type\": \"scattercarpet\"}], \"scattergeo\": [{\"marker\": {\"colorbar\": {\"outlinewidth\": 0, \"ticks\": \"\"}}, \"type\": \"scattergeo\"}], \"scattergl\": [{\"marker\": {\"colorbar\": {\"outlinewidth\": 0, \"ticks\": \"\"}}, \"type\": \"scattergl\"}], \"scattermapbox\": [{\"marker\": {\"colorbar\": {\"outlinewidth\": 0, \"ticks\": \"\"}}, \"type\": \"scattermapbox\"}], \"scatterpolar\": [{\"marker\": {\"colorbar\": {\"outlinewidth\": 0, \"ticks\": \"\"}}, \"type\": \"scatterpolar\"}], \"scatterpolargl\": [{\"marker\": {\"colorbar\": {\"outlinewidth\": 0, \"ticks\": \"\"}}, \"type\": \"scatterpolargl\"}], \"scatterternary\": [{\"marker\": {\"colorbar\": {\"outlinewidth\": 0, \"ticks\": \"\"}}, \"type\": \"scatterternary\"}], \"surface\": [{\"colorbar\": {\"outlinewidth\": 0, \"ticks\": \"\"}, \"colorscale\": [[0.0, \"#0d0887\"], [0.1111111111111111, \"#46039f\"], [0.2222222222222222, \"#7201a8\"], [0.3333333333333333, \"#9c179e\"], [0.4444444444444444, \"#bd3786\"], [0.5555555555555556, \"#d8576b\"], [0.6666666666666666, \"#ed7953\"], [0.7777777777777778, \"#fb9f3a\"], [0.8888888888888888, \"#fdca26\"], [1.0, \"#f0f921\"]], \"type\": \"surface\"}], \"table\": [{\"cells\": {\"fill\": {\"color\": \"#EBF0F8\"}, \"line\": {\"color\": \"white\"}}, \"header\": {\"fill\": {\"color\": \"#C8D4E3\"}, \"line\": {\"color\": \"white\"}}, \"type\": \"table\"}]}, \"layout\": {\"annotationdefaults\": {\"arrowcolor\": \"#2a3f5f\", \"arrowhead\": 0, \"arrowwidth\": 1}, \"coloraxis\": {\"colorbar\": {\"outlinewidth\": 0, \"ticks\": \"\"}}, \"colorscale\": {\"diverging\": [[0, \"#8e0152\"], [0.1, \"#c51b7d\"], [0.2, \"#de77ae\"], [0.3, \"#f1b6da\"], [0.4, \"#fde0ef\"], [0.5, \"#f7f7f7\"], [0.6, \"#e6f5d0\"], [0.7, \"#b8e186\"], [0.8, \"#7fbc41\"], [0.9, \"#4d9221\"], [1, \"#276419\"]], \"sequential\": [[0.0, \"#0d0887\"], [0.1111111111111111, \"#46039f\"], [0.2222222222222222, \"#7201a8\"], [0.3333333333333333, \"#9c179e\"], [0.4444444444444444, \"#bd3786\"], [0.5555555555555556, \"#d8576b\"], [0.6666666666666666, \"#ed7953\"], [0.7777777777777778, \"#fb9f3a\"], [0.8888888888888888, \"#fdca26\"], [1.0, \"#f0f921\"]], \"sequentialminus\": [[0.0, \"#0d0887\"], [0.1111111111111111, \"#46039f\"], [0.2222222222222222, \"#7201a8\"], [0.3333333333333333, \"#9c179e\"], [0.4444444444444444, \"#bd3786\"], [0.5555555555555556, \"#d8576b\"], [0.6666666666666666, \"#ed7953\"], [0.7777777777777778, \"#fb9f3a\"], [0.8888888888888888, \"#fdca26\"], [1.0, \"#f0f921\"]]}, \"colorway\": [\"#636efa\", \"#EF553B\", \"#00cc96\", \"#ab63fa\", \"#FFA15A\", \"#19d3f3\", \"#FF6692\", \"#B6E880\", \"#FF97FF\", \"#FECB52\"], \"font\": {\"color\": \"#2a3f5f\"}, \"geo\": {\"bgcolor\": \"white\", \"lakecolor\": \"white\", \"landcolor\": \"#E5ECF6\", \"showlakes\": true, \"showland\": true, \"subunitcolor\": \"white\"}, \"hoverlabel\": {\"align\": \"left\"}, \"hovermode\": \"closest\", \"mapbox\": {\"style\": \"light\"}, \"paper_bgcolor\": \"white\", \"plot_bgcolor\": \"#E5ECF6\", \"polar\": {\"angularaxis\": {\"gridcolor\": \"white\", \"linecolor\": \"white\", \"ticks\": \"\"}, \"bgcolor\": \"#E5ECF6\", \"radialaxis\": {\"gridcolor\": \"white\", \"linecolor\": \"white\", \"ticks\": \"\"}}, \"scene\": {\"xaxis\": {\"backgroundcolor\": \"#E5ECF6\", \"gridcolor\": \"white\", \"gridwidth\": 2, \"linecolor\": \"white\", \"showbackground\": true, \"ticks\": \"\", \"zerolinecolor\": \"white\"}, \"yaxis\": {\"backgroundcolor\": \"#E5ECF6\", \"gridcolor\": \"white\", \"gridwidth\": 2, \"linecolor\": \"white\", \"showbackground\": true, \"ticks\": \"\", \"zerolinecolor\": \"white\"}, \"zaxis\": {\"backgroundcolor\": \"#E5ECF6\", \"gridcolor\": \"white\", \"gridwidth\": 2, \"linecolor\": \"white\", \"showbackground\": true, \"ticks\": \"\", \"zerolinecolor\": \"white\"}}, \"shapedefaults\": {\"line\": {\"color\": \"#2a3f5f\"}}, \"ternary\": {\"aaxis\": {\"gridcolor\": \"white\", \"linecolor\": \"white\", \"ticks\": \"\"}, \"baxis\": {\"gridcolor\": \"white\", \"linecolor\": \"white\", \"ticks\": \"\"}, \"bgcolor\": \"#E5ECF6\", \"caxis\": {\"gridcolor\": \"white\", \"linecolor\": \"white\", \"ticks\": \"\"}}, \"title\": {\"x\": 0.05}, \"xaxis\": {\"automargin\": true, \"gridcolor\": \"white\", \"linecolor\": \"white\", \"ticks\": \"\", \"title\": {\"standoff\": 15}, \"zerolinecolor\": \"white\", \"zerolinewidth\": 2}, \"yaxis\": {\"automargin\": true, \"gridcolor\": \"white\", \"linecolor\": \"white\", \"ticks\": \"\", \"title\": {\"standoff\": 15}, \"zerolinecolor\": \"white\", \"zerolinewidth\": 2}}}, \"width\": 1366},\n",
              "                        {\"responsive\": true}\n",
              "                    ).then(function(){\n",
              "                            \n",
              "var gd = document.getElementById('840cb342-f6ac-40d7-a9a0-0c2147438ed2');\n",
              "var x = new MutationObserver(function (mutations, observer) {{\n",
              "        var display = window.getComputedStyle(gd).display;\n",
              "        if (!display || display === 'none') {{\n",
              "            console.log([gd, 'removed!']);\n",
              "            Plotly.purge(gd);\n",
              "            observer.disconnect();\n",
              "        }}\n",
              "}});\n",
              "\n",
              "// Listen for the removal of the full notebook cells\n",
              "var notebookContainer = gd.closest('#notebook-container');\n",
              "if (notebookContainer) {{\n",
              "    x.observe(notebookContainer, {childList: true});\n",
              "}}\n",
              "\n",
              "// Listen for the clearing of the current output cell\n",
              "var outputEl = gd.closest('.output');\n",
              "if (outputEl) {{\n",
              "    x.observe(outputEl, {childList: true});\n",
              "}}\n",
              "\n",
              "                        })\n",
              "                };\n",
              "                \n",
              "            </script>\n",
              "        </div>\n",
              "</body>\n",
              "</html>"
            ]
          },
          "metadata": {
            "tags": []
          }
        }
      ]
    }
  ]
}