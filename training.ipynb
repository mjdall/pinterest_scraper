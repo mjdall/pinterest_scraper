{
  "nbformat": 4,
  "nbformat_minor": 0,
  "metadata": {
    "colab": {
      "name": "training.ipynb",
      "provenance": [],
      "collapsed_sections": [],
      "mount_file_id": "1br34xJAqM97TXA5P1DncH41v6H7Yu9SA",
      "authorship_tag": "ABX9TyMB3dalqT9m8O98Du9d1d1e",
      "include_colab_link": true
    },
    "kernelspec": {
      "display_name": "Python 3",
      "name": "python3"
    },
    "language_info": {
      "name": "python"
    }
  },
  "cells": [
    {
      "cell_type": "markdown",
      "metadata": {
        "id": "view-in-github",
        "colab_type": "text"
      },
      "source": [
        "<a href=\"https://colab.research.google.com/github/mjdall/pinterest_scraper/blob/master/training.ipynb\" target=\"_parent\"><img src=\"https://colab.research.google.com/assets/colab-badge.svg\" alt=\"Open In Colab\"/></a>"
      ]
    },
    {
      "cell_type": "code",
      "metadata": {
        "colab": {
          "base_uri": "https://localhost:8080/",
          "height": 86
        },
        "id": "8QghOTQMoMSF",
        "outputId": "442c061f-16b2-476e-8d4f-cb9465a42de6"
      },
      "source": [
        "\"\"\"\n",
        "efficient net paper - https://ai.googleblog.com/2019/05/efficientnet-improving-accuracy-and.html\n",
        "efficient net fine tuning - https://keras.io/examples/vision/image_classification_efficientnet_fine_tuning/\n",
        "efficient net implementation - https://github.com/qubvel/efficientnet\n",
        "transfer learning example - https://www.tensorflow.org/tutorials/images/transfer_learning\n",
        "classification head - https://machinelearningmastery.com/multi-class-classification-tutorial-keras-deep-learning-library/\n",
        "image embeddings - https://rom1504.medium.com/image-embeddings-ed1b194d113e\n",
        "  https://github.com/rom1504/image_embeddings/blob/master/notebooks/using_the_lib.ipynb\n",
        "  https://github.com/rom1504/image_embeddings/blob/master/notebooks/from_scratch.ipynb\n",
        "\n",
        "\"\"\""
      ],
      "execution_count": null,
      "outputs": [
        {
          "output_type": "execute_result",
          "data": {
            "application/vnd.google.colaboratory.intrinsic+json": {
              "type": "string"
            },
            "text/plain": [
              "'\\nefficient net paper - https://ai.googleblog.com/2019/05/efficientnet-improving-accuracy-and.html\\nefficient net fine tuning - https://keras.io/examples/vision/image_classification_efficientnet_fine_tuning/\\nefficient net implementation - https://github.com/qubvel/efficientnet\\ntransfer learning example - https://www.tensorflow.org/tutorials/images/transfer_learning\\nclassification head - https://machinelearningmastery.com/multi-class-classification-tutorial-keras-deep-learning-library/\\nimage embeddings - https://rom1504.medium.com/image-embeddings-ed1b194d113e\\n  https://github.com/rom1504/image_embeddings/blob/master/notebooks/using_the_lib.ipynb\\n  https://github.com/rom1504/image_embeddings/blob/master/notebooks/from_scratch.ipynb\\n\\n'"
            ]
          },
          "metadata": {
            "tags": []
          },
          "execution_count": 1
        }
      ]
    },
    {
      "cell_type": "code",
      "metadata": {
        "id": "qHorrqPFwwi_"
      },
      "source": [
        "%load_ext autoreload\n",
        "%autoreload 2"
      ],
      "execution_count": null,
      "outputs": []
    },
    {
      "cell_type": "code",
      "metadata": {
        "id": "7IMcE6HYwyGq"
      },
      "source": [
        "import os\n",
        "\n",
        "os.chdir(\"/content/drive/MyDrive/pinterest_scraper/\")"
      ],
      "execution_count": null,
      "outputs": []
    },
    {
      "cell_type": "code",
      "metadata": {
        "colab": {
          "base_uri": "https://localhost:8080/",
          "height": 204
        },
        "id": "URUY7C3BxKFW",
        "outputId": "641776d4-3c6c-4c4a-ea88-f1bdc08992c3"
      },
      "source": [
        "import pandas as pd\n",
        "\n",
        "image_locs = pd.read_csv(\"data/image_reference.csv\")\n",
        "image_locs.sample(5)"
      ],
      "execution_count": null,
      "outputs": [
        {
          "output_type": "execute_result",
          "data": {
            "text/html": [
              "<div>\n",
              "<style scoped>\n",
              "    .dataframe tbody tr th:only-of-type {\n",
              "        vertical-align: middle;\n",
              "    }\n",
              "\n",
              "    .dataframe tbody tr th {\n",
              "        vertical-align: top;\n",
              "    }\n",
              "\n",
              "    .dataframe thead th {\n",
              "        text-align: right;\n",
              "    }\n",
              "</style>\n",
              "<table border=\"1\" class=\"dataframe\">\n",
              "  <thead>\n",
              "    <tr style=\"text-align: right;\">\n",
              "      <th></th>\n",
              "      <th>Unnamed: 0</th>\n",
              "      <th>label</th>\n",
              "      <th>file_location</th>\n",
              "      <th>group_id</th>\n",
              "    </tr>\n",
              "  </thead>\n",
              "  <tbody>\n",
              "    <tr>\n",
              "      <th>2429</th>\n",
              "      <td>2429</td>\n",
              "      <td>Interior design</td>\n",
              "      <td>data/interior_design/dd2bf83087a726ab0688bff58...</td>\n",
              "      <td>222</td>\n",
              "    </tr>\n",
              "    <tr>\n",
              "      <th>3692</th>\n",
              "      <td>3692</td>\n",
              "      <td>Modern farmhouse kitchens</td>\n",
              "      <td>data/modern_farmhouse_kitchens/417a110ef58acfc...</td>\n",
              "      <td>485</td>\n",
              "    </tr>\n",
              "    <tr>\n",
              "      <th>5171</th>\n",
              "      <td>5171</td>\n",
              "      <td>Tattoo sketches</td>\n",
              "      <td>data/tattoo_sketches/4b6b666ff14a0b0c38b627a94...</td>\n",
              "      <td>472</td>\n",
              "    </tr>\n",
              "    <tr>\n",
              "      <th>1265</th>\n",
              "      <td>1265</td>\n",
              "      <td>Food porn</td>\n",
              "      <td>data/food_porn/3eccb03a6be2b74d16b9e6489deadf8...</td>\n",
              "      <td>58</td>\n",
              "    </tr>\n",
              "    <tr>\n",
              "      <th>1264</th>\n",
              "      <td>1264</td>\n",
              "      <td>Food porn</td>\n",
              "      <td>data/food_porn/48903a8dca2da9d44b933ae71830b3e...</td>\n",
              "      <td>57</td>\n",
              "    </tr>\n",
              "  </tbody>\n",
              "</table>\n",
              "</div>"
            ],
            "text/plain": [
              "      Unnamed: 0  ... group_id\n",
              "2429        2429  ...      222\n",
              "3692        3692  ...      485\n",
              "5171        5171  ...      472\n",
              "1265        1265  ...       58\n",
              "1264        1264  ...       57\n",
              "\n",
              "[5 rows x 4 columns]"
            ]
          },
          "metadata": {
            "tags": []
          },
          "execution_count": 4
        }
      ]
    },
    {
      "cell_type": "code",
      "metadata": {
        "id": "3LoIyPr2zIxx"
      },
      "source": [
        "def get_group(group_id, training_ids, testing_ids):\n",
        "  if group_id in training_ids:\n",
        "    return(\"training\")\n",
        "  elif group_id in testing_ids:\n",
        "    return(\"testing\")\n",
        "  else:\n",
        "    return(\"validation\")"
      ],
      "execution_count": null,
      "outputs": []
    },
    {
      "cell_type": "code",
      "metadata": {
        "colab": {
          "base_uri": "https://localhost:8080/",
          "height": 419
        },
        "id": "3KwGXCzUxVQG",
        "outputId": "56263232-5c6c-42dd-8904-bbd512f43864"
      },
      "source": [
        "import math\n",
        "import numpy as np\n",
        "\n",
        "TRAINING_SIZE = .7\n",
        "\n",
        "available_labels = image_locs.label.unique().tolist()\n",
        "\n",
        "for label in available_labels:\n",
        "  label_subset = image_locs[image_locs.label == label]\n",
        "  group_ids = label_subset.group_id.reset_index(drop=True)\n",
        "\n",
        "  # get train/test/validation ids\n",
        "  training_ids = group_ids.sample(frac=TRAINING_SIZE)\n",
        "  remaining_ids = group_ids[~group_ids.isin(training_ids)]\n",
        "  testing_ids = remaining_ids.sample(frac=.5)\n",
        "\n",
        "  # make a lambda to apply\n",
        "  alloc_lmbda = lambda gid: get_group(gid, training_ids, testing_ids)\n",
        "\n",
        "  # write the split allocation to the df\n",
        "  image_locs.loc[label_subset.index, \"split\"] = label_subset.group_id.apply(alloc_lmbda)\n",
        "\n",
        "image_locs"
      ],
      "execution_count": null,
      "outputs": [
        {
          "output_type": "execute_result",
          "data": {
            "text/html": [
              "<div>\n",
              "<style scoped>\n",
              "    .dataframe tbody tr th:only-of-type {\n",
              "        vertical-align: middle;\n",
              "    }\n",
              "\n",
              "    .dataframe tbody tr th {\n",
              "        vertical-align: top;\n",
              "    }\n",
              "\n",
              "    .dataframe thead th {\n",
              "        text-align: right;\n",
              "    }\n",
              "</style>\n",
              "<table border=\"1\" class=\"dataframe\">\n",
              "  <thead>\n",
              "    <tr style=\"text-align: right;\">\n",
              "      <th></th>\n",
              "      <th>Unnamed: 0</th>\n",
              "      <th>label</th>\n",
              "      <th>file_location</th>\n",
              "      <th>group_id</th>\n",
              "      <th>split</th>\n",
              "    </tr>\n",
              "  </thead>\n",
              "  <tbody>\n",
              "    <tr>\n",
              "      <th>0</th>\n",
              "      <td>0</td>\n",
              "      <td>90s fashion men</td>\n",
              "      <td>data/90s_fashion_men/cfaf965d69f685d8e69956ba7...</td>\n",
              "      <td>0</td>\n",
              "      <td>training</td>\n",
              "    </tr>\n",
              "    <tr>\n",
              "      <th>1</th>\n",
              "      <td>1</td>\n",
              "      <td>90s fashion men</td>\n",
              "      <td>data/90s_fashion_men/fa6f7f62186191520d17ec3df...</td>\n",
              "      <td>1</td>\n",
              "      <td>training</td>\n",
              "    </tr>\n",
              "    <tr>\n",
              "      <th>2</th>\n",
              "      <td>2</td>\n",
              "      <td>90s fashion men</td>\n",
              "      <td>data/90s_fashion_men/d9cb8bce7608cf99e01f24c98...</td>\n",
              "      <td>2</td>\n",
              "      <td>training</td>\n",
              "    </tr>\n",
              "    <tr>\n",
              "      <th>3</th>\n",
              "      <td>3</td>\n",
              "      <td>90s fashion men</td>\n",
              "      <td>data/90s_fashion_men/680414f948622b0203c1b0056...</td>\n",
              "      <td>3</td>\n",
              "      <td>training</td>\n",
              "    </tr>\n",
              "    <tr>\n",
              "      <th>4</th>\n",
              "      <td>4</td>\n",
              "      <td>90s fashion men</td>\n",
              "      <td>data/90s_fashion_men/f0cba34dd73764ef7b9962527...</td>\n",
              "      <td>4</td>\n",
              "      <td>training</td>\n",
              "    </tr>\n",
              "    <tr>\n",
              "      <th>...</th>\n",
              "      <td>...</td>\n",
              "      <td>...</td>\n",
              "      <td>...</td>\n",
              "      <td>...</td>\n",
              "      <td>...</td>\n",
              "    </tr>\n",
              "    <tr>\n",
              "      <th>5694</th>\n",
              "      <td>5694</td>\n",
              "      <td>White aesthetic</td>\n",
              "      <td>data/white_aesthetic/448946d180a5f9d9df8cbcf76...</td>\n",
              "      <td>495</td>\n",
              "      <td>testing</td>\n",
              "    </tr>\n",
              "    <tr>\n",
              "      <th>5695</th>\n",
              "      <td>5695</td>\n",
              "      <td>White aesthetic</td>\n",
              "      <td>data/white_aesthetic/ea64d4023642884c808f6c7e7...</td>\n",
              "      <td>496</td>\n",
              "      <td>training</td>\n",
              "    </tr>\n",
              "    <tr>\n",
              "      <th>5696</th>\n",
              "      <td>5696</td>\n",
              "      <td>White aesthetic</td>\n",
              "      <td>data/white_aesthetic/79b0856002598d613564b80eb...</td>\n",
              "      <td>497</td>\n",
              "      <td>validation</td>\n",
              "    </tr>\n",
              "    <tr>\n",
              "      <th>5697</th>\n",
              "      <td>5697</td>\n",
              "      <td>White aesthetic</td>\n",
              "      <td>data/white_aesthetic/7f2ec49fdd6c5928ddad23a87...</td>\n",
              "      <td>498</td>\n",
              "      <td>training</td>\n",
              "    </tr>\n",
              "    <tr>\n",
              "      <th>5698</th>\n",
              "      <td>5698</td>\n",
              "      <td>White aesthetic</td>\n",
              "      <td>data/white_aesthetic/6a38593a68ffa179827b87348...</td>\n",
              "      <td>499</td>\n",
              "      <td>validation</td>\n",
              "    </tr>\n",
              "  </tbody>\n",
              "</table>\n",
              "<p>5699 rows × 5 columns</p>\n",
              "</div>"
            ],
            "text/plain": [
              "      Unnamed: 0            label  ... group_id       split\n",
              "0              0  90s fashion men  ...        0    training\n",
              "1              1  90s fashion men  ...        1    training\n",
              "2              2  90s fashion men  ...        2    training\n",
              "3              3  90s fashion men  ...        3    training\n",
              "4              4  90s fashion men  ...        4    training\n",
              "...          ...              ...  ...      ...         ...\n",
              "5694        5694  White aesthetic  ...      495     testing\n",
              "5695        5695  White aesthetic  ...      496    training\n",
              "5696        5696  White aesthetic  ...      497  validation\n",
              "5697        5697  White aesthetic  ...      498    training\n",
              "5698        5698  White aesthetic  ...      499  validation\n",
              "\n",
              "[5699 rows x 5 columns]"
            ]
          },
          "metadata": {
            "tags": []
          },
          "execution_count": 6
        }
      ]
    },
    {
      "cell_type": "code",
      "metadata": {
        "colab": {
          "base_uri": "https://localhost:8080/"
        },
        "id": "Wxj8CR1H0KKC",
        "outputId": "f41650e5-21f0-46d9-c13e-6d2d2b076c18"
      },
      "source": [
        "image_locs.groupby(\"label\").split.value_counts()"
      ],
      "execution_count": null,
      "outputs": [
        {
          "output_type": "execute_result",
          "data": {
            "text/plain": [
              "label                      split     \n",
              "90s fashion men            training      145\n",
              "                           testing        31\n",
              "                           validation     31\n",
              "Bullet journal             training      350\n",
              "                           testing        75\n",
              "                           validation     75\n",
              "Easy drawings              training      350\n",
              "                           testing        75\n",
              "                           validation     75\n",
              "Food porn                  training      350\n",
              "                           testing        75\n",
              "                           validation     75\n",
              "Forearm tattoos            training      350\n",
              "                           testing        75\n",
              "                           validation     75\n",
              "Interior design            training      350\n",
              "                           testing        75\n",
              "                           validation     75\n",
              "Mens clothing styles       training      350\n",
              "                           testing        75\n",
              "                           validation     75\n",
              "Modern farmhouse kitchens  training      350\n",
              "                           testing        75\n",
              "                           validation     75\n",
              "Simple doodles             training      350\n",
              "                           testing        75\n",
              "                           validation     75\n",
              "Starbucks drinks           training      344\n",
              "                           testing        74\n",
              "                           validation     74\n",
              "Tattoo sketches            training      350\n",
              "                           testing        75\n",
              "                           validation     75\n",
              "White aesthetic            training      350\n",
              "                           testing        75\n",
              "                           validation     75\n",
              "Name: split, dtype: int64"
            ]
          },
          "metadata": {
            "tags": []
          },
          "execution_count": 7
        }
      ]
    },
    {
      "cell_type": "code",
      "metadata": {
        "id": "IWFnvlGIft6T"
      },
      "source": [
        "import pathlib\n",
        "import shutil\n",
        "import re\n",
        "\n",
        "def get_save_directory_name(label):\n",
        "  return(re.sub(r\"\\s+\", \"_\" , label.lower()))\n",
        "\n",
        "get_file_directory = lambda file_location: str(pathlib.Path(file_location).parent) + \"/\"\n",
        "\n",
        "def partition_data(image_locations):\n",
        "  # get the label directory name\n",
        "  image_locations[\"label_dir\"] = image_locations.label.apply(\n",
        "      get_save_directory_name)\n",
        "  image_locations[\"filename\"] = image_locations.file_location.apply(\n",
        "      os.path.basename)\n",
        "  label_dirs = image_locations.label_dir.unique()\n",
        "\n",
        "  # remove current allocation of images and re-create the data directories\n",
        "  data_splits = image_locations.split.unique().tolist()\n",
        "  for split in data_splits:\n",
        "    split_dir = f\"data/{split}\"\n",
        "    if os.path.exists(split_dir):\n",
        "      shutil.rmtree(split_dir)\n",
        "    for label_dir in label_dirs:\n",
        "      os.makedirs(f\"{split_dir}/{label_dir}\", exist_ok=True)\n",
        "\n",
        "\n",
        "  # get the new path of the image\n",
        "  image_locations[\"new_location\"] = (\"data/\"\n",
        "    + image_locations.split\n",
        "    + \"/\"\n",
        "    + image_locations.label_dir\n",
        "    + \"/\"\n",
        "    + image_locations.filename)\n",
        "\n",
        "  # copy the image into the new directory\n",
        "  for _, image_row in image_locations.iterrows():\n",
        "    # todo: add progress bar here\n",
        "    shutil.copy2(image_row.file_location, image_row.new_location)\n",
        "\n",
        "# partition_data(image_locs)\n",
        "# image_locs.to_csv(\"data/image_partitions.csv\")"
      ],
      "execution_count": null,
      "outputs": []
    },
    {
      "cell_type": "code",
      "metadata": {
        "id": "kID4tb7JninS"
      },
      "source": [
        "IMG_SIZE = 224\n",
        "SIZE = (IMG_SIZE, IMG_SIZE)\n",
        "BATCH_SIZE = 64\n",
        "DATASET_NAME = \"pinterest\"\n",
        "NUM_CLASSES = image_locs.label.nunique()"
      ],
      "execution_count": null,
      "outputs": []
    },
    {
      "cell_type": "code",
      "metadata": {
        "colab": {
          "base_uri": "https://localhost:8080/"
        },
        "id": "AHmMUcA394Pe",
        "outputId": "544061ec-508e-4eca-9816-b5ff5e8f91eb"
      },
      "source": [
        "from tensorflow.keras.preprocessing import image_dataset_from_directory\n",
        "\n",
        "# load in the datasets\n",
        "train_ds = image_dataset_from_directory(\"data/training\", label_mode=\"categorical\")\n",
        "test_ds = image_dataset_from_directory(\"data/testing\", label_mode=\"categorical\")\n",
        "validation_ds = image_dataset_from_directory(\"data/validation\", label_mode=\"categorical\")\n",
        "\n",
        "train_ds"
      ],
      "execution_count": 33,
      "outputs": [
        {
          "output_type": "stream",
          "text": [
            "Found 3989 files belonging to 12 classes.\n",
            "Found 855 files belonging to 12 classes.\n",
            "Found 855 files belonging to 12 classes.\n"
          ],
          "name": "stdout"
        },
        {
          "output_type": "execute_result",
          "data": {
            "text/plain": [
              "<BatchDataset shapes: ((None, 256, 256, 3), (None, 12)), types: (tf.float32, tf.float32)>"
            ]
          },
          "metadata": {
            "tags": []
          },
          "execution_count": 33
        }
      ]
    },
    {
      "cell_type": "code",
      "metadata": {
        "id": "b9PlUUZITMiY"
      },
      "source": [
        "import tensorflow as tf\n",
        "resize_lambda = lambda image, label: (tf.image.resize(image, SIZE), label)\n",
        "\n",
        "def preprocess_dataset(dataset, batch_size=BATCH_SIZE):\n",
        "  dataset = dataset.map(resize_lambda)\n",
        "  # dataset = dataset.batch(batch_size=batch_size, drop_remainder=True)\n",
        "  dataset = dataset.prefetch(tf.data.experimental.AUTOTUNE)\n",
        "  return(dataset)\n",
        "\n",
        "train_ds = preprocess_dataset(train_ds)\n",
        "test_ds = preprocess_dataset(test_ds)\n",
        "validation_ds = preprocess_dataset(validation_ds)"
      ],
      "execution_count": 34,
      "outputs": []
    },
    {
      "cell_type": "code",
      "metadata": {
        "id": "_TC0LqhygPBH"
      },
      "source": [
        "from tensorflow.keras.layers.experimental import preprocessing\n",
        "from tensorflow.keras.models import Sequential\n",
        "from tensorflow.keras import layers\n",
        "\n",
        "img_augmentation = Sequential(\n",
        "    [\n",
        "        preprocessing.RandomRotation(factor=0.15),\n",
        "        preprocessing.RandomTranslation(height_factor=0.1, width_factor=0.1),\n",
        "        preprocessing.RandomFlip(),\n",
        "        preprocessing.RandomContrast(factor=0.1),\n",
        "    ],\n",
        "    name=\"img_augmentation\",\n",
        ")"
      ],
      "execution_count": 35,
      "outputs": []
    },
    {
      "cell_type": "code",
      "metadata": {
        "colab": {
          "base_uri": "https://localhost:8080/",
          "height": 484
        },
        "id": "Cx2oFlYcfHYB",
        "outputId": "1faaeddb-ae2e-43ad-b40b-5d501db4f2ca"
      },
      "source": [
        "import matplotlib.pyplot as plt\n",
        "from tensorflow.keras.preprocessing import image_dataset_from_directory\n",
        "\n",
        "for image, _ in train_ds.take(1):\n",
        "  plt.figure(figsize=(10, 10))\n",
        "\n",
        "  first_image = image[0]\n",
        "  for i in range(9):\n",
        "    ax = plt.subplot(3, 3, i + 1)\n",
        "\n",
        "    augmented_image = img_augmentation(first_image)\n",
        "    plt.imshow(augmented_image[0] / 255)\n",
        "    plt.axis('off')"
      ],
      "execution_count": 36,
      "outputs": [
        {
          "output_type": "error",
          "ename": "InvalidArgumentError",
          "evalue": "ignored",
          "traceback": [
            "\u001b[0;31m---------------------------------------------------------------------------\u001b[0m",
            "\u001b[0;31mInvalidArgumentError\u001b[0m                      Traceback (most recent call last)",
            "\u001b[0;32m<ipython-input-36-96869ee7cb8e>\u001b[0m in \u001b[0;36m<module>\u001b[0;34m()\u001b[0m\n\u001b[1;32m      9\u001b[0m     \u001b[0max\u001b[0m \u001b[0;34m=\u001b[0m \u001b[0mplt\u001b[0m\u001b[0;34m.\u001b[0m\u001b[0msubplot\u001b[0m\u001b[0;34m(\u001b[0m\u001b[0;36m3\u001b[0m\u001b[0;34m,\u001b[0m \u001b[0;36m3\u001b[0m\u001b[0;34m,\u001b[0m \u001b[0mi\u001b[0m \u001b[0;34m+\u001b[0m \u001b[0;36m1\u001b[0m\u001b[0;34m)\u001b[0m\u001b[0;34m\u001b[0m\u001b[0;34m\u001b[0m\u001b[0m\n\u001b[1;32m     10\u001b[0m \u001b[0;34m\u001b[0m\u001b[0m\n\u001b[0;32m---> 11\u001b[0;31m     \u001b[0maugmented_image\u001b[0m \u001b[0;34m=\u001b[0m \u001b[0mimg_augmentation\u001b[0m\u001b[0;34m(\u001b[0m\u001b[0mfirst_image\u001b[0m\u001b[0;34m)\u001b[0m\u001b[0;34m\u001b[0m\u001b[0;34m\u001b[0m\u001b[0m\n\u001b[0m\u001b[1;32m     12\u001b[0m     \u001b[0mplt\u001b[0m\u001b[0;34m.\u001b[0m\u001b[0mimshow\u001b[0m\u001b[0;34m(\u001b[0m\u001b[0maugmented_image\u001b[0m\u001b[0;34m[\u001b[0m\u001b[0;36m0\u001b[0m\u001b[0;34m]\u001b[0m \u001b[0;34m/\u001b[0m \u001b[0;36m255\u001b[0m\u001b[0;34m)\u001b[0m\u001b[0;34m\u001b[0m\u001b[0;34m\u001b[0m\u001b[0m\n\u001b[1;32m     13\u001b[0m     \u001b[0mplt\u001b[0m\u001b[0;34m.\u001b[0m\u001b[0maxis\u001b[0m\u001b[0;34m(\u001b[0m\u001b[0;34m'off'\u001b[0m\u001b[0;34m)\u001b[0m\u001b[0;34m\u001b[0m\u001b[0;34m\u001b[0m\u001b[0m\n",
            "\u001b[0;32m/usr/local/lib/python3.7/dist-packages/tensorflow/python/keras/engine/base_layer.py\u001b[0m in \u001b[0;36m__call__\u001b[0;34m(self, *args, **kwargs)\u001b[0m\n\u001b[1;32m   1010\u001b[0m         with autocast_variable.enable_auto_cast_variables(\n\u001b[1;32m   1011\u001b[0m             self._compute_dtype_object):\n\u001b[0;32m-> 1012\u001b[0;31m           \u001b[0moutputs\u001b[0m \u001b[0;34m=\u001b[0m \u001b[0mcall_fn\u001b[0m\u001b[0;34m(\u001b[0m\u001b[0minputs\u001b[0m\u001b[0;34m,\u001b[0m \u001b[0;34m*\u001b[0m\u001b[0margs\u001b[0m\u001b[0;34m,\u001b[0m \u001b[0;34m**\u001b[0m\u001b[0mkwargs\u001b[0m\u001b[0;34m)\u001b[0m\u001b[0;34m\u001b[0m\u001b[0;34m\u001b[0m\u001b[0m\n\u001b[0m\u001b[1;32m   1013\u001b[0m \u001b[0;34m\u001b[0m\u001b[0m\n\u001b[1;32m   1014\u001b[0m         \u001b[0;32mif\u001b[0m \u001b[0mself\u001b[0m\u001b[0;34m.\u001b[0m\u001b[0m_activity_regularizer\u001b[0m\u001b[0;34m:\u001b[0m\u001b[0;34m\u001b[0m\u001b[0;34m\u001b[0m\u001b[0m\n",
            "\u001b[0;32m/usr/local/lib/python3.7/dist-packages/tensorflow/python/keras/engine/sequential.py\u001b[0m in \u001b[0;36mcall\u001b[0;34m(self, inputs, training, mask)\u001b[0m\n\u001b[1;32m    387\u001b[0m         \u001b[0mkwargs\u001b[0m\u001b[0;34m[\u001b[0m\u001b[0;34m'training'\u001b[0m\u001b[0;34m]\u001b[0m \u001b[0;34m=\u001b[0m \u001b[0mtraining\u001b[0m\u001b[0;34m\u001b[0m\u001b[0;34m\u001b[0m\u001b[0m\n\u001b[1;32m    388\u001b[0m \u001b[0;34m\u001b[0m\u001b[0m\n\u001b[0;32m--> 389\u001b[0;31m       \u001b[0moutputs\u001b[0m \u001b[0;34m=\u001b[0m \u001b[0mlayer\u001b[0m\u001b[0;34m(\u001b[0m\u001b[0minputs\u001b[0m\u001b[0;34m,\u001b[0m \u001b[0;34m**\u001b[0m\u001b[0mkwargs\u001b[0m\u001b[0;34m)\u001b[0m\u001b[0;34m\u001b[0m\u001b[0;34m\u001b[0m\u001b[0m\n\u001b[0m\u001b[1;32m    390\u001b[0m \u001b[0;34m\u001b[0m\u001b[0m\n\u001b[1;32m    391\u001b[0m       \u001b[0;32mif\u001b[0m \u001b[0mlen\u001b[0m\u001b[0;34m(\u001b[0m\u001b[0mnest\u001b[0m\u001b[0;34m.\u001b[0m\u001b[0mflatten\u001b[0m\u001b[0;34m(\u001b[0m\u001b[0moutputs\u001b[0m\u001b[0;34m)\u001b[0m\u001b[0;34m)\u001b[0m \u001b[0;34m!=\u001b[0m \u001b[0;36m1\u001b[0m\u001b[0;34m:\u001b[0m\u001b[0;34m\u001b[0m\u001b[0;34m\u001b[0m\u001b[0m\n",
            "\u001b[0;32m/usr/local/lib/python3.7/dist-packages/tensorflow/python/keras/engine/base_layer.py\u001b[0m in \u001b[0;36m__call__\u001b[0;34m(self, *args, **kwargs)\u001b[0m\n\u001b[1;32m   1010\u001b[0m         with autocast_variable.enable_auto_cast_variables(\n\u001b[1;32m   1011\u001b[0m             self._compute_dtype_object):\n\u001b[0;32m-> 1012\u001b[0;31m           \u001b[0moutputs\u001b[0m \u001b[0;34m=\u001b[0m \u001b[0mcall_fn\u001b[0m\u001b[0;34m(\u001b[0m\u001b[0minputs\u001b[0m\u001b[0;34m,\u001b[0m \u001b[0;34m*\u001b[0m\u001b[0margs\u001b[0m\u001b[0;34m,\u001b[0m \u001b[0;34m**\u001b[0m\u001b[0mkwargs\u001b[0m\u001b[0;34m)\u001b[0m\u001b[0;34m\u001b[0m\u001b[0;34m\u001b[0m\u001b[0m\n\u001b[0m\u001b[1;32m   1013\u001b[0m \u001b[0;34m\u001b[0m\u001b[0m\n\u001b[1;32m   1014\u001b[0m         \u001b[0;32mif\u001b[0m \u001b[0mself\u001b[0m\u001b[0;34m.\u001b[0m\u001b[0m_activity_regularizer\u001b[0m\u001b[0;34m:\u001b[0m\u001b[0;34m\u001b[0m\u001b[0;34m\u001b[0m\u001b[0m\n",
            "\u001b[0;32m/usr/local/lib/python3.7/dist-packages/tensorflow/python/keras/layers/preprocessing/image_preprocessing.py\u001b[0m in \u001b[0;36mcall\u001b[0;34m(self, inputs, training)\u001b[0m\n\u001b[1;32m    865\u001b[0m \u001b[0;34m\u001b[0m\u001b[0m\n\u001b[1;32m    866\u001b[0m     output = control_flow_util.smart_cond(training, random_rotated_inputs,\n\u001b[0;32m--> 867\u001b[0;31m                                           lambda: inputs)\n\u001b[0m\u001b[1;32m    868\u001b[0m     \u001b[0moutput\u001b[0m\u001b[0;34m.\u001b[0m\u001b[0mset_shape\u001b[0m\u001b[0;34m(\u001b[0m\u001b[0minputs\u001b[0m\u001b[0;34m.\u001b[0m\u001b[0mshape\u001b[0m\u001b[0;34m)\u001b[0m\u001b[0;34m\u001b[0m\u001b[0;34m\u001b[0m\u001b[0m\n\u001b[1;32m    869\u001b[0m     \u001b[0;32mreturn\u001b[0m \u001b[0moutput\u001b[0m\u001b[0;34m\u001b[0m\u001b[0;34m\u001b[0m\u001b[0m\n",
            "\u001b[0;32m/usr/local/lib/python3.7/dist-packages/tensorflow/python/keras/utils/control_flow_util.py\u001b[0m in \u001b[0;36msmart_cond\u001b[0;34m(pred, true_fn, false_fn, name)\u001b[0m\n\u001b[1;32m    113\u001b[0m         pred, true_fn=true_fn, false_fn=false_fn, name=name)\n\u001b[1;32m    114\u001b[0m   return smart_module.smart_cond(\n\u001b[0;32m--> 115\u001b[0;31m       pred, true_fn=true_fn, false_fn=false_fn, name=name)\n\u001b[0m\u001b[1;32m    116\u001b[0m \u001b[0;34m\u001b[0m\u001b[0m\n\u001b[1;32m    117\u001b[0m \u001b[0;34m\u001b[0m\u001b[0m\n",
            "\u001b[0;32m/usr/local/lib/python3.7/dist-packages/tensorflow/python/framework/smart_cond.py\u001b[0m in \u001b[0;36msmart_cond\u001b[0;34m(pred, true_fn, false_fn, name)\u001b[0m\n\u001b[1;32m     52\u001b[0m   \u001b[0;32mif\u001b[0m \u001b[0mpred_value\u001b[0m \u001b[0;32mis\u001b[0m \u001b[0;32mnot\u001b[0m \u001b[0;32mNone\u001b[0m\u001b[0;34m:\u001b[0m\u001b[0;34m\u001b[0m\u001b[0;34m\u001b[0m\u001b[0m\n\u001b[1;32m     53\u001b[0m     \u001b[0;32mif\u001b[0m \u001b[0mpred_value\u001b[0m\u001b[0;34m:\u001b[0m\u001b[0;34m\u001b[0m\u001b[0;34m\u001b[0m\u001b[0m\n\u001b[0;32m---> 54\u001b[0;31m       \u001b[0;32mreturn\u001b[0m \u001b[0mtrue_fn\u001b[0m\u001b[0;34m(\u001b[0m\u001b[0;34m)\u001b[0m\u001b[0;34m\u001b[0m\u001b[0;34m\u001b[0m\u001b[0m\n\u001b[0m\u001b[1;32m     55\u001b[0m     \u001b[0;32melse\u001b[0m\u001b[0;34m:\u001b[0m\u001b[0;34m\u001b[0m\u001b[0;34m\u001b[0m\u001b[0m\n\u001b[1;32m     56\u001b[0m       \u001b[0;32mreturn\u001b[0m \u001b[0mfalse_fn\u001b[0m\u001b[0;34m(\u001b[0m\u001b[0;34m)\u001b[0m\u001b[0;34m\u001b[0m\u001b[0;34m\u001b[0m\u001b[0m\n",
            "\u001b[0;32m/usr/local/lib/python3.7/dist-packages/tensorflow/python/keras/layers/preprocessing/image_preprocessing.py\u001b[0m in \u001b[0;36mrandom_rotated_inputs\u001b[0;34m()\u001b[0m\n\u001b[1;32m    862\u001b[0m           \u001b[0mfill_mode\u001b[0m\u001b[0;34m=\u001b[0m\u001b[0mself\u001b[0m\u001b[0;34m.\u001b[0m\u001b[0mfill_mode\u001b[0m\u001b[0;34m,\u001b[0m\u001b[0;34m\u001b[0m\u001b[0;34m\u001b[0m\u001b[0m\n\u001b[1;32m    863\u001b[0m           \u001b[0mfill_value\u001b[0m\u001b[0;34m=\u001b[0m\u001b[0mself\u001b[0m\u001b[0;34m.\u001b[0m\u001b[0mfill_value\u001b[0m\u001b[0;34m,\u001b[0m\u001b[0;34m\u001b[0m\u001b[0;34m\u001b[0m\u001b[0m\n\u001b[0;32m--> 864\u001b[0;31m           interpolation=self.interpolation)\n\u001b[0m\u001b[1;32m    865\u001b[0m \u001b[0;34m\u001b[0m\u001b[0m\n\u001b[1;32m    866\u001b[0m     output = control_flow_util.smart_cond(training, random_rotated_inputs,\n",
            "\u001b[0;32m/usr/local/lib/python3.7/dist-packages/tensorflow/python/keras/layers/preprocessing/image_preprocessing.py\u001b[0m in \u001b[0;36mtransform\u001b[0;34m(images, transforms, fill_mode, fill_value, interpolation, output_shape, name)\u001b[0m\n\u001b[1;32m    710\u001b[0m           \u001b[0mtransforms\u001b[0m\u001b[0;34m=\u001b[0m\u001b[0mtransforms\u001b[0m\u001b[0;34m,\u001b[0m\u001b[0;34m\u001b[0m\u001b[0;34m\u001b[0m\u001b[0m\n\u001b[1;32m    711\u001b[0m           \u001b[0mfill_mode\u001b[0m\u001b[0;34m=\u001b[0m\u001b[0mfill_mode\u001b[0m\u001b[0;34m.\u001b[0m\u001b[0mupper\u001b[0m\u001b[0;34m(\u001b[0m\u001b[0;34m)\u001b[0m\u001b[0;34m,\u001b[0m\u001b[0;34m\u001b[0m\u001b[0;34m\u001b[0m\u001b[0m\n\u001b[0;32m--> 712\u001b[0;31m           interpolation=interpolation.upper())\n\u001b[0m\u001b[1;32m    713\u001b[0m \u001b[0;34m\u001b[0m\u001b[0m\n\u001b[1;32m    714\u001b[0m     return gen_image_ops.ImageProjectiveTransformV2(\n",
            "\u001b[0;32m/usr/local/lib/python3.7/dist-packages/tensorflow/python/util/tf_export.py\u001b[0m in \u001b[0;36mwrapper\u001b[0;34m(*args, **kwargs)\u001b[0m\n\u001b[1;32m    402\u001b[0m           \u001b[0;34m'Please pass these args as kwargs instead.'\u001b[0m\u001b[0;34m\u001b[0m\u001b[0;34m\u001b[0m\u001b[0m\n\u001b[1;32m    403\u001b[0m           .format(f=f.__name__, kwargs=f_argspec.args))\n\u001b[0;32m--> 404\u001b[0;31m     \u001b[0;32mreturn\u001b[0m \u001b[0mf\u001b[0m\u001b[0;34m(\u001b[0m\u001b[0;34m**\u001b[0m\u001b[0mkwargs\u001b[0m\u001b[0;34m)\u001b[0m\u001b[0;34m\u001b[0m\u001b[0;34m\u001b[0m\u001b[0m\n\u001b[0m\u001b[1;32m    405\u001b[0m \u001b[0;34m\u001b[0m\u001b[0m\n\u001b[1;32m    406\u001b[0m   \u001b[0;32mreturn\u001b[0m \u001b[0mtf_decorator\u001b[0m\u001b[0;34m.\u001b[0m\u001b[0mmake_decorator\u001b[0m\u001b[0;34m(\u001b[0m\u001b[0mf\u001b[0m\u001b[0;34m,\u001b[0m \u001b[0mwrapper\u001b[0m\u001b[0;34m,\u001b[0m \u001b[0mdecorator_argspec\u001b[0m\u001b[0;34m=\u001b[0m\u001b[0mf_argspec\u001b[0m\u001b[0;34m)\u001b[0m\u001b[0;34m\u001b[0m\u001b[0;34m\u001b[0m\u001b[0m\n",
            "\u001b[0;32m/usr/local/lib/python3.7/dist-packages/tensorflow/python/ops/gen_image_ops.py\u001b[0m in \u001b[0;36mimage_projective_transform_v3\u001b[0;34m(images, transforms, output_shape, fill_value, interpolation, fill_mode, name)\u001b[0m\n\u001b[1;32m   2441\u001b[0m       \u001b[0;32mreturn\u001b[0m \u001b[0m_result\u001b[0m\u001b[0;34m\u001b[0m\u001b[0;34m\u001b[0m\u001b[0m\n\u001b[1;32m   2442\u001b[0m     \u001b[0;32mexcept\u001b[0m \u001b[0m_core\u001b[0m\u001b[0;34m.\u001b[0m\u001b[0m_NotOkStatusException\u001b[0m \u001b[0;32mas\u001b[0m \u001b[0me\u001b[0m\u001b[0;34m:\u001b[0m\u001b[0;34m\u001b[0m\u001b[0;34m\u001b[0m\u001b[0m\n\u001b[0;32m-> 2443\u001b[0;31m       \u001b[0m_ops\u001b[0m\u001b[0;34m.\u001b[0m\u001b[0mraise_from_not_ok_status\u001b[0m\u001b[0;34m(\u001b[0m\u001b[0me\u001b[0m\u001b[0;34m,\u001b[0m \u001b[0mname\u001b[0m\u001b[0;34m)\u001b[0m\u001b[0;34m\u001b[0m\u001b[0;34m\u001b[0m\u001b[0m\n\u001b[0m\u001b[1;32m   2444\u001b[0m     \u001b[0;32mexcept\u001b[0m \u001b[0m_core\u001b[0m\u001b[0;34m.\u001b[0m\u001b[0m_FallbackException\u001b[0m\u001b[0;34m:\u001b[0m\u001b[0;34m\u001b[0m\u001b[0;34m\u001b[0m\u001b[0m\n\u001b[1;32m   2445\u001b[0m       \u001b[0;32mpass\u001b[0m\u001b[0;34m\u001b[0m\u001b[0;34m\u001b[0m\u001b[0m\n",
            "\u001b[0;32m/usr/local/lib/python3.7/dist-packages/tensorflow/python/framework/ops.py\u001b[0m in \u001b[0;36mraise_from_not_ok_status\u001b[0;34m(e, name)\u001b[0m\n\u001b[1;32m   6860\u001b[0m   \u001b[0mmessage\u001b[0m \u001b[0;34m=\u001b[0m \u001b[0me\u001b[0m\u001b[0;34m.\u001b[0m\u001b[0mmessage\u001b[0m \u001b[0;34m+\u001b[0m \u001b[0;34m(\u001b[0m\u001b[0;34m\" name: \"\u001b[0m \u001b[0;34m+\u001b[0m \u001b[0mname\u001b[0m \u001b[0;32mif\u001b[0m \u001b[0mname\u001b[0m \u001b[0;32mis\u001b[0m \u001b[0;32mnot\u001b[0m \u001b[0;32mNone\u001b[0m \u001b[0;32melse\u001b[0m \u001b[0;34m\"\"\u001b[0m\u001b[0;34m)\u001b[0m\u001b[0;34m\u001b[0m\u001b[0;34m\u001b[0m\u001b[0m\n\u001b[1;32m   6861\u001b[0m   \u001b[0;31m# pylint: disable=protected-access\u001b[0m\u001b[0;34m\u001b[0m\u001b[0;34m\u001b[0m\u001b[0;34m\u001b[0m\u001b[0m\n\u001b[0;32m-> 6862\u001b[0;31m   \u001b[0msix\u001b[0m\u001b[0;34m.\u001b[0m\u001b[0mraise_from\u001b[0m\u001b[0;34m(\u001b[0m\u001b[0mcore\u001b[0m\u001b[0;34m.\u001b[0m\u001b[0m_status_to_exception\u001b[0m\u001b[0;34m(\u001b[0m\u001b[0me\u001b[0m\u001b[0;34m.\u001b[0m\u001b[0mcode\u001b[0m\u001b[0;34m,\u001b[0m \u001b[0mmessage\u001b[0m\u001b[0;34m)\u001b[0m\u001b[0;34m,\u001b[0m \u001b[0;32mNone\u001b[0m\u001b[0;34m)\u001b[0m\u001b[0;34m\u001b[0m\u001b[0;34m\u001b[0m\u001b[0m\n\u001b[0m\u001b[1;32m   6863\u001b[0m   \u001b[0;31m# pylint: enable=protected-access\u001b[0m\u001b[0;34m\u001b[0m\u001b[0;34m\u001b[0m\u001b[0;34m\u001b[0m\u001b[0m\n\u001b[1;32m   6864\u001b[0m \u001b[0;34m\u001b[0m\u001b[0m\n",
            "\u001b[0;32m/usr/local/lib/python3.7/dist-packages/six.py\u001b[0m in \u001b[0;36mraise_from\u001b[0;34m(value, from_value)\u001b[0m\n",
            "\u001b[0;31mInvalidArgumentError\u001b[0m: Input images must have rank 4 [Op:ImageProjectiveTransformV3]"
          ]
        },
        {
          "output_type": "display_data",
          "data": {
            "image/png": "[encoded data removed]",
            "text/plain": [
              "<Figure size 720x720 with 1 Axes>"
            ]
          },
          "metadata": {
            "tags": [],
            "needs_background": "light"
          }
        }
      ]
    },
    {
      "cell_type": "code",
      "metadata": {
        "colab": {
          "base_uri": "https://localhost:8080/"
        },
        "id": "r-atT1hSZjg2",
        "outputId": "76dd1b2e-04f3-4680-bb2d-a521e4091a96"
      },
      "source": [
        "from tensorflow.keras.applications import EfficientNetB0\n",
        "\n",
        "IMG_SHAPE = SIZE + (3,)\n",
        "\n",
        "base_model = tf.keras.applications.EfficientNetB0(\n",
        "    input_shape=IMG_SHAPE,\n",
        "    include_top=False,\n",
        "    weights=\"imagenet\")\n",
        "base_model.trainable = False\n",
        "\n",
        "image_batch, label_batch = next(iter(train_ds))\n",
        "feature_batch = base_model(image_batch)\n",
        "\n",
        "print(feature_batch.shape)"
      ],
      "execution_count": 38,
      "outputs": [
        {
          "output_type": "stream",
          "text": [
            "(32, 7, 7, 1280)\n"
          ],
          "name": "stdout"
        }
      ]
    },
    {
      "cell_type": "code",
      "metadata": {
        "colab": {
          "base_uri": "https://localhost:8080/"
        },
        "id": "D4gmZTB-buoV",
        "outputId": "40ebb00d-3919-46dc-b0fd-f90eb1d7dc2d"
      },
      "source": [
        "global_average_layer = tf.keras.layers.GlobalAveragePooling2D()\n",
        "feature_batch_average = global_average_layer(feature_batch)\n",
        "\n",
        "print(feature_batch_average.shape)"
      ],
      "execution_count": 39,
      "outputs": [
        {
          "output_type": "stream",
          "text": [
            "(32, 1280)\n"
          ],
          "name": "stdout"
        }
      ]
    },
    {
      "cell_type": "code",
      "metadata": {
        "colab": {
          "base_uri": "https://localhost:8080/"
        },
        "id": "Pys_b5bhb5sd",
        "outputId": "9705fdd0-4726-4f03-a1b4-71f928fe1332"
      },
      "source": [
        "prediction_layer = tf.keras.layers.Dense(NUM_CLASSES, activation=\"softmax\")\n",
        "prediction_batch = prediction_layer(feature_batch_average)\n",
        "\n",
        "print(prediction_batch.shape)"
      ],
      "execution_count": 40,
      "outputs": [
        {
          "output_type": "stream",
          "text": [
            "(32, 12)\n"
          ],
          "name": "stdout"
        }
      ]
    },
    {
      "cell_type": "code",
      "metadata": {
        "id": "8Wu9v_29cvAB"
      },
      "source": [
        "preprocess_input = tf.keras.applications.efficientnet.preprocess_input"
      ],
      "execution_count": 41,
      "outputs": []
    },
    {
      "cell_type": "code",
      "metadata": {
        "id": "_wa5phkwb-53"
      },
      "source": [
        "inputs = tf.keras.Input(shape=IMG_SHAPE)\n",
        "x = img_augmentation(inputs)\n",
        "x = preprocess_input(x)\n",
        "x = base_model(x, training=False)\n",
        "x = global_average_layer(x)\n",
        "x = tf.keras.layers.Dropout(0.2)(x)\n",
        "outputs = prediction_layer(x)\n",
        "model = tf.keras.Model(inputs, outputs)"
      ],
      "execution_count": 42,
      "outputs": []
    },
    {
      "cell_type": "code",
      "metadata": {
        "colab": {
          "base_uri": "https://localhost:8080/"
        },
        "id": "VQO8lyzoc3q1",
        "outputId": "b9cc293b-260d-468e-fd4c-2513c5fe2d0d"
      },
      "source": [
        "base_learning_rate = 0.0001\n",
        "model.compile(optimizer=tf.keras.optimizers.Adam(lr=base_learning_rate),\n",
        "              loss=tf.keras.losses.CategoricalCrossentropy(from_logits=True),\n",
        "              metrics=[\"accuracy\"])\n",
        "\n",
        "len(model.trainable_variables)"
      ],
      "execution_count": 45,
      "outputs": [
        {
          "output_type": "execute_result",
          "data": {
            "text/plain": [
              "2"
            ]
          },
          "metadata": {
            "tags": []
          },
          "execution_count": 45
        }
      ]
    },
    {
      "cell_type": "code",
      "metadata": {
        "colab": {
          "base_uri": "https://localhost:8080/"
        },
        "id": "47-5L1Jcc-BX",
        "outputId": "02308a58-a2de-43e3-e05d-34846a7e51ff"
      },
      "source": [
        "initial_epochs = 10\n",
        "\n",
        "loss0, accuracy0 = model.evaluate(validation_ds)\n"
      ],
      "execution_count": 46,
      "outputs": [
        {
          "output_type": "stream",
          "text": [
            "27/27 [==============================] - 170s 4s/step - loss: 2.6391 - accuracy: 0.0519\n"
          ],
          "name": "stdout"
        }
      ]
    },
    {
      "cell_type": "code",
      "metadata": {
        "colab": {
          "base_uri": "https://localhost:8080/"
        },
        "id": "xIhvCs1PdEM8",
        "outputId": "dd56c821-05f3-4609-9b69-c2ceb2d3a5d3"
      },
      "source": [
        "print(\"initial loss: {:.2f}\".format(loss0))\n",
        "print(\"initial accuracy: {:.2f}\".format(accuracy0))"
      ],
      "execution_count": 47,
      "outputs": [
        {
          "output_type": "stream",
          "text": [
            "initial loss: 2.63\n",
            "initial accuracy: 0.05\n"
          ],
          "name": "stdout"
        }
      ]
    },
    {
      "cell_type": "code",
      "metadata": {
        "colab": {
          "base_uri": "https://localhost:8080/"
        },
        "id": "4U37R1jedF-g",
        "outputId": "09ad4b50-b74c-45db-a142-d396e105bba1"
      },
      "source": [
        "history = model.fit(\n",
        "    train_ds,\n",
        "    epochs=initial_epochs,\n",
        "    validation_data=validation_ds)"
      ],
      "execution_count": 48,
      "outputs": [
        {
          "output_type": "stream",
          "text": [
            "Epoch 1/10\n",
            "125/125 [==============================] - 361s 3s/step - loss: 2.2928 - accuracy: 0.2091 - val_loss: 1.9356 - val_accuracy: 0.4140\n",
            "Epoch 2/10\n",
            "125/125 [==============================] - 352s 3s/step - loss: 1.7614 - accuracy: 0.4811 - val_loss: 1.5208 - val_accuracy: 0.5906\n",
            "Epoch 3/10\n",
            "125/125 [==============================] - 352s 3s/step - loss: 1.4333 - accuracy: 0.6064 - val_loss: 1.2672 - val_accuracy: 0.6561\n",
            "Epoch 4/10\n",
            "125/125 [==============================] - 352s 3s/step - loss: 1.2291 - accuracy: 0.6596 - val_loss: 1.1105 - val_accuracy: 0.7018\n",
            "Epoch 5/10\n",
            "125/125 [==============================] - 347s 3s/step - loss: 1.1021 - accuracy: 0.6799 - val_loss: 1.0053 - val_accuracy: 0.7228\n",
            "Epoch 6/10\n",
            "125/125 [==============================] - 348s 3s/step - loss: 1.0096 - accuracy: 0.7002 - val_loss: 0.9331 - val_accuracy: 0.7263\n",
            "Epoch 7/10\n",
            "125/125 [==============================] - 349s 3s/step - loss: 0.9364 - accuracy: 0.7190 - val_loss: 0.8801 - val_accuracy: 0.7333\n",
            "Epoch 8/10\n",
            "125/125 [==============================] - 351s 3s/step - loss: 0.8898 - accuracy: 0.7285 - val_loss: 0.8381 - val_accuracy: 0.7380\n",
            "Epoch 9/10\n",
            "125/125 [==============================] - 350s 3s/step - loss: 0.8470 - accuracy: 0.7358 - val_loss: 0.8046 - val_accuracy: 0.7427\n",
            "Epoch 10/10\n",
            "125/125 [==============================] - 349s 3s/step - loss: 0.8128 - accuracy: 0.7408 - val_loss: 0.7795 - val_accuracy: 0.7497\n"
          ],
          "name": "stdout"
        }
      ]
    },
    {
      "cell_type": "code",
      "metadata": {
        "colab": {
          "base_uri": "https://localhost:8080/",
          "height": 513
        },
        "id": "j77Kvt6ydLyn",
        "outputId": "091f82ba-af94-47cd-fb14-c640de221530"
      },
      "source": [
        "acc = history.history['accuracy']\n",
        "val_acc = history.history['val_accuracy']\n",
        "\n",
        "loss = history.history['loss']\n",
        "val_loss = history.history['val_loss']\n",
        "\n",
        "plt.figure(figsize=(8, 8))\n",
        "plt.subplot(2, 1, 1)\n",
        "plt.plot(acc, label='Training Accuracy')\n",
        "plt.plot(val_acc, label='Validation Accuracy')\n",
        "plt.legend(loc='lower right')\n",
        "plt.ylabel('Accuracy')\n",
        "plt.ylim([min(plt.ylim()),1])\n",
        "plt.title('Training and Validation Accuracy')\n",
        "\n",
        "plt.subplot(2, 1, 2)\n",
        "plt.plot(loss, label='Training Loss')\n",
        "plt.plot(val_loss, label='Validation Loss')\n",
        "plt.legend(loc='upper right')\n",
        "plt.ylabel('Cross Entropy')\n",
        "plt.ylim([0, 2.5])\n",
        "plt.title('Training and Validation Loss')\n",
        "plt.xlabel('epoch')\n",
        "plt.show()\n"
      ],
      "execution_count": 52,
      "outputs": [
        {
          "output_type": "display_data",
          "data": {
            "image/png": "[encoded data removed]",
            "text/plain": [
              "<Figure size 576x576 with 2 Axes>"
            ]
          },
          "metadata": {
            "tags": [],
            "needs_background": "light"
          }
        }
      ]
    },
    {
      "cell_type": "code",
      "metadata": {
        "colab": {
          "base_uri": "https://localhost:8080/"
        },
        "id": "8B0I5dEVr5P0",
        "outputId": "901e17fd-f910-441b-d4b8-e09300b69704"
      },
      "source": [
        "# save the model\n",
        "model.save(\"model\")"
      ],
      "execution_count": 53,
      "outputs": [
        {
          "output_type": "stream",
          "text": [
            "INFO:tensorflow:Assets written to: model/assets\n"
          ],
          "name": "stdout"
        }
      ]
    }
  ]
}